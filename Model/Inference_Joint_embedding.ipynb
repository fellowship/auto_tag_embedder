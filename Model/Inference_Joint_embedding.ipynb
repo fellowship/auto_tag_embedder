{
  "nbformat": 4,
  "nbformat_minor": 0,
  "metadata": {
    "colab": {
      "name": "Inference_Joint_embedding.ipynb",
      "provenance": []
    },
    "kernelspec": {
      "name": "python3",
      "display_name": "Python 3"
    },
    "accelerator": "GPU",
    "widgets": {
      "application/vnd.jupyter.widget-state+json": {
        "54ead2b9a13644458f5dd785a0b505d1": {
          "model_module": "@jupyter-widgets/controls",
          "model_name": "HBoxModel",
          "state": {
            "_view_name": "HBoxView",
            "_dom_classes": [],
            "_model_name": "HBoxModel",
            "_view_module": "@jupyter-widgets/controls",
            "_model_module_version": "1.5.0",
            "_view_count": null,
            "_view_module_version": "1.5.0",
            "box_style": "",
            "layout": "IPY_MODEL_ef69782132734520b009bb7ab590b497",
            "_model_module": "@jupyter-widgets/controls",
            "children": [
              "IPY_MODEL_2198d9dd97c5489ebaa05e216c693983",
              "IPY_MODEL_a47aaf8f4a3b4732b1e5eb4751725a35"
            ]
          }
        },
        "ef69782132734520b009bb7ab590b497": {
          "model_module": "@jupyter-widgets/base",
          "model_name": "LayoutModel",
          "state": {
            "_view_name": "LayoutView",
            "grid_template_rows": null,
            "right": null,
            "justify_content": null,
            "_view_module": "@jupyter-widgets/base",
            "overflow": null,
            "_model_module_version": "1.2.0",
            "_view_count": null,
            "flex_flow": null,
            "width": null,
            "min_width": null,
            "border": null,
            "align_items": null,
            "bottom": null,
            "_model_module": "@jupyter-widgets/base",
            "top": null,
            "grid_column": null,
            "overflow_y": null,
            "overflow_x": null,
            "grid_auto_flow": null,
            "grid_area": null,
            "grid_template_columns": null,
            "flex": null,
            "_model_name": "LayoutModel",
            "justify_items": null,
            "grid_row": null,
            "max_height": null,
            "align_content": null,
            "visibility": null,
            "align_self": null,
            "height": null,
            "min_height": null,
            "padding": null,
            "grid_auto_rows": null,
            "grid_gap": null,
            "max_width": null,
            "order": null,
            "_view_module_version": "1.2.0",
            "grid_template_areas": null,
            "object_position": null,
            "object_fit": null,
            "grid_auto_columns": null,
            "margin": null,
            "display": null,
            "left": null
          }
        },
        "2198d9dd97c5489ebaa05e216c693983": {
          "model_module": "@jupyter-widgets/controls",
          "model_name": "FloatProgressModel",
          "state": {
            "_view_name": "ProgressView",
            "style": "IPY_MODEL_da4cc81229be4864a9ff0e80e210d1b0",
            "_dom_classes": [],
            "description": "100%",
            "_model_name": "FloatProgressModel",
            "bar_style": "success",
            "max": 87306240,
            "_view_module": "@jupyter-widgets/controls",
            "_model_module_version": "1.5.0",
            "value": 87306240,
            "_view_count": null,
            "_view_module_version": "1.5.0",
            "orientation": "horizontal",
            "min": 0,
            "description_tooltip": null,
            "_model_module": "@jupyter-widgets/controls",
            "layout": "IPY_MODEL_453ddaadadf448518ba895ca72c52db7"
          }
        },
        "a47aaf8f4a3b4732b1e5eb4751725a35": {
          "model_module": "@jupyter-widgets/controls",
          "model_name": "HTMLModel",
          "state": {
            "_view_name": "HTMLView",
            "style": "IPY_MODEL_642a2e298d7547aa9d6ddcc8c44d0d38",
            "_dom_classes": [],
            "description": "",
            "_model_name": "HTMLModel",
            "placeholder": "​",
            "_view_module": "@jupyter-widgets/controls",
            "_model_module_version": "1.5.0",
            "value": " 83.3M/83.3M [00:04&lt;00:00, 17.7MB/s]",
            "_view_count": null,
            "_view_module_version": "1.5.0",
            "description_tooltip": null,
            "_model_module": "@jupyter-widgets/controls",
            "layout": "IPY_MODEL_f219652571324851b63c4883754b0588"
          }
        },
        "da4cc81229be4864a9ff0e80e210d1b0": {
          "model_module": "@jupyter-widgets/controls",
          "model_name": "ProgressStyleModel",
          "state": {
            "_view_name": "StyleView",
            "_model_name": "ProgressStyleModel",
            "description_width": "initial",
            "_view_module": "@jupyter-widgets/base",
            "_model_module_version": "1.5.0",
            "_view_count": null,
            "_view_module_version": "1.2.0",
            "bar_color": null,
            "_model_module": "@jupyter-widgets/controls"
          }
        },
        "453ddaadadf448518ba895ca72c52db7": {
          "model_module": "@jupyter-widgets/base",
          "model_name": "LayoutModel",
          "state": {
            "_view_name": "LayoutView",
            "grid_template_rows": null,
            "right": null,
            "justify_content": null,
            "_view_module": "@jupyter-widgets/base",
            "overflow": null,
            "_model_module_version": "1.2.0",
            "_view_count": null,
            "flex_flow": null,
            "width": null,
            "min_width": null,
            "border": null,
            "align_items": null,
            "bottom": null,
            "_model_module": "@jupyter-widgets/base",
            "top": null,
            "grid_column": null,
            "overflow_y": null,
            "overflow_x": null,
            "grid_auto_flow": null,
            "grid_area": null,
            "grid_template_columns": null,
            "flex": null,
            "_model_name": "LayoutModel",
            "justify_items": null,
            "grid_row": null,
            "max_height": null,
            "align_content": null,
            "visibility": null,
            "align_self": null,
            "height": null,
            "min_height": null,
            "padding": null,
            "grid_auto_rows": null,
            "grid_gap": null,
            "max_width": null,
            "order": null,
            "_view_module_version": "1.2.0",
            "grid_template_areas": null,
            "object_position": null,
            "object_fit": null,
            "grid_auto_columns": null,
            "margin": null,
            "display": null,
            "left": null
          }
        },
        "642a2e298d7547aa9d6ddcc8c44d0d38": {
          "model_module": "@jupyter-widgets/controls",
          "model_name": "DescriptionStyleModel",
          "state": {
            "_view_name": "StyleView",
            "_model_name": "DescriptionStyleModel",
            "description_width": "",
            "_view_module": "@jupyter-widgets/base",
            "_model_module_version": "1.5.0",
            "_view_count": null,
            "_view_module_version": "1.2.0",
            "_model_module": "@jupyter-widgets/controls"
          }
        },
        "f219652571324851b63c4883754b0588": {
          "model_module": "@jupyter-widgets/base",
          "model_name": "LayoutModel",
          "state": {
            "_view_name": "LayoutView",
            "grid_template_rows": null,
            "right": null,
            "justify_content": null,
            "_view_module": "@jupyter-widgets/base",
            "overflow": null,
            "_model_module_version": "1.2.0",
            "_view_count": null,
            "flex_flow": null,
            "width": null,
            "min_width": null,
            "border": null,
            "align_items": null,
            "bottom": null,
            "_model_module": "@jupyter-widgets/base",
            "top": null,
            "grid_column": null,
            "overflow_y": null,
            "overflow_x": null,
            "grid_auto_flow": null,
            "grid_area": null,
            "grid_template_columns": null,
            "flex": null,
            "_model_name": "LayoutModel",
            "justify_items": null,
            "grid_row": null,
            "max_height": null,
            "align_content": null,
            "visibility": null,
            "align_self": null,
            "height": null,
            "min_height": null,
            "padding": null,
            "grid_auto_rows": null,
            "grid_gap": null,
            "max_width": null,
            "order": null,
            "_view_module_version": "1.2.0",
            "grid_template_areas": null,
            "object_position": null,
            "object_fit": null,
            "grid_auto_columns": null,
            "margin": null,
            "display": null,
            "left": null
          }
        },
        "da81f3b226264ef0a07c4162586ea3a3": {
          "model_module": "@jupyter-widgets/controls",
          "model_name": "HBoxModel",
          "state": {
            "_view_name": "HBoxView",
            "_dom_classes": [],
            "_model_name": "HBoxModel",
            "_view_module": "@jupyter-widgets/controls",
            "_model_module_version": "1.5.0",
            "_view_count": null,
            "_view_module_version": "1.5.0",
            "box_style": "",
            "layout": "IPY_MODEL_b5b0b582f30042729213117385c46357",
            "_model_module": "@jupyter-widgets/controls",
            "children": [
              "IPY_MODEL_4fc95f9db6ae475399f9d38f91643d1f",
              "IPY_MODEL_6b951fb5fcd34a0f83ae0b64710a69f0"
            ]
          }
        },
        "b5b0b582f30042729213117385c46357": {
          "model_module": "@jupyter-widgets/base",
          "model_name": "LayoutModel",
          "state": {
            "_view_name": "LayoutView",
            "grid_template_rows": null,
            "right": null,
            "justify_content": null,
            "_view_module": "@jupyter-widgets/base",
            "overflow": null,
            "_model_module_version": "1.2.0",
            "_view_count": null,
            "flex_flow": null,
            "width": null,
            "min_width": null,
            "border": null,
            "align_items": null,
            "bottom": null,
            "_model_module": "@jupyter-widgets/base",
            "top": null,
            "grid_column": null,
            "overflow_y": null,
            "overflow_x": null,
            "grid_auto_flow": null,
            "grid_area": null,
            "grid_template_columns": null,
            "flex": null,
            "_model_name": "LayoutModel",
            "justify_items": null,
            "grid_row": null,
            "max_height": null,
            "align_content": null,
            "visibility": null,
            "align_self": null,
            "height": null,
            "min_height": null,
            "padding": null,
            "grid_auto_rows": null,
            "grid_gap": null,
            "max_width": null,
            "order": null,
            "_view_module_version": "1.2.0",
            "grid_template_areas": null,
            "object_position": null,
            "object_fit": null,
            "grid_auto_columns": null,
            "margin": null,
            "display": null,
            "left": null
          }
        },
        "4fc95f9db6ae475399f9d38f91643d1f": {
          "model_module": "@jupyter-widgets/controls",
          "model_name": "FloatProgressModel",
          "state": {
            "_view_name": "ProgressView",
            "style": "IPY_MODEL_db398acd66bb4a04aadaf0e160b89595",
            "_dom_classes": [],
            "description": "100%",
            "_model_name": "FloatProgressModel",
            "bar_style": "success",
            "max": 9,
            "_view_module": "@jupyter-widgets/controls",
            "_model_module_version": "1.5.0",
            "value": 9,
            "_view_count": null,
            "_view_module_version": "1.5.0",
            "orientation": "horizontal",
            "min": 0,
            "description_tooltip": null,
            "_model_module": "@jupyter-widgets/controls",
            "layout": "IPY_MODEL_a36bf8a758354084a9d77c5e9ee5f3ee"
          }
        },
        "6b951fb5fcd34a0f83ae0b64710a69f0": {
          "model_module": "@jupyter-widgets/controls",
          "model_name": "HTMLModel",
          "state": {
            "_view_name": "HTMLView",
            "style": "IPY_MODEL_e4234f1687ab4e6aadfe6b9c41437fd6",
            "_dom_classes": [],
            "description": "",
            "_model_name": "HTMLModel",
            "placeholder": "​",
            "_view_module": "@jupyter-widgets/controls",
            "_model_module_version": "1.5.0",
            "value": " 9/9 [01:20&lt;00:00,  8.95s/it]",
            "_view_count": null,
            "_view_module_version": "1.5.0",
            "description_tooltip": null,
            "_model_module": "@jupyter-widgets/controls",
            "layout": "IPY_MODEL_7d722a3c39504a3888eee9437b492a15"
          }
        },
        "db398acd66bb4a04aadaf0e160b89595": {
          "model_module": "@jupyter-widgets/controls",
          "model_name": "ProgressStyleModel",
          "state": {
            "_view_name": "StyleView",
            "_model_name": "ProgressStyleModel",
            "description_width": "initial",
            "_view_module": "@jupyter-widgets/base",
            "_model_module_version": "1.5.0",
            "_view_count": null,
            "_view_module_version": "1.2.0",
            "bar_color": null,
            "_model_module": "@jupyter-widgets/controls"
          }
        },
        "a36bf8a758354084a9d77c5e9ee5f3ee": {
          "model_module": "@jupyter-widgets/base",
          "model_name": "LayoutModel",
          "state": {
            "_view_name": "LayoutView",
            "grid_template_rows": null,
            "right": null,
            "justify_content": null,
            "_view_module": "@jupyter-widgets/base",
            "overflow": null,
            "_model_module_version": "1.2.0",
            "_view_count": null,
            "flex_flow": null,
            "width": null,
            "min_width": null,
            "border": null,
            "align_items": null,
            "bottom": null,
            "_model_module": "@jupyter-widgets/base",
            "top": null,
            "grid_column": null,
            "overflow_y": null,
            "overflow_x": null,
            "grid_auto_flow": null,
            "grid_area": null,
            "grid_template_columns": null,
            "flex": null,
            "_model_name": "LayoutModel",
            "justify_items": null,
            "grid_row": null,
            "max_height": null,
            "align_content": null,
            "visibility": null,
            "align_self": null,
            "height": null,
            "min_height": null,
            "padding": null,
            "grid_auto_rows": null,
            "grid_gap": null,
            "max_width": null,
            "order": null,
            "_view_module_version": "1.2.0",
            "grid_template_areas": null,
            "object_position": null,
            "object_fit": null,
            "grid_auto_columns": null,
            "margin": null,
            "display": null,
            "left": null
          }
        },
        "e4234f1687ab4e6aadfe6b9c41437fd6": {
          "model_module": "@jupyter-widgets/controls",
          "model_name": "DescriptionStyleModel",
          "state": {
            "_view_name": "StyleView",
            "_model_name": "DescriptionStyleModel",
            "description_width": "",
            "_view_module": "@jupyter-widgets/base",
            "_model_module_version": "1.5.0",
            "_view_count": null,
            "_view_module_version": "1.2.0",
            "_model_module": "@jupyter-widgets/controls"
          }
        },
        "7d722a3c39504a3888eee9437b492a15": {
          "model_module": "@jupyter-widgets/base",
          "model_name": "LayoutModel",
          "state": {
            "_view_name": "LayoutView",
            "grid_template_rows": null,
            "right": null,
            "justify_content": null,
            "_view_module": "@jupyter-widgets/base",
            "overflow": null,
            "_model_module_version": "1.2.0",
            "_view_count": null,
            "flex_flow": null,
            "width": null,
            "min_width": null,
            "border": null,
            "align_items": null,
            "bottom": null,
            "_model_module": "@jupyter-widgets/base",
            "top": null,
            "grid_column": null,
            "overflow_y": null,
            "overflow_x": null,
            "grid_auto_flow": null,
            "grid_area": null,
            "grid_template_columns": null,
            "flex": null,
            "_model_name": "LayoutModel",
            "justify_items": null,
            "grid_row": null,
            "max_height": null,
            "align_content": null,
            "visibility": null,
            "align_self": null,
            "height": null,
            "min_height": null,
            "padding": null,
            "grid_auto_rows": null,
            "grid_gap": null,
            "max_width": null,
            "order": null,
            "_view_module_version": "1.2.0",
            "grid_template_areas": null,
            "object_position": null,
            "object_fit": null,
            "grid_auto_columns": null,
            "margin": null,
            "display": null,
            "left": null
          }
        },
        "916403454c664d339f5b2094917caa2f": {
          "model_module": "@jupyter-widgets/controls",
          "model_name": "DropdownModel",
          "state": {
            "_options_labels": [
              "All",
              "Women",
              "Men",
              "Unisex",
              "Boys",
              "Girls"
            ],
            "_view_name": "DropdownView",
            "style": "IPY_MODEL_910711b4adc64d168881f7c54204df84",
            "_dom_classes": [],
            "description": "Gender:",
            "_model_name": "DropdownModel",
            "index": 0,
            "_view_module": "@jupyter-widgets/controls",
            "_model_module_version": "1.5.0",
            "_view_count": null,
            "disabled": false,
            "_view_module_version": "1.5.0",
            "description_tooltip": null,
            "_model_module": "@jupyter-widgets/controls",
            "layout": "IPY_MODEL_3c5a760b3445484692c3bab26ee5f249"
          }
        },
        "910711b4adc64d168881f7c54204df84": {
          "model_module": "@jupyter-widgets/controls",
          "model_name": "DescriptionStyleModel",
          "state": {
            "_view_name": "StyleView",
            "_model_name": "DescriptionStyleModel",
            "description_width": "",
            "_view_module": "@jupyter-widgets/base",
            "_model_module_version": "1.5.0",
            "_view_count": null,
            "_view_module_version": "1.2.0",
            "_model_module": "@jupyter-widgets/controls"
          }
        },
        "3c5a760b3445484692c3bab26ee5f249": {
          "model_module": "@jupyter-widgets/base",
          "model_name": "LayoutModel",
          "state": {
            "_view_name": "LayoutView",
            "grid_template_rows": null,
            "right": null,
            "justify_content": null,
            "_view_module": "@jupyter-widgets/base",
            "overflow": null,
            "_model_module_version": "1.2.0",
            "_view_count": null,
            "flex_flow": null,
            "width": null,
            "min_width": null,
            "border": null,
            "align_items": null,
            "bottom": null,
            "_model_module": "@jupyter-widgets/base",
            "top": null,
            "grid_column": null,
            "overflow_y": null,
            "overflow_x": null,
            "grid_auto_flow": null,
            "grid_area": null,
            "grid_template_columns": null,
            "flex": null,
            "_model_name": "LayoutModel",
            "justify_items": null,
            "grid_row": null,
            "max_height": null,
            "align_content": null,
            "visibility": null,
            "align_self": null,
            "height": null,
            "min_height": null,
            "padding": null,
            "grid_auto_rows": null,
            "grid_gap": null,
            "max_width": null,
            "order": null,
            "_view_module_version": "1.2.0",
            "grid_template_areas": null,
            "object_position": null,
            "object_fit": null,
            "grid_auto_columns": null,
            "margin": null,
            "display": null,
            "left": null
          }
        },
        "246b154b4b554b3e88af53b653359e32": {
          "model_module": "@jupyter-widgets/controls",
          "model_name": "DropdownModel",
          "state": {
            "_options_labels": [
              "All",
              "Shirts, TShirts, Tops & Winterwear",
              "Sandals, Flats, Heels & Shoes",
              "Night suits",
              "Skirts & Dresses",
              "Trousers, Track Pants, Capris & Lounge Pants",
              "Jeans",
              "Shorts"
            ],
            "_view_name": "DropdownView",
            "style": "IPY_MODEL_699830157c5743569454a55e18722608",
            "_dom_classes": [],
            "description": "Item Type:",
            "_model_name": "DropdownModel",
            "index": 0,
            "_view_module": "@jupyter-widgets/controls",
            "_model_module_version": "1.5.0",
            "_view_count": null,
            "disabled": false,
            "_view_module_version": "1.5.0",
            "description_tooltip": null,
            "_model_module": "@jupyter-widgets/controls",
            "layout": "IPY_MODEL_850161b8bcb64d2195e1a71e07f702b6"
          }
        },
        "699830157c5743569454a55e18722608": {
          "model_module": "@jupyter-widgets/controls",
          "model_name": "DescriptionStyleModel",
          "state": {
            "_view_name": "StyleView",
            "_model_name": "DescriptionStyleModel",
            "description_width": "",
            "_view_module": "@jupyter-widgets/base",
            "_model_module_version": "1.5.0",
            "_view_count": null,
            "_view_module_version": "1.2.0",
            "_model_module": "@jupyter-widgets/controls"
          }
        },
        "850161b8bcb64d2195e1a71e07f702b6": {
          "model_module": "@jupyter-widgets/base",
          "model_name": "LayoutModel",
          "state": {
            "_view_name": "LayoutView",
            "grid_template_rows": null,
            "right": null,
            "justify_content": null,
            "_view_module": "@jupyter-widgets/base",
            "overflow": null,
            "_model_module_version": "1.2.0",
            "_view_count": null,
            "flex_flow": null,
            "width": null,
            "min_width": null,
            "border": null,
            "align_items": null,
            "bottom": null,
            "_model_module": "@jupyter-widgets/base",
            "top": null,
            "grid_column": null,
            "overflow_y": null,
            "overflow_x": null,
            "grid_auto_flow": null,
            "grid_area": null,
            "grid_template_columns": null,
            "flex": null,
            "_model_name": "LayoutModel",
            "justify_items": null,
            "grid_row": null,
            "max_height": null,
            "align_content": null,
            "visibility": null,
            "align_self": null,
            "height": null,
            "min_height": null,
            "padding": null,
            "grid_auto_rows": null,
            "grid_gap": null,
            "max_width": null,
            "order": null,
            "_view_module_version": "1.2.0",
            "grid_template_areas": null,
            "object_position": null,
            "object_fit": null,
            "grid_auto_columns": null,
            "margin": null,
            "display": null,
            "left": null
          }
        }
      }
    }
  },
  "cells": [
    {
      "cell_type": "code",
      "metadata": {
        "id": "Jt_XmmbW4HhX",
        "colab": {
          "base_uri": "https://localhost:8080/"
        },
        "outputId": "c8d86d93-d126-4f7b-c888-e7df4b9bd768"
      },
      "source": [
        "!pip install -U sentence-transformers"
      ],
      "execution_count": 2,
      "outputs": [
        {
          "output_type": "stream",
          "text": [
            "Collecting sentence-transformers\n",
            "\u001b[?25l  Downloading https://files.pythonhosted.org/packages/f5/5a/6e41e8383913dd2ba923cdcd02be2e03911595f4d2f9de559ecbed80d2d3/sentence-transformers-0.3.9.tar.gz (64kB)\n",
            "\u001b[K     |████████████████████████████████| 71kB 5.1MB/s \n",
            "\u001b[?25hCollecting transformers<3.6.0,>=3.1.0\n",
            "\u001b[?25l  Downloading https://files.pythonhosted.org/packages/3a/83/e74092e7f24a08d751aa59b37a9fc572b2e4af3918cb66f7766c3affb1b4/transformers-3.5.1-py3-none-any.whl (1.3MB)\n",
            "\u001b[K     |████████████████████████████████| 1.3MB 9.7MB/s \n",
            "\u001b[?25hRequirement already satisfied, skipping upgrade: tqdm in /usr/local/lib/python3.6/dist-packages (from sentence-transformers) (4.41.1)\n",
            "Requirement already satisfied, skipping upgrade: torch>=1.6.0 in /usr/local/lib/python3.6/dist-packages (from sentence-transformers) (1.7.0+cu101)\n",
            "Requirement already satisfied, skipping upgrade: numpy in /usr/local/lib/python3.6/dist-packages (from sentence-transformers) (1.18.5)\n",
            "Requirement already satisfied, skipping upgrade: scikit-learn in /usr/local/lib/python3.6/dist-packages (from sentence-transformers) (0.22.2.post1)\n",
            "Requirement already satisfied, skipping upgrade: scipy in /usr/local/lib/python3.6/dist-packages (from sentence-transformers) (1.4.1)\n",
            "Requirement already satisfied, skipping upgrade: nltk in /usr/local/lib/python3.6/dist-packages (from sentence-transformers) (3.2.5)\n",
            "Requirement already satisfied, skipping upgrade: packaging in /usr/local/lib/python3.6/dist-packages (from transformers<3.6.0,>=3.1.0->sentence-transformers) (20.4)\n",
            "Requirement already satisfied, skipping upgrade: protobuf in /usr/local/lib/python3.6/dist-packages (from transformers<3.6.0,>=3.1.0->sentence-transformers) (3.12.4)\n",
            "Collecting sentencepiece==0.1.91\n",
            "\u001b[?25l  Downloading https://files.pythonhosted.org/packages/d4/a4/d0a884c4300004a78cca907a6ff9a5e9fe4f090f5d95ab341c53d28cbc58/sentencepiece-0.1.91-cp36-cp36m-manylinux1_x86_64.whl (1.1MB)\n",
            "\u001b[K     |████████████████████████████████| 1.1MB 22.9MB/s \n",
            "\u001b[?25hCollecting sacremoses\n",
            "\u001b[?25l  Downloading https://files.pythonhosted.org/packages/7d/34/09d19aff26edcc8eb2a01bed8e98f13a1537005d31e95233fd48216eed10/sacremoses-0.0.43.tar.gz (883kB)\n",
            "\u001b[K     |████████████████████████████████| 890kB 41.9MB/s \n",
            "\u001b[?25hRequirement already satisfied, skipping upgrade: requests in /usr/local/lib/python3.6/dist-packages (from transformers<3.6.0,>=3.1.0->sentence-transformers) (2.23.0)\n",
            "Collecting tokenizers==0.9.3\n",
            "\u001b[?25l  Downloading https://files.pythonhosted.org/packages/4c/34/b39eb9994bc3c999270b69c9eea40ecc6f0e97991dba28282b9fd32d44ee/tokenizers-0.9.3-cp36-cp36m-manylinux1_x86_64.whl (2.9MB)\n",
            "\u001b[K     |████████████████████████████████| 2.9MB 43.0MB/s \n",
            "\u001b[?25hRequirement already satisfied, skipping upgrade: regex!=2019.12.17 in /usr/local/lib/python3.6/dist-packages (from transformers<3.6.0,>=3.1.0->sentence-transformers) (2019.12.20)\n",
            "Requirement already satisfied, skipping upgrade: dataclasses; python_version < \"3.7\" in /usr/local/lib/python3.6/dist-packages (from transformers<3.6.0,>=3.1.0->sentence-transformers) (0.7)\n",
            "Requirement already satisfied, skipping upgrade: filelock in /usr/local/lib/python3.6/dist-packages (from transformers<3.6.0,>=3.1.0->sentence-transformers) (3.0.12)\n",
            "Requirement already satisfied, skipping upgrade: typing-extensions in /usr/local/lib/python3.6/dist-packages (from torch>=1.6.0->sentence-transformers) (3.7.4.3)\n",
            "Requirement already satisfied, skipping upgrade: future in /usr/local/lib/python3.6/dist-packages (from torch>=1.6.0->sentence-transformers) (0.16.0)\n",
            "Requirement already satisfied, skipping upgrade: joblib>=0.11 in /usr/local/lib/python3.6/dist-packages (from scikit-learn->sentence-transformers) (0.17.0)\n",
            "Requirement already satisfied, skipping upgrade: six in /usr/local/lib/python3.6/dist-packages (from nltk->sentence-transformers) (1.15.0)\n",
            "Requirement already satisfied, skipping upgrade: pyparsing>=2.0.2 in /usr/local/lib/python3.6/dist-packages (from packaging->transformers<3.6.0,>=3.1.0->sentence-transformers) (2.4.7)\n",
            "Requirement already satisfied, skipping upgrade: setuptools in /usr/local/lib/python3.6/dist-packages (from protobuf->transformers<3.6.0,>=3.1.0->sentence-transformers) (50.3.2)\n",
            "Requirement already satisfied, skipping upgrade: click in /usr/local/lib/python3.6/dist-packages (from sacremoses->transformers<3.6.0,>=3.1.0->sentence-transformers) (7.1.2)\n",
            "Requirement already satisfied, skipping upgrade: chardet<4,>=3.0.2 in /usr/local/lib/python3.6/dist-packages (from requests->transformers<3.6.0,>=3.1.0->sentence-transformers) (3.0.4)\n",
            "Requirement already satisfied, skipping upgrade: idna<3,>=2.5 in /usr/local/lib/python3.6/dist-packages (from requests->transformers<3.6.0,>=3.1.0->sentence-transformers) (2.10)\n",
            "Requirement already satisfied, skipping upgrade: urllib3!=1.25.0,!=1.25.1,<1.26,>=1.21.1 in /usr/local/lib/python3.6/dist-packages (from requests->transformers<3.6.0,>=3.1.0->sentence-transformers) (1.24.3)\n",
            "Requirement already satisfied, skipping upgrade: certifi>=2017.4.17 in /usr/local/lib/python3.6/dist-packages (from requests->transformers<3.6.0,>=3.1.0->sentence-transformers) (2020.6.20)\n",
            "Building wheels for collected packages: sentence-transformers, sacremoses\n",
            "  Building wheel for sentence-transformers (setup.py) ... \u001b[?25l\u001b[?25hdone\n",
            "  Created wheel for sentence-transformers: filename=sentence_transformers-0.3.9-cp36-none-any.whl size=101036 sha256=854d8a741e8899e97ab190d37f52a4b000e6288fb9bdd7c91cbb7fea03bc1124\n",
            "  Stored in directory: /root/.cache/pip/wheels/fc/89/43/f2f5bc00b03ef9724b0f6254a97eaf159a4c4ddc024b33e07a\n",
            "  Building wheel for sacremoses (setup.py) ... \u001b[?25l\u001b[?25hdone\n",
            "  Created wheel for sacremoses: filename=sacremoses-0.0.43-cp36-none-any.whl size=893257 sha256=21021504341a71c2dc8bda0a71cae14109d1ee7a325b3e8004e51b04fa1bc338\n",
            "  Stored in directory: /root/.cache/pip/wheels/29/3c/fd/7ce5c3f0666dab31a50123635e6fb5e19ceb42ce38d4e58f45\n",
            "Successfully built sentence-transformers sacremoses\n",
            "Installing collected packages: sentencepiece, sacremoses, tokenizers, transformers, sentence-transformers\n",
            "Successfully installed sacremoses-0.0.43 sentence-transformers-0.3.9 sentencepiece-0.1.91 tokenizers-0.9.3 transformers-3.5.1\n"
          ],
          "name": "stdout"
        }
      ]
    },
    {
      "cell_type": "code",
      "metadata": {
        "id": "2zd7Ul9G4Udo"
      },
      "source": [
        "import pandas as pd\n",
        "import numpy as np\n",
        "import os\n",
        "import sys\n",
        "import torch\n",
        "import matplotlib.pyplot as plt\n",
        "import pickle \n",
        "from sklearn.preprocessing import MultiLabelBinarizer\n",
        "from skimage import io, transform\n",
        "from torch.utils.data import Dataset, DataLoader\n",
        "from torchvision import transforms, utils\n",
        "from sentence_transformers import SentenceTransformer\n",
        "import warnings\n",
        "import pickle\n",
        "warnings.filterwarnings('ignore')"
      ],
      "execution_count": 3,
      "outputs": []
    },
    {
      "cell_type": "code",
      "metadata": {
        "id": "qt7VMaTd4UbQ"
      },
      "source": [
        "from fastai import *\n",
        "from fastai.text import *\n",
        "import os\n",
        "import sys\n",
        "import torch\n",
        "import matplotlib.pyplot as plt\n",
        "import pickle \n",
        "from sklearn.preprocessing import MultiLabelBinarizer\n",
        "from torch.utils.data import Dataset, DataLoader\n",
        "from torchvision import transforms, utils\n",
        "import warnings\n",
        "warnings.filterwarnings('ignore')\n",
        "from torchvision import models\n",
        "import torch\n",
        "import torch.nn as nn\n",
        "from skimage import io, transform\n",
        "import requests\n",
        "from io import BytesIO\n",
        "import ipywidgets as widgets\n",
        "import re\n",
        "from PIL import Image\n"
      ],
      "execution_count": 4,
      "outputs": []
    },
    {
      "cell_type": "code",
      "metadata": {
        "id": "4cZpyHF_4UYe"
      },
      "source": [
        "embeddings_dict = pickle.load( open( \"/content/drive/My Drive/EAST/Fashion_Data/Label_Embeddings.pkl\", \"rb\" ) )"
      ],
      "execution_count": 5,
      "outputs": []
    },
    {
      "cell_type": "code",
      "metadata": {
        "id": "n6qwOmiB4UVu",
        "colab": {
          "base_uri": "https://localhost:8080/"
        },
        "outputId": "ce232bf1-7e58-4c62-ac7c-5b7574530ebd"
      },
      "source": [
        "len(embeddings_dict)"
      ],
      "execution_count": 6,
      "outputs": [
        {
          "output_type": "execute_result",
          "data": {
            "text/plain": [
              "184"
            ]
          },
          "metadata": {
            "tags": []
          },
          "execution_count": 6
        }
      ]
    },
    {
      "cell_type": "code",
      "metadata": {
        "id": "i_HatP9Y4UTJ",
        "colab": {
          "base_uri": "https://localhost:8080/"
        },
        "outputId": "e592398c-1309-4226-eb21-f75737b458ac"
      },
      "source": [
        "np.array(embeddings_dict[['Red'][0]]).shape"
      ],
      "execution_count": 7,
      "outputs": [
        {
          "output_type": "execute_result",
          "data": {
            "text/plain": [
              "(768,)"
            ]
          },
          "metadata": {
            "tags": []
          },
          "execution_count": 7
        }
      ]
    },
    {
      "cell_type": "code",
      "metadata": {
        "id": "JqFHqFbf4UGp",
        "colab": {
          "base_uri": "https://localhost:8080/"
        },
        "outputId": "6e4aa7e1-22ae-4414-9415-0f819378a00a"
      },
      "source": [
        "embeddings_dict.keys()"
      ],
      "execution_count": 8,
      "outputs": [
        {
          "output_type": "execute_result",
          "data": {
            "text/plain": [
              "dict_keys(['Belts', 'Churidar', 'Boys', 'Key chain', 'Steel', 'Swimwear', 'Turquoise Blue', 'Rose', 'Fragrance', 'Mushroom Brown', 'Pendant', 'Shoes', 'Highlighter and Blush', 'Salwar', 'Innerwear Vests', 'Trousers', 'Orange', 'Sandal', 'Perfume and Body Mist', 'Mask and Peel', 'Copper', 'Gloves', 'Eyewear', 'Watches', 'Sweaters', 'Sports Shoes', 'Footwear', 'Travel', 'Sports Sandals', 'Skirts', 'Smart Casual', 'Summer', 'Off White', 'Heels', 'Maroon', 'Bags', 'Blue', 'Deodorant', 'Bra', 'Saree', 'Lips', 'Compact', 'Headband', 'Green', 'Beige', 'Free Items', 'Boxers', 'Sarees', 'Casual', 'Sunglasses', 'Dresses', 'Casual Shoes', 'Tan', 'Fragrance Gift Set', 'Face Moisturisers', 'Multi', 'Sports Accessories', 'Nude', 'Kajal and Eyeliner', 'Bracelet', 'Jewellery Set', 'Tshirts', 'Suspenders', 'Duffel Bag', 'Messenger Bag', 'Brown', 'Lipstick', 'Stoles', 'Ties', 'Tops', 'Night suits', 'Makeup', 'Nightdress', 'Sweatshirts', 'Men', 'Jeggings', 'Kurtas', 'Jackets', 'Rompers', 'Black', 'Capris', 'Laptop Bag', 'Trunk', 'Bangle', 'Lip Gloss', 'White', 'Baby Dolls', 'Mufflers', 'Ring', 'Metallic', 'Wallets', 'Handbags', 'Lounge Pants', 'Ethnic', 'Nails', 'Tracksuits', 'Lime Green', 'Sunscreen', 'Sporting Goods', 'Silver', 'Eyes', 'Scarves', 'Headwear', 'Sports Equipment', 'Camisoles', 'Pink', 'Kurta Sets', 'Cream', 'Bath Robe', 'Bronze', 'Bottomwear', 'Grey', 'Teal', 'Shirts', 'Lounge Shorts', 'Taupe', 'Navy Blue', 'Skin', 'Flip Flops', 'Mobile Pouch', 'Face Wash and Cleanser', 'Women', 'Peach', 'Foundation and Primer', 'Jewellery', 'Formal', 'Mustard', 'Footballs', 'Apparel Set', 'Sea Green', 'Olive', 'Accessory Gift Set', 'Waist Pouch', 'Grey Melange', 'Girls', 'Leggings', 'Necklace and Chains', 'Flats', 'Dupatta', 'Rust', 'Hat', 'Formal Shoes', 'Yellow', 'Tunics', 'Skin Care', 'Accessories', 'Topwear', 'Charcoal', 'Shorts', 'Khaki', 'Purple', 'Nail Polish', 'Socks', 'Spring', 'Magenta', 'Coffee Brown', 'Winter', 'Patiala', 'Burgundy', 'Fall', 'Loungewear and Nightwear', 'Backpacks', 'Gold', 'Sports', 'Earrings', 'Kurtis', 'Lavender', 'Free Gifts', 'Sandals', 'Lip Liner', 'Caps', 'Personal Care', 'Unisex', 'Track Pants', 'Red', 'Briefs', 'Wristbands', 'Dress', 'Cufflinks', 'Clutches', 'Party', 'Apparel', 'Innerwear', 'Jeans'])"
            ]
          },
          "metadata": {
            "tags": []
          },
          "execution_count": 8
        }
      ]
    },
    {
      "cell_type": "code",
      "metadata": {
        "id": "w5-H7A374UEb"
      },
      "source": [
        "labels_list = list(sorted(embeddings_dict.keys())) #Sorts the list alphabetically"
      ],
      "execution_count": 9,
      "outputs": []
    },
    {
      "cell_type": "code",
      "metadata": {
        "colab": {
          "base_uri": "https://localhost:8080/"
        },
        "id": "CfoIhj189aa5",
        "outputId": "413ea054-d0c8-4799-9caa-c9d010eada17"
      },
      "source": [
        "labels_list"
      ],
      "execution_count": 10,
      "outputs": [
        {
          "output_type": "execute_result",
          "data": {
            "text/plain": [
              "['Accessories',\n",
              " 'Accessory Gift Set',\n",
              " 'Apparel',\n",
              " 'Apparel Set',\n",
              " 'Baby Dolls',\n",
              " 'Backpacks',\n",
              " 'Bags',\n",
              " 'Bangle',\n",
              " 'Bath Robe',\n",
              " 'Beige',\n",
              " 'Belts',\n",
              " 'Black',\n",
              " 'Blue',\n",
              " 'Bottomwear',\n",
              " 'Boxers',\n",
              " 'Boys',\n",
              " 'Bra',\n",
              " 'Bracelet',\n",
              " 'Briefs',\n",
              " 'Bronze',\n",
              " 'Brown',\n",
              " 'Burgundy',\n",
              " 'Camisoles',\n",
              " 'Capris',\n",
              " 'Caps',\n",
              " 'Casual',\n",
              " 'Casual Shoes',\n",
              " 'Charcoal',\n",
              " 'Churidar',\n",
              " 'Clutches',\n",
              " 'Coffee Brown',\n",
              " 'Compact',\n",
              " 'Copper',\n",
              " 'Cream',\n",
              " 'Cufflinks',\n",
              " 'Deodorant',\n",
              " 'Dress',\n",
              " 'Dresses',\n",
              " 'Duffel Bag',\n",
              " 'Dupatta',\n",
              " 'Earrings',\n",
              " 'Ethnic',\n",
              " 'Eyes',\n",
              " 'Eyewear',\n",
              " 'Face Moisturisers',\n",
              " 'Face Wash and Cleanser',\n",
              " 'Fall',\n",
              " 'Flats',\n",
              " 'Flip Flops',\n",
              " 'Footballs',\n",
              " 'Footwear',\n",
              " 'Formal',\n",
              " 'Formal Shoes',\n",
              " 'Foundation and Primer',\n",
              " 'Fragrance',\n",
              " 'Fragrance Gift Set',\n",
              " 'Free Gifts',\n",
              " 'Free Items',\n",
              " 'Girls',\n",
              " 'Gloves',\n",
              " 'Gold',\n",
              " 'Green',\n",
              " 'Grey',\n",
              " 'Grey Melange',\n",
              " 'Handbags',\n",
              " 'Hat',\n",
              " 'Headband',\n",
              " 'Headwear',\n",
              " 'Heels',\n",
              " 'Highlighter and Blush',\n",
              " 'Innerwear',\n",
              " 'Innerwear Vests',\n",
              " 'Jackets',\n",
              " 'Jeans',\n",
              " 'Jeggings',\n",
              " 'Jewellery',\n",
              " 'Jewellery Set',\n",
              " 'Kajal and Eyeliner',\n",
              " 'Key chain',\n",
              " 'Khaki',\n",
              " 'Kurta Sets',\n",
              " 'Kurtas',\n",
              " 'Kurtis',\n",
              " 'Laptop Bag',\n",
              " 'Lavender',\n",
              " 'Leggings',\n",
              " 'Lime Green',\n",
              " 'Lip Gloss',\n",
              " 'Lip Liner',\n",
              " 'Lips',\n",
              " 'Lipstick',\n",
              " 'Lounge Pants',\n",
              " 'Lounge Shorts',\n",
              " 'Loungewear and Nightwear',\n",
              " 'Magenta',\n",
              " 'Makeup',\n",
              " 'Maroon',\n",
              " 'Mask and Peel',\n",
              " 'Men',\n",
              " 'Messenger Bag',\n",
              " 'Metallic',\n",
              " 'Mobile Pouch',\n",
              " 'Mufflers',\n",
              " 'Multi',\n",
              " 'Mushroom Brown',\n",
              " 'Mustard',\n",
              " 'Nail Polish',\n",
              " 'Nails',\n",
              " 'Navy Blue',\n",
              " 'Necklace and Chains',\n",
              " 'Night suits',\n",
              " 'Nightdress',\n",
              " 'Nude',\n",
              " 'Off White',\n",
              " 'Olive',\n",
              " 'Orange',\n",
              " 'Party',\n",
              " 'Patiala',\n",
              " 'Peach',\n",
              " 'Pendant',\n",
              " 'Perfume and Body Mist',\n",
              " 'Personal Care',\n",
              " 'Pink',\n",
              " 'Purple',\n",
              " 'Red',\n",
              " 'Ring',\n",
              " 'Rompers',\n",
              " 'Rose',\n",
              " 'Rust',\n",
              " 'Salwar',\n",
              " 'Sandal',\n",
              " 'Sandals',\n",
              " 'Saree',\n",
              " 'Sarees',\n",
              " 'Scarves',\n",
              " 'Sea Green',\n",
              " 'Shirts',\n",
              " 'Shoes',\n",
              " 'Shorts',\n",
              " 'Silver',\n",
              " 'Skin',\n",
              " 'Skin Care',\n",
              " 'Skirts',\n",
              " 'Smart Casual',\n",
              " 'Socks',\n",
              " 'Sporting Goods',\n",
              " 'Sports',\n",
              " 'Sports Accessories',\n",
              " 'Sports Equipment',\n",
              " 'Sports Sandals',\n",
              " 'Sports Shoes',\n",
              " 'Spring',\n",
              " 'Steel',\n",
              " 'Stoles',\n",
              " 'Summer',\n",
              " 'Sunglasses',\n",
              " 'Sunscreen',\n",
              " 'Suspenders',\n",
              " 'Sweaters',\n",
              " 'Sweatshirts',\n",
              " 'Swimwear',\n",
              " 'Tan',\n",
              " 'Taupe',\n",
              " 'Teal',\n",
              " 'Ties',\n",
              " 'Tops',\n",
              " 'Topwear',\n",
              " 'Track Pants',\n",
              " 'Tracksuits',\n",
              " 'Travel',\n",
              " 'Trousers',\n",
              " 'Trunk',\n",
              " 'Tshirts',\n",
              " 'Tunics',\n",
              " 'Turquoise Blue',\n",
              " 'Unisex',\n",
              " 'Waist Pouch',\n",
              " 'Wallets',\n",
              " 'Watches',\n",
              " 'White',\n",
              " 'Winter',\n",
              " 'Women',\n",
              " 'Wristbands',\n",
              " 'Yellow']"
            ]
          },
          "metadata": {
            "tags": []
          },
          "execution_count": 10
        }
      ]
    },
    {
      "cell_type": "code",
      "metadata": {
        "id": "MYu6E0OeJd9y",
        "colab": {
          "base_uri": "https://localhost:8080/"
        },
        "outputId": "5d004af9-a6e8-413e-fffc-85d726167083"
      },
      "source": [
        "embeddings_dict"
      ],
      "execution_count": 11,
      "outputs": [
        {
          "output_type": "execute_result",
          "data": {
            "text/plain": [
              "{'Accessories': array([-0.041496, -0.677638,  2.636821,  0.776735, ...,  0.207178, -0.274373, -0.713275, -0.450666], dtype=float32),\n",
              " 'Accessory Gift Set': array([ 0.045527, -0.395772,  1.907027,  0.686161, ...,  0.228325,  0.218003, -1.03857 , -0.805593], dtype=float32),\n",
              " 'Apparel': array([ 0.532241, -0.690389,  2.068334,  0.658376, ...,  0.077832,  0.11103 , -0.409973, -0.485574], dtype=float32),\n",
              " 'Apparel Set': array([ 0.671098, -0.997437,  1.949486,  0.855476, ..., -0.038816,  0.134401, -0.778729, -0.679211], dtype=float32),\n",
              " 'Baby Dolls': array([-0.349494, -0.390176,  0.644297,  0.494096, ..., -0.440321, -0.413313,  0.321608,  0.35153 ], dtype=float32),\n",
              " 'Backpacks': array([ 0.299151, -0.071644,  0.97695 ,  0.240503, ..., -0.072494,  0.126369, -0.479357, -0.816628], dtype=float32),\n",
              " 'Bags': array([ 0.154169, -0.414836,  1.995789,  0.431872, ..., -0.11848 ,  0.055152, -0.376849, -0.511028], dtype=float32),\n",
              " 'Bangle': array([-0.131774, -0.024496,  1.002565,  0.073614, ..., -0.120545,  0.553087, -0.250715, -0.641959], dtype=float32),\n",
              " 'Bath Robe': array([ 0.803877, -0.088207,  0.941033,  0.558919, ...,  0.167207, -0.303889, -0.210105,  0.283802], dtype=float32),\n",
              " 'Beige': array([ 0.015872,  0.217466,  0.984441,  0.008678, ..., -0.288531,  1.333058,  0.195563,  0.052117], dtype=float32),\n",
              " 'Belts': array([ 0.01619 , -0.677454,  2.249766,  0.63217 , ...,  0.195265,  0.124834, -0.333068, -0.176788], dtype=float32),\n",
              " 'Black': array([ 0.07589 , -0.146944, -0.503201, -0.013506, ..., -0.851929, -0.077871, -0.448105, -0.659373], dtype=float32),\n",
              " 'Blue': array([ 0.367309, -0.407007,  0.14719 ,  0.169836, ..., -0.55767 , -0.233248,  0.170512, -0.267858], dtype=float32),\n",
              " 'Bottomwear': array([-0.049085, -0.29453 ,  1.045022,  0.406132, ..., -0.236145,  0.413792,  0.052545, -0.505178], dtype=float32),\n",
              " 'Boxers': array([ 0.653701,  0.114446,  0.597876, -0.420331, ..., -0.347069, -0.492528, -0.027034, -0.674683], dtype=float32),\n",
              " 'Boys': array([ 0.499981, -0.173956,  2.119915,  1.046525, ..., -0.53284 ,  1.155802,  0.043387, -0.451562], dtype=float32),\n",
              " 'Bra': array([ 0.295196, -0.46593 ,  1.594317, -0.134906, ..., -0.092798,  0.342041, -0.130954, -0.059853], dtype=float32),\n",
              " 'Bracelet': array([ 0.267181, -0.376836,  1.786488, -0.0712  , ...,  0.087588,  0.246027, -0.620785, -0.577718], dtype=float32),\n",
              " 'Briefs': array([ 0.571067, -0.33365 ,  1.760125,  0.293973, ...,  0.072806, -0.171709,  0.147505, -0.381545], dtype=float32),\n",
              " 'Bronze': array([-0.233958,  0.574501,  0.078085,  0.539014, ..., -0.41185 , -0.188616,  0.570123,  0.05419 ], dtype=float32),\n",
              " 'Brown': array([-4.252046e-04,  5.921660e-02,  1.028162e+00,  3.071677e-01, ..., -6.529719e-01,  1.044171e+00,  1.033605e-01,\n",
              "         2.133791e-01], dtype=float32),\n",
              " 'Burgundy': array([-0.84572 ,  0.140582,  0.827598,  0.027067, ..., -0.168692,  0.451002,  0.364981,  0.233294], dtype=float32),\n",
              " 'Camisoles': array([ 0.368731, -1.065905,  0.749767,  0.750529, ..., -0.476372,  0.439457, -0.339621, -0.383131], dtype=float32),\n",
              " 'Capris': array([-0.345411, -0.277564,  1.581008,  0.287931, ...,  0.157113,  0.349184, -0.077712,  0.414757], dtype=float32),\n",
              " 'Caps': array([ 0.056425, -0.179014,  1.996198,  0.737434, ...,  0.10389 ,  0.327834,  0.063674,  0.356366], dtype=float32),\n",
              " 'Casual': array([ 0.376298, -0.472631,  1.110807,  0.176281, ..., -0.003987,  1.404315, -0.243113,  0.298921], dtype=float32),\n",
              " 'Casual Shoes': array([ 0.532849, -0.311067,  0.569665,  0.181671, ..., -0.141466,  1.03153 , -0.168716,  0.034457], dtype=float32),\n",
              " 'Charcoal': array([ 0.115418, -0.120276,  0.692958,  0.18211 , ...,  0.094491,  0.183038,  0.623399, -0.272115], dtype=float32),\n",
              " 'Churidar': array([-0.041859, -0.169674,  1.942944,  0.037735, ..., -0.040374, -0.038733, -0.155678, -0.029882], dtype=float32),\n",
              " 'Clutches': array([-0.376081, -0.405226,  2.401654,  0.413469, ...,  0.398468, -0.229961, -0.74717 ,  0.178455], dtype=float32),\n",
              " 'Coffee Brown': array([-0.488001,  0.62104 , -0.033681,  0.117073, ..., -0.474435,  0.434855,  0.237692, -0.01268 ], dtype=float32),\n",
              " 'Compact': array([-0.199973, -0.418874,  0.894237,  0.442641, ..., -0.339482,  0.995719,  0.002736,  0.203475], dtype=float32),\n",
              " 'Copper': array([ 0.514361,  0.126285,  0.289428,  0.600288, ...,  0.032862, -0.284636,  0.728542,  0.097426], dtype=float32),\n",
              " 'Cream': array([-0.842575,  0.25344 ,  1.24732 ,  0.437503, ..., -0.092854, -0.020215, -0.110532,  0.667918], dtype=float32),\n",
              " 'Cufflinks': array([ 0.305076, -0.139813,  1.185445, -0.074281, ..., -0.238984,  0.401961, -0.581679, -0.407714], dtype=float32),\n",
              " 'Deodorant': array([ 0.219913,  0.309917,  1.206709,  0.266723, ..., -0.220675, -0.103266,  0.012662,  0.402886], dtype=float32),\n",
              " 'Dress': array([ 0.172343, -1.09054 ,  1.394511,  0.414701, ..., -0.218895,  0.366765,  0.068847, -0.139391], dtype=float32),\n",
              " 'Dresses': array([ 0.178786, -0.977365,  1.149081,  0.516267, ..., -0.131277, -0.028615,  0.063655, -0.121394], dtype=float32),\n",
              " 'Duffel Bag': array([ 0.046064, -0.038729,  0.797197,  0.359012, ..., -0.6308  ,  0.170673, -0.415815, -0.684651], dtype=float32),\n",
              " 'Dupatta': array([-0.004844, -0.455796,  1.703858,  0.290972, ...,  0.054489,  0.044436, -0.142439,  0.118841], dtype=float32),\n",
              " 'Earrings': array([ 1.05375 ,  0.743704,  0.482433, -0.440114, ...,  0.31521 ,  0.08263 ,  0.100803, -0.521348], dtype=float32),\n",
              " 'Ethnic': array([-0.050299, -0.205131,  0.961064,  0.185986, ..., -0.383089, -0.413787, -0.518329, -0.081196], dtype=float32),\n",
              " 'Eyes': array([ 0.402501, -0.274174,  2.207378,  0.527832, ...,  0.444302,  0.189809, -0.075443, -0.128028], dtype=float32),\n",
              " 'Eyewear': array([ 1.087245, -0.576191,  1.666363,  0.700372, ...,  0.198704,  0.403145, -0.60617 , -0.585524], dtype=float32),\n",
              " 'Face Moisturisers': array([ 0.222988,  0.233975,  1.690396,  0.596948, ..., -0.140694,  0.224937, -0.259065,  0.251053], dtype=float32),\n",
              " 'Face Wash and Cleanser': array([ 0.464809,  0.408685,  1.019887,  0.172221, ..., -0.209653, -0.033729, -0.289781, -0.066584], dtype=float32),\n",
              " 'Fall': array([-0.279537, -0.245081,  1.764095,  0.463983, ..., -0.261287, -0.484984, -0.299994, -0.104926], dtype=float32),\n",
              " 'Flats': array([ 0.16309 ,  0.588589,  2.091145, -0.111038, ...,  0.330337,  0.206343, -0.3842  ,  0.078542], dtype=float32),\n",
              " 'Flip Flops': array([ 0.435364, -0.481644,  0.230053,  0.291771, ..., -0.275622,  0.50368 ,  0.114645, -0.844804], dtype=float32),\n",
              " 'Footballs': array([ 0.251813,  0.523453,  0.451829,  0.15446 , ...,  0.485019,  0.603129, -0.137167,  0.145643], dtype=float32),\n",
              " 'Footwear': array([ 0.797543, -0.51164 ,  1.215596,  0.65941 , ..., -0.254898,  0.0124  , -0.803011, -0.794311], dtype=float32),\n",
              " 'Formal': array([-0.459244, -0.571705,  1.480328,  0.701295, ..., -0.365205,  0.46361 , -0.024338,  0.381276], dtype=float32),\n",
              " 'Formal Shoes': array([-0.232906, -0.430598,  0.312385,  0.798207, ..., -0.273208,  0.131081, -0.242204, -0.348035], dtype=float32),\n",
              " 'Foundation and Primer': array([ 0.146544,  0.030516,  1.485406,  0.378778, ..., -0.137449, -0.083557, -0.544691, -0.090808], dtype=float32),\n",
              " 'Fragrance': array([ 0.206553, -0.515712,  1.715425,  0.165043, ...,  0.283202, -0.009336, -0.572079,  0.166238], dtype=float32),\n",
              " 'Fragrance Gift Set': array([-0.128761, -0.347163,  1.377655,  0.020087, ...,  0.420116,  0.217246, -0.984225, -0.17827 ], dtype=float32),\n",
              " 'Free Gifts': array([-0.169284, -0.39633 ,  0.952168,  0.262364, ..., -0.386079,  1.104915, -0.464629, -0.097398], dtype=float32),\n",
              " 'Free Items': array([-0.023322, -0.329305,  0.885515,  0.495327, ..., -0.39922 ,  0.795784, -0.608449, -0.303105], dtype=float32),\n",
              " 'Girls': array([ 0.76683 , -0.724302,  0.984378,  0.401294, ..., -0.290062, -0.298019, -0.335495, -0.208041], dtype=float32),\n",
              " 'Gloves': array([ 0.356826, -0.542978,  0.815826,  0.572135, ..., -0.180344,  0.604667, -0.289785, -0.457033], dtype=float32),\n",
              " 'Gold': array([-0.331781,  0.241648,  0.460939,  0.292439, ..., -0.344559,  0.269761,  0.384261, -0.220968], dtype=float32),\n",
              " 'Green': array([-0.352346, -0.438998,  0.471663,  0.218925, ...,  0.216153,  1.264676,  0.38299 , -0.213387], dtype=float32),\n",
              " 'Grey': array([ 0.054776,  0.01201 ,  1.103412,  0.304887, ..., -0.225386, -0.169932,  0.272008,  0.295404], dtype=float32),\n",
              " 'Grey Melange': array([ 0.164814,  0.427044,  0.403197,  0.415021, ..., -0.274947, -0.468786,  0.349106,  0.124369], dtype=float32),\n",
              " 'Handbags': array([-0.280712, -0.070284,  1.170591,  0.120885, ..., -0.291256, -0.284025, -0.97342 , -0.317003], dtype=float32),\n",
              " 'Hat': array([ 0.226497, -0.3262  ,  2.186237,  0.513757, ...,  0.340139, -0.057418, -0.221942,  0.085136], dtype=float32),\n",
              " 'Headband': array([ 0.647945, -0.383995,  1.282204,  0.63153 , ..., -0.021104,  0.189552, -0.58491 , -0.303369], dtype=float32),\n",
              " 'Headwear': array([ 0.899219, -0.362803,  1.783306,  0.869782, ...,  0.12432 , -0.204528, -0.637327, -0.34918 ], dtype=float32),\n",
              " 'Heels': array([-0.104484, -0.462008,  1.449363,  0.555978, ...,  0.082579, -0.147284, -0.322442, -0.430715], dtype=float32),\n",
              " 'Highlighter and Blush': array([-0.54588 , -0.418068,  1.005289,  0.20769 , ..., -0.38833 ,  0.546843, -0.05794 ,  0.003663], dtype=float32),\n",
              " 'Innerwear': array([ 0.068581, -0.833357,  1.916237,  0.216358, ...,  0.048894,  0.276498, -0.846706, -0.281177], dtype=float32),\n",
              " 'Innerwear Vests': array([ 0.504356, -0.608828,  0.995128,  0.194214, ..., -0.109081,  0.571278, -0.572505, -0.819598], dtype=float32),\n",
              " 'Jackets': array([ 0.587334, -0.434525,  1.345463,  0.284164, ..., -0.419879,  0.673295, -0.265333, -0.304267], dtype=float32),\n",
              " 'Jeans': array([ 0.18495 , -0.325867,  0.968046, -0.031872, ..., -0.232776,  0.431793,  0.117319, -0.208452], dtype=float32),\n",
              " 'Jeggings': array([ 0.284085,  0.428758,  1.933573, -0.017918, ..., -0.257938,  0.185972, -0.280538, -0.591931], dtype=float32),\n",
              " 'Jewellery': array([ 0.665341,  0.440926,  1.273132, -0.123945, ...,  0.806449,  0.145346, -0.5513  , -0.722849], dtype=float32),\n",
              " 'Jewellery Set': array([ 0.647037,  0.264249,  1.118261,  0.068129, ...,  0.825697,  0.012317, -0.923127, -0.689047], dtype=float32),\n",
              " 'Kajal and Eyeliner': array([ 0.124782, -0.106896,  1.298654,  0.257552, ...,  0.037362,  0.277728, -0.222432, -0.388437], dtype=float32),\n",
              " 'Key chain': array([ 0.327183,  0.429502,  1.372438,  0.040682, ...,  0.132465, -0.834665, -0.753215, -0.339922], dtype=float32),\n",
              " 'Khaki': array([ 0.530992,  0.129783, -0.538364,  0.280628, ...,  0.099117,  0.323706,  0.344853, -0.05845 ], dtype=float32),\n",
              " 'Kurta Sets': array([-0.078813, -0.499617,  1.410829,  0.493486, ...,  0.460564,  0.243162, -0.246624,  0.139829], dtype=float32),\n",
              " 'Kurtas': array([-0.241451, -0.292807,  1.630541,  0.430879, ...,  0.370022, -0.105525, -0.161247,  0.284513], dtype=float32),\n",
              " 'Kurtis': array([-0.1191  , -0.408749,  1.476152,  0.48631 , ...,  0.382281, -0.175895, -0.071142,  0.417652], dtype=float32),\n",
              " 'Laptop Bag': array([-0.565283, -0.018324,  0.561878,  0.25652 , ..., -0.028514,  0.026632, -0.431493,  0.076219], dtype=float32),\n",
              " 'Lavender': array([-0.116014, -0.890936,  0.080446,  0.22604 , ...,  0.182241,  0.360206,  0.237625,  0.496074], dtype=float32),\n",
              " 'Leggings': array([ 0.633296, -0.810482,  0.372886,  0.607326, ..., -0.082212,  0.606028, -0.392834, -1.09797 ], dtype=float32),\n",
              " 'Lime Green': array([-0.037744, -0.12636 , -0.163448,  0.105146, ..., -0.222317,  0.867714,  0.327553,  0.328779], dtype=float32),\n",
              " 'Lip Gloss': array([-0.236073, -0.554032,  1.14179 ,  0.352243, ..., -0.206298, -0.269314, -0.52854 ,  0.1134  ], dtype=float32),\n",
              " 'Lip Liner': array([ 0.070282, -0.162066,  1.271321,  0.099265, ..., -0.510171,  0.561533,  0.062435,  0.009941], dtype=float32),\n",
              " 'Lips': array([-0.282918, -0.447165,  2.080637,  0.159905, ...,  0.176452, -0.10093 , -0.068856,  0.346468], dtype=float32),\n",
              " 'Lipstick': array([-0.067689, -0.434584,  1.198915,  0.072244, ..., -0.032523, -0.487455,  0.006989,  0.364834], dtype=float32),\n",
              " 'Lounge Pants': array([ 0.565234, -0.888629,  1.030245,  0.188516, ..., -0.345948,  1.074884, -0.013995, -0.660984], dtype=float32),\n",
              " 'Lounge Shorts': array([ 0.627847, -0.730166,  1.066395, -0.121458, ..., -0.411066,  1.285308,  0.157646, -0.86944 ], dtype=float32),\n",
              " 'Loungewear and Nightwear': array([ 0.233593, -0.86095 ,  1.356745,  0.310716, ...,  0.00952 ,  0.435295, -0.502923, -1.099794], dtype=float32),\n",
              " 'Magenta': array([ 0.397904, -0.87039 ,  0.229761,  0.221017, ..., -0.459054,  1.01529 ,  0.2564  ,  0.129652], dtype=float32),\n",
              " 'Makeup': array([ 0.46285 , -0.471081,  1.326391,  0.370956, ...,  0.196768, -0.210614, -0.460029, -0.171508], dtype=float32),\n",
              " 'Maroon': array([ 0.413459,  0.340575,  0.033141, -0.149159, ..., -0.689079,  0.765982,  0.167203, -0.131592], dtype=float32),\n",
              " 'Mask and Peel': array([ 0.283656, -0.424521,  1.310377,  0.44007 , ...,  0.46101 ,  0.781402, -0.145164, -0.191805], dtype=float32),\n",
              " 'Men': array([ 0.644555, -0.089438,  2.158922,  0.780338, ...,  0.027109,  0.321347, -0.077792, -0.11216 ], dtype=float32),\n",
              " 'Messenger Bag': array([ 0.105536, -0.408673,  0.867687,  0.259931, ..., -0.109646,  0.700345, -1.040353, -0.558899], dtype=float32),\n",
              " 'Metallic': array([0.399929, 0.110873, 1.146395, 0.596697, ..., 0.185977, 0.126413, 0.228313, 0.04284 ], dtype=float32),\n",
              " 'Mobile Pouch': array([ 0.076279, -0.155196,  1.536823,  0.104247, ..., -0.14876 , -0.236686, -0.832707, -0.365455], dtype=float32),\n",
              " 'Mufflers': array([ 0.188758, -0.230658,  1.205172,  0.777705, ...,  0.306135,  0.699987, -0.51136 , -0.347954], dtype=float32),\n",
              " 'Multi': array([ 0.133793, -0.375938,  1.944899,  0.639004, ...,  0.151075,  0.480004, -0.033781, -0.169229], dtype=float32),\n",
              " 'Mushroom Brown': array([ 0.075605,  0.652582,  0.89483 ,  0.144364, ..., -0.307315,  0.992127,  0.585208,  0.493354], dtype=float32),\n",
              " 'Mustard': array([-0.368675,  0.291791,  1.360794, -0.219474, ...,  0.021487,  0.678997,  0.512077,  0.546322], dtype=float32),\n",
              " 'Nail Polish': array([ 0.355005,  0.149048,  1.136777,  0.12882 , ..., -0.240532, -0.035708,  0.085958, -0.107593], dtype=float32),\n",
              " 'Nails': array([ 0.012723,  0.52497 ,  1.099471, -0.17152 , ..., -0.114078,  0.272026,  0.074503, -0.215929], dtype=float32),\n",
              " 'Navy Blue': array([ 0.557696, -0.695372, -0.74997 ,  0.005915, ..., -0.540314, -0.257797, -0.075641, -0.284511], dtype=float32),\n",
              " 'Necklace and Chains': array([ 0.542742,  0.079507,  0.836717,  0.130917, ...,  0.736618, -0.480071, -0.645024, -0.523089], dtype=float32),\n",
              " 'Night suits': array([ 0.420626, -0.916803,  1.581653,  0.299675, ...,  0.247797, -0.435574, -0.177931, -0.446734], dtype=float32),\n",
              " 'Nightdress': array([ 0.420608, -1.005909,  0.437072,  0.085944, ...,  0.352945, -0.245503, -0.183157, -0.466422], dtype=float32),\n",
              " 'Nude': array([ 0.401659,  0.290203,  1.149933,  0.349128, ..., -0.131582,  0.167075,  0.013165, -0.241427], dtype=float32),\n",
              " 'Off White': array([ 0.055709, -0.089136,  1.026605,  0.622852, ..., -0.161752,  0.068538, -0.089249,  0.174542], dtype=float32),\n",
              " 'Olive': array([-0.042962, -0.581625,  1.34228 , -0.062555, ..., -0.289853,  0.169997, -0.065222,  0.083547], dtype=float32),\n",
              " 'Orange': array([ 0.352432, -0.81096 ,  0.746933, -0.090575, ..., -0.319021,  1.060759, -0.080118, -0.302793], dtype=float32),\n",
              " 'Party': array([-0.083267, -0.868515,  2.707481,  0.447316, ..., -0.143937,  0.338784, -0.288549,  0.113601], dtype=float32),\n",
              " 'Patiala': array([-0.439718, -0.844978,  1.700567, -0.191072, ..., -0.290624, -0.006175, -0.233271, -0.049712], dtype=float32),\n",
              " 'Peach': array([-0.783896, -0.585471,  0.350811, -0.008283, ..., -0.55296 ,  0.70158 ,  0.002562,  0.128745], dtype=float32),\n",
              " 'Pendant': array([ 0.793036,  0.092523,  1.42705 , -0.076225, ...,  0.321179,  0.054717, -0.379114, -0.454489], dtype=float32),\n",
              " 'Perfume and Body Mist': array([ 0.409298, -0.3796  ,  0.86433 ,  0.304253, ...,  0.358638, -0.469265, -0.899495,  0.230514], dtype=float32),\n",
              " 'Personal Care': array([ 0.154378, -0.214911,  2.003475,  0.758206, ..., -0.355928,  0.109709, -0.720439,  0.111827], dtype=float32),\n",
              " 'Pink': array([-0.428636, -1.005874,  0.457428,  0.033079, ..., -0.056534,  0.356347, -0.16129 ,  0.149065], dtype=float32),\n",
              " 'Purple': array([-0.259086, -0.565867,  0.762389,  0.2709  , ...,  0.210837,  0.801761,  0.443539,  0.121693], dtype=float32),\n",
              " 'Red': array([ 0.132656, -0.054871,  0.098185,  0.212152, ..., -0.30991 ,  0.094904,  0.355361,  0.237203], dtype=float32),\n",
              " 'Ring': array([ 2.939402e-01, -8.091316e-02,  1.940362e+00,  1.065092e-01, ...,  7.566400e-01, -6.897274e-02,  1.546631e-03,\n",
              "        -9.635674e-02], dtype=float32),\n",
              " 'Rompers': array([-0.070913, -0.311215,  2.414468,  0.64604 , ...,  0.12857 ,  0.166495, -0.186477, -0.055252], dtype=float32),\n",
              " 'Rose': array([-0.090142, -0.589277,  1.531238,  0.426213, ..., -0.495626, -0.313722,  0.095308, -0.162122], dtype=float32),\n",
              " 'Rust': array([ 0.216099,  0.218469,  1.474228,  0.269392, ..., -0.226147, -0.165353, -0.145037, -0.459968], dtype=float32),\n",
              " 'Salwar': array([ 0.106891, -0.300853,  1.772273, -0.009447, ..., -0.02529 ,  0.023503, -0.294724, -0.598498], dtype=float32),\n",
              " 'Sandal': array([-0.079613, -0.117382,  0.859724,  0.197319, ..., -0.618621,  0.909093, -0.295466, -0.622905], dtype=float32),\n",
              " 'Sandals': array([ 0.378935,  0.024282,  1.144466, -0.153918, ..., -0.234165,  0.628123, -0.238606, -1.013752], dtype=float32),\n",
              " 'Saree': array([ 0.451032, -0.093076,  0.986795,  0.200729, ..., -0.064185,  0.931341, -0.136392, -0.416999], dtype=float32),\n",
              " 'Sarees': array([ 0.355698, -0.607889,  0.415696,  0.386883, ..., -0.285234,  0.942746, -0.251398, -0.428214], dtype=float32),\n",
              " 'Scarves': array([ 0.417455, -0.382329,  1.300156,  0.597981, ...,  0.038546,  0.259876, -0.320197, -0.424136], dtype=float32),\n",
              " 'Sea Green': array([ 0.113376, -1.102105,  0.380895,  0.121401, ..., -0.133152,  0.551274, -0.201047, -0.357619], dtype=float32),\n",
              " 'Shirts': array([ 0.799555, -0.619101,  1.600818,  0.071178, ...,  0.076963,  0.382969,  0.121483,  0.112885], dtype=float32),\n",
              " 'Shoes': array([ 0.53565 , -0.10145 ,  1.476317,  0.438755, ...,  0.09553 ,  0.041058, -0.232083, -0.495401], dtype=float32),\n",
              " 'Shorts': array([ 0.723648, -0.696057,  1.065668,  0.198896, ..., -0.062492,  0.635273,  0.172943, -0.398249], dtype=float32),\n",
              " 'Silver': array([-0.015316,  0.267587,  0.252668,  0.490277, ...,  0.106079, -0.165031,  0.473448, -0.012922], dtype=float32),\n",
              " 'Skin': array([ 0.667272, -0.935783,  1.417774,  0.428762, ...,  0.21692 ,  0.534023, -0.151863,  0.133228], dtype=float32),\n",
              " 'Skin Care': array([ 0.915767, -0.804872,  1.050507,  0.431886, ..., -0.371197,  0.649426, -0.229541,  0.095967], dtype=float32),\n",
              " 'Skirts': array([ 0.211624, -1.131356,  0.921347,  0.701937, ..., -0.45356 ,  0.274427,  0.010206, -0.143686], dtype=float32),\n",
              " 'Smart Casual': array([-0.074685, -0.604848,  0.832214,  0.587117, ..., -0.350393,  1.177455,  0.233679,  0.109599], dtype=float32),\n",
              " 'Socks': array([ 0.323324,  0.356313,  0.904204,  0.34029 , ..., -0.097908,  0.229613,  0.080571, -0.197856], dtype=float32),\n",
              " 'Sporting Goods': array([ 0.860973,  0.144525,  1.642719,  0.275829, ...,  0.18287 ,  0.517033, -0.473272, -0.320301], dtype=float32),\n",
              " 'Sports': array([ 0.856533, -0.479107,  1.909117,  0.63228 , ...,  0.108286,  0.369272, -0.44283 , -0.057362], dtype=float32),\n",
              " 'Sports Accessories': array([ 0.463391, -0.41952 ,  1.653016,  0.531829, ...,  0.232833,  0.291546, -0.970898, -0.499208], dtype=float32),\n",
              " 'Sports Equipment': array([ 0.868955, -0.479848,  1.429559,  0.653747, ...,  0.349324,  0.59174 , -0.939454, -0.452188], dtype=float32),\n",
              " 'Sports Sandals': array([ 0.536861, -0.159272,  0.632094,  0.076836, ..., -0.076612,  0.665914, -0.535015, -0.979623], dtype=float32),\n",
              " 'Sports Shoes': array([ 0.611332, -0.269421,  0.666549,  0.563612, ...,  0.041871,  0.354539, -0.552931, -0.730507], dtype=float32),\n",
              " 'Spring': array([-0.433804, -0.785052,  2.01906 ,  0.305274, ..., -0.314928, -0.26693 ,  0.283673, -0.021442], dtype=float32),\n",
              " 'Steel': array([-0.042885, -0.194367,  1.716632,  0.612765, ...,  0.224808, -0.336725, -0.097025, -0.426156], dtype=float32),\n",
              " 'Stoles': array([ 0.077494, -0.035707,  1.471409,  0.315498, ...,  0.144878, -0.272098, -0.557949,  0.007954], dtype=float32),\n",
              " 'Summer': array([ 0.242035, -1.307577,  1.263847,  0.206073, ..., -0.503831, -0.227753, -0.220546, -0.564406], dtype=float32),\n",
              " 'Sunglasses': array([ 0.296547, -0.492827,  1.057404,  0.428581, ...,  0.599755,  0.189028, -0.462008, -0.502605], dtype=float32),\n",
              " 'Sunscreen': array([ 0.303507, -0.239148,  0.862201, -0.056621, ..., -0.282373,  0.158222, -0.237242, -0.559512], dtype=float32),\n",
              " 'Suspenders': array([ 0.554262, -0.428319,  1.900583,  0.74011 , ..., -0.038885,  0.062534, -0.574508, -0.668142], dtype=float32),\n",
              " 'Sweaters': array([ 0.456331, -0.523597,  0.423314,  0.188616, ..., -0.217117,  0.850949,  0.118789, -0.172015], dtype=float32),\n",
              " 'Sweatshirts': array([ 0.546322, -0.310759,  0.717941,  0.388173, ..., -0.344967,  0.872555,  0.102523, -0.076792], dtype=float32),\n",
              " 'Swimwear': array([ 1.036575, -1.298168,  0.948364,  0.643872, ..., -0.217881, -0.170817, -0.697475, -0.463045], dtype=float32),\n",
              " 'Tan': array([ 0.042644, -0.321183,  1.76122 ,  0.133948, ..., -0.169599,  0.227551,  0.150735,  0.107572], dtype=float32),\n",
              " 'Taupe': array([-0.06795 , -0.290332,  1.496919, -0.114479, ...,  0.520099,  0.15821 , -0.089397,  0.148327], dtype=float32),\n",
              " 'Teal': array([-0.360331, -0.219642,  1.506801,  0.147314, ..., -0.058988,  0.318284, -0.211216,  0.086893], dtype=float32),\n",
              " 'Ties': array([-0.008236, -0.725363,  2.105156,  0.312038, ...,  0.043902, -0.071598, -0.357402, -0.119577], dtype=float32),\n",
              " 'Tops': array([-0.076264, -0.197095,  2.560309,  0.437481, ...,  0.139801,  0.141082,  0.164359,  0.005735], dtype=float32),\n",
              " 'Topwear': array([ 0.432627, -0.69163 ,  1.111987,  0.674486, ..., -0.100251, -0.142714, -0.486166, -1.022172], dtype=float32),\n",
              " 'Track Pants': array([ 0.642787, -0.024127, -0.141239,  0.22236 , ..., -0.234169,  1.00555 , -0.486583,  0.025694], dtype=float32),\n",
              " 'Tracksuits': array([ 0.695466, -0.378001,  0.174269,  0.487292, ..., -0.284333,  1.012232, -0.246713, -0.375634], dtype=float32),\n",
              " 'Travel': array([-0.056974, -0.437269,  2.69718 ,  0.401289, ..., -0.047619, -0.42964 , -0.437409, -0.139414], dtype=float32),\n",
              " 'Trousers': array([ 0.498001, -0.490647,  1.098478,  0.441648, ..., -0.278248,  0.576223,  0.207559, -0.261073], dtype=float32),\n",
              " 'Trunk': array([-0.250387, -0.089486,  1.692248,  0.548046, ...,  0.166073,  0.051831, -0.410127, -0.602094], dtype=float32),\n",
              " 'Tshirts': array([ 0.299449, -0.728689,  1.128577,  0.790367, ...,  0.160277,  0.539717,  0.737965,  0.079537], dtype=float32),\n",
              " 'Tunics': array([ 0.70176 , -0.845797,  0.594847,  0.183773, ..., -0.211694,  0.798085, -0.055523, -0.381244], dtype=float32),\n",
              " 'Turquoise Blue': array([ 0.528558, -0.484822, -0.366332,  0.318174, ..., -0.39814 , -0.051069,  0.032614, -0.277194], dtype=float32),\n",
              " 'Unisex': array([-0.194157, -0.505074,  0.298005,  0.681363, ...,  0.422836, -0.432784,  0.290676, -0.090678], dtype=float32),\n",
              " 'Waist Pouch': array([ 0.360343, -0.487708,  0.647476,  0.294092, ..., -0.405149,  0.366792, -0.137806,  0.067856], dtype=float32),\n",
              " 'Wallets': array([-0.11064 ,  0.515443,  1.051513, -0.073384, ...,  0.152153,  0.046716, -0.559168, -0.376291], dtype=float32),\n",
              " 'Watches': array([ 0.725135, -0.438857,  2.95282 ,  0.649194, ...,  0.459314,  0.36219 , -0.073969, -0.076415], dtype=float32),\n",
              " 'White': array([-0.165057, -0.36217 ,  0.751886,  0.531788, ..., -0.595264,  0.448406, -0.050118,  0.482727], dtype=float32),\n",
              " 'Winter': array([-0.256774, -0.095045,  1.967863,  0.138806, ...,  0.277891, -0.620809, -0.151234,  0.040153], dtype=float32),\n",
              " 'Women': array([ 0.822557, -0.448516,  1.100205,  0.289649, ..., -0.242774, -0.586062, -0.285329, -0.123426], dtype=float32),\n",
              " 'Wristbands': array([ 0.772706, -0.61255 ,  1.116791,  0.208549, ..., -0.238487,  0.70024 , -0.703481, -0.548543], dtype=float32),\n",
              " 'Yellow': array([-0.597249, -0.077953,  0.889989,  0.214586, ..., -0.072464,  0.686593,  0.15267 ,  0.108611], dtype=float32)}"
            ]
          },
          "metadata": {
            "tags": []
          },
          "execution_count": 11
        }
      ]
    },
    {
      "cell_type": "markdown",
      "metadata": {
        "id": "f0FJdldsvuKd"
      },
      "source": [
        "Making the final Inference Dataset"
      ]
    },
    {
      "cell_type": "code",
      "metadata": {
        "id": "inN383kNwrOg"
      },
      "source": [
        "inf_df = pd.read_csv('/content/drive/My Drive/EAST/Fashion_Data/inf.csv')"
      ],
      "execution_count": 12,
      "outputs": []
    },
    {
      "cell_type": "code",
      "metadata": {
        "id": "ZIhZ_sMs-jdF",
        "colab": {
          "base_uri": "https://localhost:8080/",
          "height": 419
        },
        "outputId": "bb0d95b6-5056-4bb4-9232-981981725e55"
      },
      "source": [
        "inf_df"
      ],
      "execution_count": 13,
      "outputs": [
        {
          "output_type": "execute_result",
          "data": {
            "text/html": [
              "<div>\n",
              "<style scoped>\n",
              "    .dataframe tbody tr th:only-of-type {\n",
              "        vertical-align: middle;\n",
              "    }\n",
              "\n",
              "    .dataframe tbody tr th {\n",
              "        vertical-align: top;\n",
              "    }\n",
              "\n",
              "    .dataframe thead th {\n",
              "        text-align: right;\n",
              "    }\n",
              "</style>\n",
              "<table border=\"1\" class=\"dataframe\">\n",
              "  <thead>\n",
              "    <tr style=\"text-align: right;\">\n",
              "      <th></th>\n",
              "      <th>file_path</th>\n",
              "      <th>gender</th>\n",
              "      <th>item_type</th>\n",
              "    </tr>\n",
              "  </thead>\n",
              "  <tbody>\n",
              "    <tr>\n",
              "      <th>0</th>\n",
              "      <td>inf_img/34316.jpg</td>\n",
              "      <td>Men</td>\n",
              "      <td>Tshirts</td>\n",
              "    </tr>\n",
              "    <tr>\n",
              "      <th>1</th>\n",
              "      <td>inf_img/34444.jpg</td>\n",
              "      <td>Women</td>\n",
              "      <td>Tshirts</td>\n",
              "    </tr>\n",
              "    <tr>\n",
              "      <th>2</th>\n",
              "      <td>inf_img/44436.jpg</td>\n",
              "      <td>Men</td>\n",
              "      <td>Casual Shoes</td>\n",
              "    </tr>\n",
              "    <tr>\n",
              "      <th>3</th>\n",
              "      <td>inf_img/58276.jpg</td>\n",
              "      <td>Women</td>\n",
              "      <td>Handbags</td>\n",
              "    </tr>\n",
              "    <tr>\n",
              "      <th>4</th>\n",
              "      <td>inf_img/8636.jpg</td>\n",
              "      <td>Unisex</td>\n",
              "      <td>Sunglasses</td>\n",
              "    </tr>\n",
              "    <tr>\n",
              "      <th>...</th>\n",
              "      <td>...</td>\n",
              "      <td>...</td>\n",
              "      <td>...</td>\n",
              "    </tr>\n",
              "    <tr>\n",
              "      <th>465</th>\n",
              "      <td>inf_img/26595.jpg</td>\n",
              "      <td>Men</td>\n",
              "      <td>Sports Shoes</td>\n",
              "    </tr>\n",
              "    <tr>\n",
              "      <th>466</th>\n",
              "      <td>inf_img/48337.jpg</td>\n",
              "      <td>Women</td>\n",
              "      <td>Necklace and Chains</td>\n",
              "    </tr>\n",
              "    <tr>\n",
              "      <th>467</th>\n",
              "      <td>inf_img/6657.jpg</td>\n",
              "      <td>Women</td>\n",
              "      <td>Flip Flops</td>\n",
              "    </tr>\n",
              "    <tr>\n",
              "      <th>468</th>\n",
              "      <td>inf_img/32602.jpg</td>\n",
              "      <td>Men</td>\n",
              "      <td>Wallets</td>\n",
              "    </tr>\n",
              "    <tr>\n",
              "      <th>469</th>\n",
              "      <td>inf_img/27484.jpg</td>\n",
              "      <td>Women</td>\n",
              "      <td>Briefs</td>\n",
              "    </tr>\n",
              "  </tbody>\n",
              "</table>\n",
              "<p>470 rows × 3 columns</p>\n",
              "</div>"
            ],
            "text/plain": [
              "             file_path  gender            item_type\n",
              "0    inf_img/34316.jpg     Men              Tshirts\n",
              "1    inf_img/34444.jpg   Women              Tshirts\n",
              "2    inf_img/44436.jpg     Men         Casual Shoes\n",
              "3    inf_img/58276.jpg   Women             Handbags\n",
              "4     inf_img/8636.jpg  Unisex           Sunglasses\n",
              "..                 ...     ...                  ...\n",
              "465  inf_img/26595.jpg     Men         Sports Shoes\n",
              "466  inf_img/48337.jpg   Women  Necklace and Chains\n",
              "467   inf_img/6657.jpg   Women           Flip Flops\n",
              "468  inf_img/32602.jpg     Men              Wallets\n",
              "469  inf_img/27484.jpg   Women               Briefs\n",
              "\n",
              "[470 rows x 3 columns]"
            ]
          },
          "metadata": {
            "tags": []
          },
          "execution_count": 13
        }
      ]
    },
    {
      "cell_type": "code",
      "metadata": {
        "id": "fZVFVPXd-lm4"
      },
      "source": [
        "inf_df = inf_df.drop(['id'], axis=1)"
      ],
      "execution_count": null,
      "outputs": []
    },
    {
      "cell_type": "code",
      "metadata": {
        "id": "rc6z2oKj-s9E",
        "colab": {
          "base_uri": "https://localhost:8080/",
          "height": 419
        },
        "outputId": "12d3bd1f-fdb9-4497-b118-98cf3ab435af"
      },
      "source": [
        "inf_df"
      ],
      "execution_count": null,
      "outputs": [
        {
          "output_type": "execute_result",
          "data": {
            "text/html": [
              "<div>\n",
              "<style scoped>\n",
              "    .dataframe tbody tr th:only-of-type {\n",
              "        vertical-align: middle;\n",
              "    }\n",
              "\n",
              "    .dataframe tbody tr th {\n",
              "        vertical-align: top;\n",
              "    }\n",
              "\n",
              "    .dataframe thead th {\n",
              "        text-align: right;\n",
              "    }\n",
              "</style>\n",
              "<table border=\"1\" class=\"dataframe\">\n",
              "  <thead>\n",
              "    <tr style=\"text-align: right;\">\n",
              "      <th></th>\n",
              "      <th>file_path</th>\n",
              "      <th>gender</th>\n",
              "      <th>item_type</th>\n",
              "    </tr>\n",
              "  </thead>\n",
              "  <tbody>\n",
              "    <tr>\n",
              "      <th>0</th>\n",
              "      <td>inf_img/34316.jpg</td>\n",
              "      <td>Men</td>\n",
              "      <td>Tshirts</td>\n",
              "    </tr>\n",
              "    <tr>\n",
              "      <th>1</th>\n",
              "      <td>inf_img/34444.jpg</td>\n",
              "      <td>Women</td>\n",
              "      <td>Tshirts</td>\n",
              "    </tr>\n",
              "    <tr>\n",
              "      <th>2</th>\n",
              "      <td>inf_img/44436.jpg</td>\n",
              "      <td>Men</td>\n",
              "      <td>Casual Shoes</td>\n",
              "    </tr>\n",
              "    <tr>\n",
              "      <th>3</th>\n",
              "      <td>inf_img/58276.jpg</td>\n",
              "      <td>Women</td>\n",
              "      <td>Handbags</td>\n",
              "    </tr>\n",
              "    <tr>\n",
              "      <th>4</th>\n",
              "      <td>inf_img/8636.jpg</td>\n",
              "      <td>Unisex</td>\n",
              "      <td>Sunglasses</td>\n",
              "    </tr>\n",
              "    <tr>\n",
              "      <th>...</th>\n",
              "      <td>...</td>\n",
              "      <td>...</td>\n",
              "      <td>...</td>\n",
              "    </tr>\n",
              "    <tr>\n",
              "      <th>465</th>\n",
              "      <td>inf_img/26595.jpg</td>\n",
              "      <td>Men</td>\n",
              "      <td>Sports Shoes</td>\n",
              "    </tr>\n",
              "    <tr>\n",
              "      <th>466</th>\n",
              "      <td>inf_img/48337.jpg</td>\n",
              "      <td>Women</td>\n",
              "      <td>Necklace and Chains</td>\n",
              "    </tr>\n",
              "    <tr>\n",
              "      <th>467</th>\n",
              "      <td>inf_img/6657.jpg</td>\n",
              "      <td>Women</td>\n",
              "      <td>Flip Flops</td>\n",
              "    </tr>\n",
              "    <tr>\n",
              "      <th>468</th>\n",
              "      <td>inf_img/32602.jpg</td>\n",
              "      <td>Men</td>\n",
              "      <td>Wallets</td>\n",
              "    </tr>\n",
              "    <tr>\n",
              "      <th>469</th>\n",
              "      <td>inf_img/27484.jpg</td>\n",
              "      <td>Women</td>\n",
              "      <td>Briefs</td>\n",
              "    </tr>\n",
              "  </tbody>\n",
              "</table>\n",
              "<p>470 rows × 3 columns</p>\n",
              "</div>"
            ],
            "text/plain": [
              "             file_path  gender            item_type\n",
              "0    inf_img/34316.jpg     Men              Tshirts\n",
              "1    inf_img/34444.jpg   Women              Tshirts\n",
              "2    inf_img/44436.jpg     Men         Casual Shoes\n",
              "3    inf_img/58276.jpg   Women             Handbags\n",
              "4     inf_img/8636.jpg  Unisex           Sunglasses\n",
              "..                 ...     ...                  ...\n",
              "465  inf_img/26595.jpg     Men         Sports Shoes\n",
              "466  inf_img/48337.jpg   Women  Necklace and Chains\n",
              "467   inf_img/6657.jpg   Women           Flip Flops\n",
              "468  inf_img/32602.jpg     Men              Wallets\n",
              "469  inf_img/27484.jpg   Women               Briefs\n",
              "\n",
              "[470 rows x 3 columns]"
            ]
          },
          "metadata": {
            "tags": []
          },
          "execution_count": 14
        }
      ]
    },
    {
      "cell_type": "code",
      "metadata": {
        "id": "aj2Z1QXK-zkm"
      },
      "source": [
        "inf_df['fpath'] = 'inf_img/' + inf_df['fname']"
      ],
      "execution_count": null,
      "outputs": []
    },
    {
      "cell_type": "code",
      "metadata": {
        "id": "dV7RATpf_ZBi"
      },
      "source": [
        "inf_df = inf_df.drop(['fname'], axis=1)"
      ],
      "execution_count": null,
      "outputs": []
    },
    {
      "cell_type": "code",
      "metadata": {
        "id": "CAXPSujj_lYS",
        "colab": {
          "base_uri": "https://localhost:8080/",
          "height": 419
        },
        "outputId": "22fbefbb-8080-47bc-bf47-01d5a09476f8"
      },
      "source": [
        "inf_df"
      ],
      "execution_count": null,
      "outputs": [
        {
          "output_type": "execute_result",
          "data": {
            "text/html": [
              "<div>\n",
              "<style scoped>\n",
              "    .dataframe tbody tr th:only-of-type {\n",
              "        vertical-align: middle;\n",
              "    }\n",
              "\n",
              "    .dataframe tbody tr th {\n",
              "        vertical-align: top;\n",
              "    }\n",
              "\n",
              "    .dataframe thead th {\n",
              "        text-align: right;\n",
              "    }\n",
              "</style>\n",
              "<table border=\"1\" class=\"dataframe\">\n",
              "  <thead>\n",
              "    <tr style=\"text-align: right;\">\n",
              "      <th></th>\n",
              "      <th>gender</th>\n",
              "      <th>masterCategory</th>\n",
              "      <th>subCategory</th>\n",
              "      <th>articleType</th>\n",
              "      <th>baseColour</th>\n",
              "      <th>season</th>\n",
              "      <th>usage</th>\n",
              "      <th>fpath</th>\n",
              "    </tr>\n",
              "  </thead>\n",
              "  <tbody>\n",
              "    <tr>\n",
              "      <th>0</th>\n",
              "      <td>Men</td>\n",
              "      <td>Apparel</td>\n",
              "      <td>Topwear</td>\n",
              "      <td>Tshirts</td>\n",
              "      <td>Orange</td>\n",
              "      <td>Summer</td>\n",
              "      <td>Casual</td>\n",
              "      <td>inf_img/34316.jpg</td>\n",
              "    </tr>\n",
              "    <tr>\n",
              "      <th>1</th>\n",
              "      <td>Women</td>\n",
              "      <td>Apparel</td>\n",
              "      <td>Topwear</td>\n",
              "      <td>Tshirts</td>\n",
              "      <td>Peach</td>\n",
              "      <td>Summer</td>\n",
              "      <td>Casual</td>\n",
              "      <td>inf_img/34444.jpg</td>\n",
              "    </tr>\n",
              "    <tr>\n",
              "      <th>2</th>\n",
              "      <td>Men</td>\n",
              "      <td>Footwear</td>\n",
              "      <td>Shoes</td>\n",
              "      <td>Casual Shoes</td>\n",
              "      <td>Grey</td>\n",
              "      <td>Summer</td>\n",
              "      <td>Casual</td>\n",
              "      <td>inf_img/44436.jpg</td>\n",
              "    </tr>\n",
              "    <tr>\n",
              "      <th>3</th>\n",
              "      <td>Women</td>\n",
              "      <td>Accessories</td>\n",
              "      <td>Bags</td>\n",
              "      <td>Handbags</td>\n",
              "      <td>Purple</td>\n",
              "      <td>Summer</td>\n",
              "      <td>Casual</td>\n",
              "      <td>inf_img/58276.jpg</td>\n",
              "    </tr>\n",
              "    <tr>\n",
              "      <th>4</th>\n",
              "      <td>Unisex</td>\n",
              "      <td>Accessories</td>\n",
              "      <td>Eyewear</td>\n",
              "      <td>Sunglasses</td>\n",
              "      <td>Black</td>\n",
              "      <td>Winter</td>\n",
              "      <td>Casual</td>\n",
              "      <td>inf_img/8636.jpg</td>\n",
              "    </tr>\n",
              "    <tr>\n",
              "      <th>...</th>\n",
              "      <td>...</td>\n",
              "      <td>...</td>\n",
              "      <td>...</td>\n",
              "      <td>...</td>\n",
              "      <td>...</td>\n",
              "      <td>...</td>\n",
              "      <td>...</td>\n",
              "      <td>...</td>\n",
              "    </tr>\n",
              "    <tr>\n",
              "      <th>465</th>\n",
              "      <td>Men</td>\n",
              "      <td>Footwear</td>\n",
              "      <td>Shoes</td>\n",
              "      <td>Sports Shoes</td>\n",
              "      <td>White</td>\n",
              "      <td>Summer</td>\n",
              "      <td>Sports</td>\n",
              "      <td>inf_img/26595.jpg</td>\n",
              "    </tr>\n",
              "    <tr>\n",
              "      <th>466</th>\n",
              "      <td>Women</td>\n",
              "      <td>Accessories</td>\n",
              "      <td>Jewellery</td>\n",
              "      <td>Necklace and Chains</td>\n",
              "      <td>Gold</td>\n",
              "      <td>Fall</td>\n",
              "      <td>Casual</td>\n",
              "      <td>inf_img/48337.jpg</td>\n",
              "    </tr>\n",
              "    <tr>\n",
              "      <th>467</th>\n",
              "      <td>Women</td>\n",
              "      <td>Footwear</td>\n",
              "      <td>Flip Flops</td>\n",
              "      <td>Flip Flops</td>\n",
              "      <td>Brown</td>\n",
              "      <td>Summer</td>\n",
              "      <td>Casual</td>\n",
              "      <td>inf_img/6657.jpg</td>\n",
              "    </tr>\n",
              "    <tr>\n",
              "      <th>468</th>\n",
              "      <td>Men</td>\n",
              "      <td>Accessories</td>\n",
              "      <td>Wallets</td>\n",
              "      <td>Wallets</td>\n",
              "      <td>Brown</td>\n",
              "      <td>Spring</td>\n",
              "      <td>Casual</td>\n",
              "      <td>inf_img/32602.jpg</td>\n",
              "    </tr>\n",
              "    <tr>\n",
              "      <th>469</th>\n",
              "      <td>Women</td>\n",
              "      <td>Apparel</td>\n",
              "      <td>Innerwear</td>\n",
              "      <td>Briefs</td>\n",
              "      <td>Black</td>\n",
              "      <td>Winter</td>\n",
              "      <td>Casual</td>\n",
              "      <td>inf_img/27484.jpg</td>\n",
              "    </tr>\n",
              "  </tbody>\n",
              "</table>\n",
              "<p>470 rows × 8 columns</p>\n",
              "</div>"
            ],
            "text/plain": [
              "     gender masterCategory subCategory  ...  season   usage              fpath\n",
              "0       Men        Apparel     Topwear  ...  Summer  Casual  inf_img/34316.jpg\n",
              "1     Women        Apparel     Topwear  ...  Summer  Casual  inf_img/34444.jpg\n",
              "2       Men       Footwear       Shoes  ...  Summer  Casual  inf_img/44436.jpg\n",
              "3     Women    Accessories        Bags  ...  Summer  Casual  inf_img/58276.jpg\n",
              "4    Unisex    Accessories     Eyewear  ...  Winter  Casual   inf_img/8636.jpg\n",
              "..      ...            ...         ...  ...     ...     ...                ...\n",
              "465     Men       Footwear       Shoes  ...  Summer  Sports  inf_img/26595.jpg\n",
              "466   Women    Accessories   Jewellery  ...    Fall  Casual  inf_img/48337.jpg\n",
              "467   Women       Footwear  Flip Flops  ...  Summer  Casual   inf_img/6657.jpg\n",
              "468     Men    Accessories     Wallets  ...  Spring  Casual  inf_img/32602.jpg\n",
              "469   Women        Apparel   Innerwear  ...  Winter  Casual  inf_img/27484.jpg\n",
              "\n",
              "[470 rows x 8 columns]"
            ]
          },
          "metadata": {
            "tags": []
          },
          "execution_count": 28
        }
      ]
    },
    {
      "cell_type": "code",
      "metadata": {
        "id": "ipoWzbEkAQGq"
      },
      "source": [
        "inf_df = inf_df.drop(['masterCategory', 'subCategory', 'baseColour', 'season', 'usage'], axis=1)"
      ],
      "execution_count": null,
      "outputs": []
    },
    {
      "cell_type": "code",
      "metadata": {
        "id": "RSkeXsKXAoiP",
        "colab": {
          "base_uri": "https://localhost:8080/",
          "height": 419
        },
        "outputId": "1673c46c-3992-4d0c-e90f-c8e46fbe0eb0"
      },
      "source": [
        "inf_df"
      ],
      "execution_count": null,
      "outputs": [
        {
          "output_type": "execute_result",
          "data": {
            "text/html": [
              "<div>\n",
              "<style scoped>\n",
              "    .dataframe tbody tr th:only-of-type {\n",
              "        vertical-align: middle;\n",
              "    }\n",
              "\n",
              "    .dataframe tbody tr th {\n",
              "        vertical-align: top;\n",
              "    }\n",
              "\n",
              "    .dataframe thead th {\n",
              "        text-align: right;\n",
              "    }\n",
              "</style>\n",
              "<table border=\"1\" class=\"dataframe\">\n",
              "  <thead>\n",
              "    <tr style=\"text-align: right;\">\n",
              "      <th></th>\n",
              "      <th>gender</th>\n",
              "      <th>articleType</th>\n",
              "      <th>fpath</th>\n",
              "    </tr>\n",
              "  </thead>\n",
              "  <tbody>\n",
              "    <tr>\n",
              "      <th>0</th>\n",
              "      <td>Men</td>\n",
              "      <td>Tshirts</td>\n",
              "      <td>inf_img/34316.jpg</td>\n",
              "    </tr>\n",
              "    <tr>\n",
              "      <th>1</th>\n",
              "      <td>Women</td>\n",
              "      <td>Tshirts</td>\n",
              "      <td>inf_img/34444.jpg</td>\n",
              "    </tr>\n",
              "    <tr>\n",
              "      <th>2</th>\n",
              "      <td>Men</td>\n",
              "      <td>Casual Shoes</td>\n",
              "      <td>inf_img/44436.jpg</td>\n",
              "    </tr>\n",
              "    <tr>\n",
              "      <th>3</th>\n",
              "      <td>Women</td>\n",
              "      <td>Handbags</td>\n",
              "      <td>inf_img/58276.jpg</td>\n",
              "    </tr>\n",
              "    <tr>\n",
              "      <th>4</th>\n",
              "      <td>Unisex</td>\n",
              "      <td>Sunglasses</td>\n",
              "      <td>inf_img/8636.jpg</td>\n",
              "    </tr>\n",
              "    <tr>\n",
              "      <th>...</th>\n",
              "      <td>...</td>\n",
              "      <td>...</td>\n",
              "      <td>...</td>\n",
              "    </tr>\n",
              "    <tr>\n",
              "      <th>465</th>\n",
              "      <td>Men</td>\n",
              "      <td>Sports Shoes</td>\n",
              "      <td>inf_img/26595.jpg</td>\n",
              "    </tr>\n",
              "    <tr>\n",
              "      <th>466</th>\n",
              "      <td>Women</td>\n",
              "      <td>Necklace and Chains</td>\n",
              "      <td>inf_img/48337.jpg</td>\n",
              "    </tr>\n",
              "    <tr>\n",
              "      <th>467</th>\n",
              "      <td>Women</td>\n",
              "      <td>Flip Flops</td>\n",
              "      <td>inf_img/6657.jpg</td>\n",
              "    </tr>\n",
              "    <tr>\n",
              "      <th>468</th>\n",
              "      <td>Men</td>\n",
              "      <td>Wallets</td>\n",
              "      <td>inf_img/32602.jpg</td>\n",
              "    </tr>\n",
              "    <tr>\n",
              "      <th>469</th>\n",
              "      <td>Women</td>\n",
              "      <td>Briefs</td>\n",
              "      <td>inf_img/27484.jpg</td>\n",
              "    </tr>\n",
              "  </tbody>\n",
              "</table>\n",
              "<p>470 rows × 3 columns</p>\n",
              "</div>"
            ],
            "text/plain": [
              "     gender          articleType              fpath\n",
              "0       Men              Tshirts  inf_img/34316.jpg\n",
              "1     Women              Tshirts  inf_img/34444.jpg\n",
              "2       Men         Casual Shoes  inf_img/44436.jpg\n",
              "3     Women             Handbags  inf_img/58276.jpg\n",
              "4    Unisex           Sunglasses   inf_img/8636.jpg\n",
              "..      ...                  ...                ...\n",
              "465     Men         Sports Shoes  inf_img/26595.jpg\n",
              "466   Women  Necklace and Chains  inf_img/48337.jpg\n",
              "467   Women           Flip Flops   inf_img/6657.jpg\n",
              "468     Men              Wallets  inf_img/32602.jpg\n",
              "469   Women               Briefs  inf_img/27484.jpg\n",
              "\n",
              "[470 rows x 3 columns]"
            ]
          },
          "metadata": {
            "tags": []
          },
          "execution_count": 32
        }
      ]
    },
    {
      "cell_type": "code",
      "metadata": {
        "id": "ozC617BBHKuX"
      },
      "source": [
        "inf_df = inf_df[['fpath', 'gender', 'articleType']]"
      ],
      "execution_count": null,
      "outputs": []
    },
    {
      "cell_type": "code",
      "metadata": {
        "id": "jXjXjzveHW8r",
        "colab": {
          "base_uri": "https://localhost:8080/",
          "height": 419
        },
        "outputId": "bf351ff7-6ccd-49fb-cc4b-97292aeabd5a"
      },
      "source": [
        "inf_df"
      ],
      "execution_count": null,
      "outputs": [
        {
          "output_type": "execute_result",
          "data": {
            "text/html": [
              "<div>\n",
              "<style scoped>\n",
              "    .dataframe tbody tr th:only-of-type {\n",
              "        vertical-align: middle;\n",
              "    }\n",
              "\n",
              "    .dataframe tbody tr th {\n",
              "        vertical-align: top;\n",
              "    }\n",
              "\n",
              "    .dataframe thead th {\n",
              "        text-align: right;\n",
              "    }\n",
              "</style>\n",
              "<table border=\"1\" class=\"dataframe\">\n",
              "  <thead>\n",
              "    <tr style=\"text-align: right;\">\n",
              "      <th></th>\n",
              "      <th>file_path</th>\n",
              "      <th>gender</th>\n",
              "      <th>item_type</th>\n",
              "    </tr>\n",
              "  </thead>\n",
              "  <tbody>\n",
              "    <tr>\n",
              "      <th>0</th>\n",
              "      <td>inf_img/34316.jpg</td>\n",
              "      <td>Men</td>\n",
              "      <td>Tshirts</td>\n",
              "    </tr>\n",
              "    <tr>\n",
              "      <th>1</th>\n",
              "      <td>inf_img/34444.jpg</td>\n",
              "      <td>Women</td>\n",
              "      <td>Tshirts</td>\n",
              "    </tr>\n",
              "    <tr>\n",
              "      <th>2</th>\n",
              "      <td>inf_img/44436.jpg</td>\n",
              "      <td>Men</td>\n",
              "      <td>Casual Shoes</td>\n",
              "    </tr>\n",
              "    <tr>\n",
              "      <th>3</th>\n",
              "      <td>inf_img/58276.jpg</td>\n",
              "      <td>Women</td>\n",
              "      <td>Handbags</td>\n",
              "    </tr>\n",
              "    <tr>\n",
              "      <th>4</th>\n",
              "      <td>inf_img/8636.jpg</td>\n",
              "      <td>Unisex</td>\n",
              "      <td>Sunglasses</td>\n",
              "    </tr>\n",
              "    <tr>\n",
              "      <th>...</th>\n",
              "      <td>...</td>\n",
              "      <td>...</td>\n",
              "      <td>...</td>\n",
              "    </tr>\n",
              "    <tr>\n",
              "      <th>465</th>\n",
              "      <td>inf_img/26595.jpg</td>\n",
              "      <td>Men</td>\n",
              "      <td>Sports Shoes</td>\n",
              "    </tr>\n",
              "    <tr>\n",
              "      <th>466</th>\n",
              "      <td>inf_img/48337.jpg</td>\n",
              "      <td>Women</td>\n",
              "      <td>Necklace and Chains</td>\n",
              "    </tr>\n",
              "    <tr>\n",
              "      <th>467</th>\n",
              "      <td>inf_img/6657.jpg</td>\n",
              "      <td>Women</td>\n",
              "      <td>Flip Flops</td>\n",
              "    </tr>\n",
              "    <tr>\n",
              "      <th>468</th>\n",
              "      <td>inf_img/32602.jpg</td>\n",
              "      <td>Men</td>\n",
              "      <td>Wallets</td>\n",
              "    </tr>\n",
              "    <tr>\n",
              "      <th>469</th>\n",
              "      <td>inf_img/27484.jpg</td>\n",
              "      <td>Women</td>\n",
              "      <td>Briefs</td>\n",
              "    </tr>\n",
              "  </tbody>\n",
              "</table>\n",
              "<p>470 rows × 3 columns</p>\n",
              "</div>"
            ],
            "text/plain": [
              "             file_path  gender            item_type\n",
              "0    inf_img/34316.jpg     Men              Tshirts\n",
              "1    inf_img/34444.jpg   Women              Tshirts\n",
              "2    inf_img/44436.jpg     Men         Casual Shoes\n",
              "3    inf_img/58276.jpg   Women             Handbags\n",
              "4     inf_img/8636.jpg  Unisex           Sunglasses\n",
              "..                 ...     ...                  ...\n",
              "465  inf_img/26595.jpg     Men         Sports Shoes\n",
              "466  inf_img/48337.jpg   Women  Necklace and Chains\n",
              "467   inf_img/6657.jpg   Women           Flip Flops\n",
              "468  inf_img/32602.jpg     Men              Wallets\n",
              "469  inf_img/27484.jpg   Women               Briefs\n",
              "\n",
              "[470 rows x 3 columns]"
            ]
          },
          "metadata": {
            "tags": []
          },
          "execution_count": 13
        }
      ]
    },
    {
      "cell_type": "code",
      "metadata": {
        "id": "2V1MceuYGy5U"
      },
      "source": [
        "inf_df = inf_df.rename(columns={'fpath': 'file_path', 'gender': 'gender', 'articleType': 'item_type'})"
      ],
      "execution_count": null,
      "outputs": []
    },
    {
      "cell_type": "code",
      "metadata": {
        "id": "DpvNR1wYHeok",
        "colab": {
          "base_uri": "https://localhost:8080/",
          "height": 419
        },
        "outputId": "a8048166-95c9-4d8a-becb-01e7774a591a"
      },
      "source": [
        "inf_df"
      ],
      "execution_count": null,
      "outputs": [
        {
          "output_type": "execute_result",
          "data": {
            "text/html": [
              "<div>\n",
              "<style scoped>\n",
              "    .dataframe tbody tr th:only-of-type {\n",
              "        vertical-align: middle;\n",
              "    }\n",
              "\n",
              "    .dataframe tbody tr th {\n",
              "        vertical-align: top;\n",
              "    }\n",
              "\n",
              "    .dataframe thead th {\n",
              "        text-align: right;\n",
              "    }\n",
              "</style>\n",
              "<table border=\"1\" class=\"dataframe\">\n",
              "  <thead>\n",
              "    <tr style=\"text-align: right;\">\n",
              "      <th></th>\n",
              "      <th>file_path</th>\n",
              "      <th>gender</th>\n",
              "      <th>item_type</th>\n",
              "    </tr>\n",
              "  </thead>\n",
              "  <tbody>\n",
              "    <tr>\n",
              "      <th>0</th>\n",
              "      <td>inf_img/34316.jpg</td>\n",
              "      <td>Men</td>\n",
              "      <td>Tshirts</td>\n",
              "    </tr>\n",
              "    <tr>\n",
              "      <th>1</th>\n",
              "      <td>inf_img/34444.jpg</td>\n",
              "      <td>Women</td>\n",
              "      <td>Tshirts</td>\n",
              "    </tr>\n",
              "    <tr>\n",
              "      <th>2</th>\n",
              "      <td>inf_img/44436.jpg</td>\n",
              "      <td>Men</td>\n",
              "      <td>Casual Shoes</td>\n",
              "    </tr>\n",
              "    <tr>\n",
              "      <th>3</th>\n",
              "      <td>inf_img/58276.jpg</td>\n",
              "      <td>Women</td>\n",
              "      <td>Handbags</td>\n",
              "    </tr>\n",
              "    <tr>\n",
              "      <th>4</th>\n",
              "      <td>inf_img/8636.jpg</td>\n",
              "      <td>Unisex</td>\n",
              "      <td>Sunglasses</td>\n",
              "    </tr>\n",
              "    <tr>\n",
              "      <th>...</th>\n",
              "      <td>...</td>\n",
              "      <td>...</td>\n",
              "      <td>...</td>\n",
              "    </tr>\n",
              "    <tr>\n",
              "      <th>465</th>\n",
              "      <td>inf_img/26595.jpg</td>\n",
              "      <td>Men</td>\n",
              "      <td>Sports Shoes</td>\n",
              "    </tr>\n",
              "    <tr>\n",
              "      <th>466</th>\n",
              "      <td>inf_img/48337.jpg</td>\n",
              "      <td>Women</td>\n",
              "      <td>Necklace and Chains</td>\n",
              "    </tr>\n",
              "    <tr>\n",
              "      <th>467</th>\n",
              "      <td>inf_img/6657.jpg</td>\n",
              "      <td>Women</td>\n",
              "      <td>Flip Flops</td>\n",
              "    </tr>\n",
              "    <tr>\n",
              "      <th>468</th>\n",
              "      <td>inf_img/32602.jpg</td>\n",
              "      <td>Men</td>\n",
              "      <td>Wallets</td>\n",
              "    </tr>\n",
              "    <tr>\n",
              "      <th>469</th>\n",
              "      <td>inf_img/27484.jpg</td>\n",
              "      <td>Women</td>\n",
              "      <td>Briefs</td>\n",
              "    </tr>\n",
              "  </tbody>\n",
              "</table>\n",
              "<p>470 rows × 3 columns</p>\n",
              "</div>"
            ],
            "text/plain": [
              "             file_path  gender            item_type\n",
              "0    inf_img/34316.jpg     Men              Tshirts\n",
              "1    inf_img/34444.jpg   Women              Tshirts\n",
              "2    inf_img/44436.jpg     Men         Casual Shoes\n",
              "3    inf_img/58276.jpg   Women             Handbags\n",
              "4     inf_img/8636.jpg  Unisex           Sunglasses\n",
              "..                 ...     ...                  ...\n",
              "465  inf_img/26595.jpg     Men         Sports Shoes\n",
              "466  inf_img/48337.jpg   Women  Necklace and Chains\n",
              "467   inf_img/6657.jpg   Women           Flip Flops\n",
              "468  inf_img/32602.jpg     Men              Wallets\n",
              "469  inf_img/27484.jpg   Women               Briefs\n",
              "\n",
              "[470 rows x 3 columns]"
            ]
          },
          "metadata": {
            "tags": []
          },
          "execution_count": 41
        }
      ]
    },
    {
      "cell_type": "code",
      "metadata": {
        "id": "m8thezl-A2E9",
        "colab": {
          "base_uri": "https://localhost:8080/"
        },
        "outputId": "5b6b1c9b-6724-4ee8-b878-7598e3dc8581"
      },
      "source": [
        "inf_df['gender'].unique()"
      ],
      "execution_count": 14,
      "outputs": [
        {
          "output_type": "execute_result",
          "data": {
            "text/plain": [
              "array(['Men', 'Women', 'Unisex', 'Boys', 'Girls'], dtype=object)"
            ]
          },
          "metadata": {
            "tags": []
          },
          "execution_count": 14
        }
      ]
    },
    {
      "cell_type": "code",
      "metadata": {
        "id": "fv9FQougA2Nv",
        "colab": {
          "base_uri": "https://localhost:8080/"
        },
        "outputId": "c0e9803d-caf3-401d-c1b6-2001097af707"
      },
      "source": [
        "len(inf_df['item_type'].unique())"
      ],
      "execution_count": 15,
      "outputs": [
        {
          "output_type": "execute_result",
          "data": {
            "text/plain": [
              "64"
            ]
          },
          "metadata": {
            "tags": []
          },
          "execution_count": 15
        }
      ]
    },
    {
      "cell_type": "code",
      "metadata": {
        "id": "8cc4eWy0auS9"
      },
      "source": [
        "unique_itemtype = []\n",
        "unique_itemtype = list(set(inf_df['item_type']))"
      ],
      "execution_count": 16,
      "outputs": []
    },
    {
      "cell_type": "code",
      "metadata": {
        "colab": {
          "base_uri": "https://localhost:8080/"
        },
        "id": "GdOm5sWka-Kv",
        "outputId": "c60589d4-d4c6-42b6-931e-5b0c630f274b"
      },
      "source": [
        "sorted(unique_itemtype)"
      ],
      "execution_count": 17,
      "outputs": [
        {
          "output_type": "execute_result",
          "data": {
            "text/plain": [
              "['Accessory Gift Set',\n",
              " 'Baby Dolls',\n",
              " 'Backpacks',\n",
              " 'Belts',\n",
              " 'Bra',\n",
              " 'Briefs',\n",
              " 'Capris',\n",
              " 'Caps',\n",
              " 'Casual Shoes',\n",
              " 'Clutches',\n",
              " 'Compact',\n",
              " 'Cufflinks',\n",
              " 'Deodorant',\n",
              " 'Dresses',\n",
              " 'Dupatta',\n",
              " 'Earrings',\n",
              " 'Eyeshadow',\n",
              " 'Flats',\n",
              " 'Flip Flops',\n",
              " 'Formal Shoes',\n",
              " 'Foundation and Primer',\n",
              " 'Fragrance Gift Set',\n",
              " 'Gloves',\n",
              " 'Hair Colour',\n",
              " 'Handbags',\n",
              " 'Heels',\n",
              " 'Highlighter and Blush',\n",
              " 'Innerwear Vests',\n",
              " 'Jackets',\n",
              " 'Jeans',\n",
              " 'Jewellery Set',\n",
              " 'Kurta Sets',\n",
              " 'Kurtas',\n",
              " 'Kurtis',\n",
              " 'Laptop Bag',\n",
              " 'Lipstick',\n",
              " 'Lounge Pants',\n",
              " 'Mufflers',\n",
              " 'Nail Polish',\n",
              " 'Necklace and Chains',\n",
              " 'Night suits',\n",
              " 'Pendant',\n",
              " 'Perfume and Body Mist',\n",
              " 'Ring',\n",
              " 'Salwar',\n",
              " 'Sandals',\n",
              " 'Sarees',\n",
              " 'Shirts',\n",
              " 'Shorts',\n",
              " 'Skirts',\n",
              " 'Socks',\n",
              " 'Sports Shoes',\n",
              " 'Sunglasses',\n",
              " 'Sunscreen',\n",
              " 'Sweaters',\n",
              " 'Sweatshirts',\n",
              " 'Ties',\n",
              " 'Tops',\n",
              " 'Track Pants',\n",
              " 'Trousers',\n",
              " 'Trunk',\n",
              " 'Tshirts',\n",
              " 'Wallets',\n",
              " 'Watches']"
            ]
          },
          "metadata": {
            "tags": []
          },
          "execution_count": 17
        }
      ]
    },
    {
      "cell_type": "code",
      "metadata": {
        "id": "9NVW9sm3a-Rc"
      },
      "source": [
        "exluded_items= ['Wallets', 'Sunscreen', 'Pendant', 'Ring', 'Necklace and Chains', 'Nail Polish', 'Lipstick', 'Laptop Bag', 'Jewellery Set', 'Innerwear Vests', 'Highlighter and Blush', 'Handbags', 'Hair Colour', 'Perfume and Body Mist', 'Fragrance Gift Set', 'Foundation and Primer', 'Eyeshadow', 'Earrings', 'Dupatta', 'Deodorant', 'Cufflinks', 'Compact', 'Clutches', 'Socks', 'Aprons', 'Backpacks', 'Bra', 'Briefs', 'Accessory Gift Set',\n",
        " 'Baby Dolls', 'Kurtas', 'Kurtis', 'Ties', 'Sarees', 'Trunk', 'Salwar', 'Kurta Sets', 'Watches', 'Sunglasses', 'Mufflers', 'Belts', 'Gloves', 'Caps'  ]"
      ],
      "execution_count": 18,
      "outputs": []
    },
    {
      "cell_type": "code",
      "metadata": {
        "colab": {
          "base_uri": "https://localhost:8080/"
        },
        "id": "NDkmHXdXgXjm",
        "outputId": "8c55833e-ef6b-477c-8499-da8068d8eabe"
      },
      "source": [
        "len(exluded_items)"
      ],
      "execution_count": 19,
      "outputs": [
        {
          "output_type": "execute_result",
          "data": {
            "text/plain": [
              "43"
            ]
          },
          "metadata": {
            "tags": []
          },
          "execution_count": 19
        }
      ]
    },
    {
      "cell_type": "code",
      "metadata": {
        "id": "gYLekk42foLT"
      },
      "source": [
        "inf_df = inf_df[~inf_df['item_type'].isin(exluded_items)]"
      ],
      "execution_count": 20,
      "outputs": []
    },
    {
      "cell_type": "code",
      "metadata": {
        "colab": {
          "base_uri": "https://localhost:8080/"
        },
        "id": "m31Fj5hqf_Of",
        "outputId": "12adc68a-5627-4095-c04d-c91d4528f426"
      },
      "source": [
        "inf_df['item_type'].unique()"
      ],
      "execution_count": 21,
      "outputs": [
        {
          "output_type": "execute_result",
          "data": {
            "text/plain": [
              "array(['Tshirts', 'Casual Shoes', 'Night suits', 'Skirts', 'Shirts', 'Track Pants', 'Tops', 'Sports Shoes', 'Jeans',\n",
              "       'Heels', 'Sweatshirts', 'Flats', 'Capris', 'Flip Flops', 'Shorts', 'Sandals', 'Dresses', 'Trousers', 'Sweaters',\n",
              "       'Lounge Pants', 'Formal Shoes', 'Jackets'], dtype=object)"
            ]
          },
          "metadata": {
            "tags": []
          },
          "execution_count": 21
        }
      ]
    },
    {
      "cell_type": "code",
      "metadata": {
        "colab": {
          "base_uri": "https://localhost:8080/"
        },
        "id": "KZm93d_KgHoy",
        "outputId": "c8cea163-88ad-41f9-f077-c3984b733168"
      },
      "source": [
        "len(inf_df['item_type'].unique())"
      ],
      "execution_count": 22,
      "outputs": [
        {
          "output_type": "execute_result",
          "data": {
            "text/plain": [
              "22"
            ]
          },
          "metadata": {
            "tags": []
          },
          "execution_count": 22
        }
      ]
    },
    {
      "cell_type": "code",
      "metadata": {
        "colab": {
          "base_uri": "https://localhost:8080/",
          "height": 419
        },
        "id": "9cEV_CAvf2Ot",
        "outputId": "cd96ed59-f76c-404b-c5a4-8fbcdd5a13d0"
      },
      "source": [
        "inf_df"
      ],
      "execution_count": 23,
      "outputs": [
        {
          "output_type": "execute_result",
          "data": {
            "text/html": [
              "<div>\n",
              "<style scoped>\n",
              "    .dataframe tbody tr th:only-of-type {\n",
              "        vertical-align: middle;\n",
              "    }\n",
              "\n",
              "    .dataframe tbody tr th {\n",
              "        vertical-align: top;\n",
              "    }\n",
              "\n",
              "    .dataframe thead th {\n",
              "        text-align: right;\n",
              "    }\n",
              "</style>\n",
              "<table border=\"1\" class=\"dataframe\">\n",
              "  <thead>\n",
              "    <tr style=\"text-align: right;\">\n",
              "      <th></th>\n",
              "      <th>file_path</th>\n",
              "      <th>gender</th>\n",
              "      <th>item_type</th>\n",
              "    </tr>\n",
              "  </thead>\n",
              "  <tbody>\n",
              "    <tr>\n",
              "      <th>0</th>\n",
              "      <td>inf_img/34316.jpg</td>\n",
              "      <td>Men</td>\n",
              "      <td>Tshirts</td>\n",
              "    </tr>\n",
              "    <tr>\n",
              "      <th>1</th>\n",
              "      <td>inf_img/34444.jpg</td>\n",
              "      <td>Women</td>\n",
              "      <td>Tshirts</td>\n",
              "    </tr>\n",
              "    <tr>\n",
              "      <th>2</th>\n",
              "      <td>inf_img/44436.jpg</td>\n",
              "      <td>Men</td>\n",
              "      <td>Casual Shoes</td>\n",
              "    </tr>\n",
              "    <tr>\n",
              "      <th>5</th>\n",
              "      <td>inf_img/55818.jpg</td>\n",
              "      <td>Women</td>\n",
              "      <td>Night suits</td>\n",
              "    </tr>\n",
              "    <tr>\n",
              "      <th>6</th>\n",
              "      <td>inf_img/6860.jpg</td>\n",
              "      <td>Women</td>\n",
              "      <td>Skirts</td>\n",
              "    </tr>\n",
              "    <tr>\n",
              "      <th>...</th>\n",
              "      <td>...</td>\n",
              "      <td>...</td>\n",
              "      <td>...</td>\n",
              "    </tr>\n",
              "    <tr>\n",
              "      <th>462</th>\n",
              "      <td>inf_img/29573.jpg</td>\n",
              "      <td>Men</td>\n",
              "      <td>Casual Shoes</td>\n",
              "    </tr>\n",
              "    <tr>\n",
              "      <th>463</th>\n",
              "      <td>inf_img/26418.jpg</td>\n",
              "      <td>Men</td>\n",
              "      <td>Shirts</td>\n",
              "    </tr>\n",
              "    <tr>\n",
              "      <th>464</th>\n",
              "      <td>inf_img/46598.jpg</td>\n",
              "      <td>Women</td>\n",
              "      <td>Heels</td>\n",
              "    </tr>\n",
              "    <tr>\n",
              "      <th>465</th>\n",
              "      <td>inf_img/26595.jpg</td>\n",
              "      <td>Men</td>\n",
              "      <td>Sports Shoes</td>\n",
              "    </tr>\n",
              "    <tr>\n",
              "      <th>467</th>\n",
              "      <td>inf_img/6657.jpg</td>\n",
              "      <td>Women</td>\n",
              "      <td>Flip Flops</td>\n",
              "    </tr>\n",
              "  </tbody>\n",
              "</table>\n",
              "<p>262 rows × 3 columns</p>\n",
              "</div>"
            ],
            "text/plain": [
              "             file_path gender     item_type\n",
              "0    inf_img/34316.jpg    Men       Tshirts\n",
              "1    inf_img/34444.jpg  Women       Tshirts\n",
              "2    inf_img/44436.jpg    Men  Casual Shoes\n",
              "5    inf_img/55818.jpg  Women   Night suits\n",
              "6     inf_img/6860.jpg  Women        Skirts\n",
              "..                 ...    ...           ...\n",
              "462  inf_img/29573.jpg    Men  Casual Shoes\n",
              "463  inf_img/26418.jpg    Men        Shirts\n",
              "464  inf_img/46598.jpg  Women         Heels\n",
              "465  inf_img/26595.jpg    Men  Sports Shoes\n",
              "467   inf_img/6657.jpg  Women    Flip Flops\n",
              "\n",
              "[262 rows x 3 columns]"
            ]
          },
          "metadata": {
            "tags": []
          },
          "execution_count": 23
        }
      ]
    },
    {
      "cell_type": "code",
      "metadata": {
        "colab": {
          "base_uri": "https://localhost:8080/"
        },
        "id": "-jWcisYMhByO",
        "outputId": "3cea055d-6400-4ee7-97e1-7eb5dc8f9aaf"
      },
      "source": [
        "inf_df['item_type'].unique()"
      ],
      "execution_count": 24,
      "outputs": [
        {
          "output_type": "execute_result",
          "data": {
            "text/plain": [
              "array(['Tshirts', 'Casual Shoes', 'Night suits', 'Skirts', 'Shirts', 'Track Pants', 'Tops', 'Sports Shoes', 'Jeans',\n",
              "       'Heels', 'Sweatshirts', 'Flats', 'Capris', 'Flip Flops', 'Shorts', 'Sandals', 'Dresses', 'Trousers', 'Sweaters',\n",
              "       'Lounge Pants', 'Formal Shoes', 'Jackets'], dtype=object)"
            ]
          },
          "metadata": {
            "tags": []
          },
          "execution_count": 24
        }
      ]
    },
    {
      "cell_type": "code",
      "metadata": {
        "id": "dQakqhxfa95U"
      },
      "source": [
        "Shirts_Tshirts_tops = [ 'Tshirts', 'Shirts', 'Tops', 'Sweaters', 'Sweatshirts', 'Jackets']\n",
        "overalls_bodysuits = ['Night suits']\n",
        "pants = ['Trousers', 'Track Pants', 'Capris', 'Lounge Pants']\n",
        "shorts = ['Shorts']\n",
        "jeans = ['Jeans']\n",
        "dresses_skirts = ['Skirts', 'Dresses']\n",
        "#jackets = ['Coats', 'Jackets', 'JeanJacketsandTruckers']\n",
        "#sweatshirts = ['Sweatshirts']\n",
        "#accessories = ['Watches', 'Sunglasses', 'Mufflers', 'Belts', 'Gloves', 'Caps' ]\n",
        "footwear = ['Sandals', 'Heels', 'Formal Shoes', 'Flip Flops', 'Flats', 'Casual Shoes', 'Sports Shoes'  ]"
      ],
      "execution_count": 25,
      "outputs": []
    },
    {
      "cell_type": "code",
      "metadata": {
        "id": "G1zczu_RiSPv"
      },
      "source": [
        "diff = set(['Tshirts', 'Casual Shoes', 'Night suits', 'Skirts', 'Shirts', 'Track Pants', 'Tops', 'Sports Shoes', 'Jeans',\n",
        "       'Heels', 'Sweatshirts', 'Flats', 'Capris', 'Flip Flops', 'Shorts', 'Sandals', 'Dresses', 'Trousers', 'Sweaters',\n",
        "       'Lounge Pants', 'Formal Shoes', 'Jackets']) - set(Shirts_Tshirts_tops + overalls_bodysuits + pants\n",
        "                                                            + shorts + jeans + dresses_skirts + footwear)"
      ],
      "execution_count": 26,
      "outputs": []
    },
    {
      "cell_type": "code",
      "metadata": {
        "colab": {
          "base_uri": "https://localhost:8080/"
        },
        "id": "lnMYMlbsimPe",
        "outputId": "69619b80-4fcc-4cd9-eb51-e6f5699a9741"
      },
      "source": [
        "diff"
      ],
      "execution_count": 27,
      "outputs": [
        {
          "output_type": "execute_result",
          "data": {
            "text/plain": [
              "set()"
            ]
          },
          "metadata": {
            "tags": []
          },
          "execution_count": 27
        }
      ]
    },
    {
      "cell_type": "code",
      "metadata": {
        "id": "dlgjEG-Niuq6"
      },
      "source": [
        "def reduce_item_type(x):\n",
        "    if x in Shirts_Tshirts_tops:\n",
        "        return \"Shirts, TShirts, Tops & Winterwear\"\n",
        "    elif x in overalls_bodysuits:\n",
        "        return \"Night suits\"\n",
        "    elif x in pants:\n",
        "        return \"Trousers, Track Pants, Capris & Lounge Pants\"\n",
        "    elif x in shorts:\n",
        "        return \"Shorts\"\n",
        "    elif x in jeans:\n",
        "        return \"Jeans\"\n",
        "    elif x in dresses_skirts:\n",
        "        return \"Skirts & Dresses\"\n",
        "    elif x in footwear:\n",
        "        return \"Sandals, Flats, Heels & Shoes\"\n",
        "    else:\n",
        "        return \"Other\""
      ],
      "execution_count": 28,
      "outputs": []
    },
    {
      "cell_type": "code",
      "metadata": {
        "id": "XYwWNVf6lIcq"
      },
      "source": [
        "inf_df[\"item_type\"]=inf_df[\"item_type\"].apply(reduce_item_type)"
      ],
      "execution_count": 29,
      "outputs": []
    },
    {
      "cell_type": "code",
      "metadata": {
        "colab": {
          "base_uri": "https://localhost:8080/"
        },
        "id": "8OiAAnxklSCK",
        "outputId": "d7af36fa-b4d6-4398-dc2e-ba85d66c5032"
      },
      "source": [
        "inf_df['item_type'].unique()"
      ],
      "execution_count": 30,
      "outputs": [
        {
          "output_type": "execute_result",
          "data": {
            "text/plain": [
              "array(['Shirts, TShirts, Tops & Winterwear', 'Sandals, Flats, Heels & Shoes', 'Night suits', 'Skirts & Dresses',\n",
              "       'Trousers, Track Pants, Capris & Lounge Pants', 'Jeans', 'Shorts'], dtype=object)"
            ]
          },
          "metadata": {
            "tags": []
          },
          "execution_count": 30
        }
      ]
    },
    {
      "cell_type": "code",
      "metadata": {
        "colab": {
          "base_uri": "https://localhost:8080/"
        },
        "id": "4CDB0ORglZ7t",
        "outputId": "00ee996d-7793-4ecd-90c4-135e67a84d97"
      },
      "source": [
        "inf_df.columns"
      ],
      "execution_count": 31,
      "outputs": [
        {
          "output_type": "execute_result",
          "data": {
            "text/plain": [
              "Index(['file_path', 'gender', 'item_type'], dtype='object')"
            ]
          },
          "metadata": {
            "tags": []
          },
          "execution_count": 31
        }
      ]
    },
    {
      "cell_type": "code",
      "metadata": {
        "id": "qj5yX1APADzg",
        "colab": {
          "base_uri": "https://localhost:8080/"
        },
        "outputId": "5b5f9382-1768-46ea-910d-e309147dacde"
      },
      "source": [
        "from nltk.stem import PorterStemmer\n",
        "porter = PorterStemmer()\n",
        "print(porter.stem(\"sadasd\"))"
      ],
      "execution_count": 32,
      "outputs": [
        {
          "output_type": "stream",
          "text": [
            "sadasd\n"
          ],
          "name": "stdout"
        }
      ]
    },
    {
      "cell_type": "code",
      "metadata": {
        "id": "Q_AX-qYO_qPP"
      },
      "source": [
        "inf_df.to_csv('/content/drive/MyDrive/EAST/Fashion_Data/reduced_inf.csv', index=False)"
      ],
      "execution_count": null,
      "outputs": []
    },
    {
      "cell_type": "markdown",
      "metadata": {
        "id": "UTfPU4HrBcOi"
      },
      "source": [
        "Loading encoder and defining neessary classes"
      ]
    },
    {
      "cell_type": "code",
      "metadata": {
        "id": "f7EvA5SaBdpF"
      },
      "source": [
        "class Model(nn.Module):\n",
        "    def __init__(self):\n",
        "        super().__init__()\n",
        "        self.res34=models.resnet34(pretrained=True)\n",
        "        self.res34.fc=nn.Linear(in_features=512,out_features=768)\n",
        "        self.n_label=len(embeddings_dict)   ## Dimensionality of multi hot encoded vector(multilabel)\n",
        "        self.fc2=nn.Linear(in_features=768,out_features=self.n_label)\n",
        "\n",
        "    def forward(self,X):\n",
        "        h1=self.res34(X)                      #image embedding\n",
        "        x=self.fc2(F.relu(h1))                #image embedding of the size of the vocab\n",
        "        return h1,x"
      ],
      "execution_count": 33,
      "outputs": []
    },
    {
      "cell_type": "code",
      "metadata": {
        "id": "IW-M7oP5BdkL"
      },
      "source": [
        "class ClothesDataset(Dataset):\n",
        "    \"\"\"Multilabel clothes dataset.\"\"\"\n",
        "\n",
        "    def __init__(self, csv_file, root_dir, embeddings_dict, seperator, classes, transform=None):\n",
        "        \"\"\"\n",
        "        Args:\n",
        "            csv_file (string): Path to the csv file with annotations.\n",
        "            root_dir (string): Directory with all the images.\n",
        "            transform (callable, optional): Optional transform to be applied\n",
        "                on a sample.\n",
        "        \"\"\"\n",
        "        self.multilabel_frame = pd.read_csv(csv_file)\n",
        "        self.root_dir = root_dir\n",
        "        self.embeddings_dict = embeddings_dict\n",
        "        self.seperator = seperator\n",
        "        self.classes = classes\n",
        "        self.encode()\n",
        "        self.transform = transform\n",
        "\n",
        "\n",
        "    def __len__(self):\n",
        "        return len(self.multilabel_frame)\n",
        "\n",
        "    def __getitem__(self, idx):\n",
        "        if torch.is_tensor(idx):\n",
        "            idx = idx.tolist()\n",
        "\n",
        "        img_name = os.path.join(self.root_dir,\n",
        "                                self.multilabel_frame.iloc[idx, 0])\n",
        "        image = io.imread(img_name)\n",
        "        sample = {'image': image,\n",
        "                  'img_name': img_name,\n",
        "                  'labels_w2v_sum': self.multilabel_frame.iloc[idx, 3],\n",
        "                  'labels_one_hot': self.multi_hot_encoded[idx]}\n",
        "\n",
        "        if self.transform:\n",
        "            sample = self.transform(sample)\n",
        "\n",
        "        return sample\n",
        "    def get_label_encoding(self, label_list):\n",
        "        w2v_encoding_list = list()\n",
        "        for label in label_list:\n",
        "              w2v_encoding_list.append(self.embeddings_dict[label][0])\n",
        "        return np.sum(np.array(w2v_encoding_list), axis=0)\n",
        "        \n",
        "    def encode(self):\n",
        "        mlb = MultiLabelBinarizer(classes=self.classes)\n",
        "        self.multilabel_frame['label_list'] = self.multilabel_frame.iloc[:,1].apply(lambda x: x.split(self.seperator))\n",
        "        self.multilabel_frame['w2v_list'] =  self.multilabel_frame['label_list'].apply(self.get_label_encoding)\n",
        "        self.multi_hot_encoded = mlb.fit_transform(self.multilabel_frame['label_list'])\n",
        "        self.multi_hot_classes = mlb.classes_"
      ],
      "execution_count": 34,
      "outputs": []
    },
    {
      "cell_type": "code",
      "metadata": {
        "id": "7WL7aSnSBb5x"
      },
      "source": [
        "class ClothesInference(Dataset):\n",
        "    \"\"\"Multilabel clothes dataset.\"\"\"\n",
        "\n",
        "    def __init__(self, csv_file, root_dir, transform=None):\n",
        "        \"\"\"\n",
        "        Args:\n",
        "            csv_file (string): Path to the csv file with annotations.\n",
        "            root_dir (string): Directory with all the images.\n",
        "            transform (callable, optional): Optional transform to be applied\n",
        "                on a sample.\n",
        "        \"\"\"\n",
        "        self.multilabel_frame = pd.read_csv(csv_file)\n",
        "        self.root_dir = root_dir\n",
        "        self.transform=transform\n",
        "\n",
        "\n",
        "    def __len__(self):\n",
        "        return len(self.multilabel_frame)\n",
        "\n",
        "    def __getitem__(self, idx):\n",
        "        if torch.is_tensor(idx):\n",
        "            idx = idx.tolist()\n",
        "\n",
        "        img_name = os.path.join(self.root_dir,\n",
        "                                self.multilabel_frame.iloc[idx, 0])\n",
        "        image = io.imread(img_name)\n",
        "        sample = {'image': image,\n",
        "                  'img_name': img_name,\n",
        "                  'gender': self.multilabel_frame.iloc[idx, 1],\n",
        "                  'item_type': self.multilabel_frame.iloc[idx, 2],\n",
        "                  }\n",
        "\n",
        "        if self.transform:\n",
        "            sample = self.transform(sample)\n",
        "\n",
        "        return sample"
      ],
      "execution_count": 35,
      "outputs": []
    },
    {
      "cell_type": "code",
      "metadata": {
        "id": "S5JJlhTlB0DM"
      },
      "source": [
        "class Rescale(object):\n",
        "    \"\"\"Rescale the image in a sample to a given size.\n",
        "\n",
        "    Args:\n",
        "        output_size (tuple or int): Desired output size. If tuple, output is\n",
        "            matched to output_size. If int, smaller of image edges is matched\n",
        "            to output_size keeping aspect ratio the same.\n",
        "    \"\"\"\n",
        "\n",
        "    def __init__(self, output_size):\n",
        "        assert isinstance(output_size, (int, tuple))\n",
        "        self.output_size = output_size\n",
        "\n",
        "    def __call__(self, sample):\n",
        "        image = sample['image']\n",
        "\n",
        "        h, w = image.shape[:2]\n",
        "        if isinstance(self.output_size, int):\n",
        "            if h > w:\n",
        "                new_h, new_w = self.output_size * h / w, self.output_size\n",
        "            else:\n",
        "                new_h, new_w = self.output_size, self.output_size * w / h\n",
        "        else:\n",
        "            new_h, new_w = self.output_size\n",
        "\n",
        "        new_h, new_w = int(new_h), int(new_w)\n",
        "\n",
        "        img = transform.resize(image, (new_h, new_w))\n",
        "        sample['image'] = img\n",
        "        return sample\n",
        "\n",
        "class ToTensor(object):\n",
        "    \"\"\"Convert ndarrays in sample to Tensors.\"\"\"\n",
        "\n",
        "    def __call__(self, sample):\n",
        "        image = sample['image']\n",
        "        # swap color axis because\n",
        "        # numpy image: H x W x C\n",
        "        # torch image: C X H X W\n",
        "        sample['image'] = torch.from_numpy(image.transpose((2, 0, 1)))\n",
        "        sample['labels_w2v_sum'] = torch.from_numpy(sample['labels_w2v_sum'])\n",
        "        sample['labels_one_hot'] = torch.from_numpy(sample['labels_one_hot'])\n",
        "  \n",
        "        return sample\n",
        "\n",
        "\n",
        "class ToTensorInference(object):\n",
        "    \"\"\"Convert ndarrays in sample to Tensors.\"\"\"\n",
        "\n",
        "    def __call__(self, sample):\n",
        "        image = sample['image']\n",
        "        # swap color axis because\n",
        "        # numpy image: H x W x C\n",
        "        # torch image: C X H X W\n",
        "        sample['image'] = torch.from_numpy(image.transpose((2, 0, 1)))\n",
        "  \n",
        "        return sample"
      ],
      "execution_count": 36,
      "outputs": []
    },
    {
      "cell_type": "code",
      "metadata": {
        "id": "dkrAjcmQBzlr",
        "colab": {
          "base_uri": "https://localhost:8080/"
        },
        "outputId": "b7f9fd8b-3cb6-4528-85e1-14b3cc7670d1"
      },
      "source": [
        "embeddings_dict.keys()"
      ],
      "execution_count": 37,
      "outputs": [
        {
          "output_type": "execute_result",
          "data": {
            "text/plain": [
              "dict_keys(['Belts', 'Churidar', 'Boys', 'Key chain', 'Steel', 'Swimwear', 'Turquoise Blue', 'Rose', 'Fragrance', 'Mushroom Brown', 'Pendant', 'Shoes', 'Highlighter and Blush', 'Salwar', 'Innerwear Vests', 'Trousers', 'Orange', 'Sandal', 'Perfume and Body Mist', 'Mask and Peel', 'Copper', 'Gloves', 'Eyewear', 'Watches', 'Sweaters', 'Sports Shoes', 'Footwear', 'Travel', 'Sports Sandals', 'Skirts', 'Smart Casual', 'Summer', 'Off White', 'Heels', 'Maroon', 'Bags', 'Blue', 'Deodorant', 'Bra', 'Saree', 'Lips', 'Compact', 'Headband', 'Green', 'Beige', 'Free Items', 'Boxers', 'Sarees', 'Casual', 'Sunglasses', 'Dresses', 'Casual Shoes', 'Tan', 'Fragrance Gift Set', 'Face Moisturisers', 'Multi', 'Sports Accessories', 'Nude', 'Kajal and Eyeliner', 'Bracelet', 'Jewellery Set', 'Tshirts', 'Suspenders', 'Duffel Bag', 'Messenger Bag', 'Brown', 'Lipstick', 'Stoles', 'Ties', 'Tops', 'Night suits', 'Makeup', 'Nightdress', 'Sweatshirts', 'Men', 'Jeggings', 'Kurtas', 'Jackets', 'Rompers', 'Black', 'Capris', 'Laptop Bag', 'Trunk', 'Bangle', 'Lip Gloss', 'White', 'Baby Dolls', 'Mufflers', 'Ring', 'Metallic', 'Wallets', 'Handbags', 'Lounge Pants', 'Ethnic', 'Nails', 'Tracksuits', 'Lime Green', 'Sunscreen', 'Sporting Goods', 'Silver', 'Eyes', 'Scarves', 'Headwear', 'Sports Equipment', 'Camisoles', 'Pink', 'Kurta Sets', 'Cream', 'Bath Robe', 'Bronze', 'Bottomwear', 'Grey', 'Teal', 'Shirts', 'Lounge Shorts', 'Taupe', 'Navy Blue', 'Skin', 'Flip Flops', 'Mobile Pouch', 'Face Wash and Cleanser', 'Women', 'Peach', 'Foundation and Primer', 'Jewellery', 'Formal', 'Mustard', 'Footballs', 'Apparel Set', 'Sea Green', 'Olive', 'Accessory Gift Set', 'Waist Pouch', 'Grey Melange', 'Girls', 'Leggings', 'Necklace and Chains', 'Flats', 'Dupatta', 'Rust', 'Hat', 'Formal Shoes', 'Yellow', 'Tunics', 'Skin Care', 'Accessories', 'Topwear', 'Charcoal', 'Shorts', 'Khaki', 'Purple', 'Nail Polish', 'Socks', 'Spring', 'Magenta', 'Coffee Brown', 'Winter', 'Patiala', 'Burgundy', 'Fall', 'Loungewear and Nightwear', 'Backpacks', 'Gold', 'Sports', 'Earrings', 'Kurtis', 'Lavender', 'Free Gifts', 'Sandals', 'Lip Liner', 'Caps', 'Personal Care', 'Unisex', 'Track Pants', 'Red', 'Briefs', 'Wristbands', 'Dress', 'Cufflinks', 'Clutches', 'Party', 'Apparel', 'Innerwear', 'Jeans'])"
            ]
          },
          "metadata": {
            "tags": []
          },
          "execution_count": 37
        }
      ]
    },
    {
      "cell_type": "markdown",
      "metadata": {
        "id": "85Br-3IICAYN"
      },
      "source": [
        "Making final Inference dataset"
      ]
    },
    {
      "cell_type": "code",
      "metadata": {
        "id": "R9Z-BDW_v6RA"
      },
      "source": [
        "inference_dataset = ClothesInference(csv_file='/content/drive/My Drive/EAST/Fashion_Data/reduced_inf.csv',\n",
        "                               root_dir='/content/drive/My Drive/EAST/Fashion_Data/',\n",
        "                               transform=transforms.Compose([\n",
        "                                               Rescale((256,256)),\n",
        "                                               ToTensorInference()]))"
      ],
      "execution_count": 38,
      "outputs": []
    },
    {
      "cell_type": "code",
      "metadata": {
        "id": "wwa60Q5RwKfY"
      },
      "source": [
        "#split into train and validation\n",
        "torch.manual_seed(0)\n",
        "n=len(inference_dataset)\n",
        "x=1\n",
        "train_set, val_set = torch.utils.data.random_split(inference_dataset, [int(x*n), n-int(x*n)])"
      ],
      "execution_count": 39,
      "outputs": []
    },
    {
      "cell_type": "code",
      "metadata": {
        "id": "zqIM2OhdwM5n"
      },
      "source": [
        "dataloader = DataLoader(inference_dataset, batch_size=32,\n",
        "                        shuffle=True)"
      ],
      "execution_count": 40,
      "outputs": []
    },
    {
      "cell_type": "code",
      "metadata": {
        "id": "rCu2S-T1wOQP",
        "colab": {
          "base_uri": "https://localhost:8080/"
        },
        "outputId": "f2d66b4a-031c-4fe9-8fc2-a84da354ef10"
      },
      "source": [
        "for i_batch, sample_batched in enumerate(dataloader):\n",
        "    print(i_batch, sample_batched['image'].size(),\n",
        "          sample_batched['gender'], sample_batched['item_type'])\n",
        "    if i_batch>2:\n",
        "      break"
      ],
      "execution_count": 41,
      "outputs": [
        {
          "output_type": "stream",
          "text": [
            "0 torch.Size([32, 3, 256, 256]) ['Men', 'Boys', 'Women', 'Men', 'Men', 'Men', 'Men', 'Men', 'Men', 'Men', 'Women', 'Women', 'Women', 'Men', 'Women', 'Women', 'Girls', 'Men', 'Men', 'Women', 'Men', 'Men', 'Men', 'Men', 'Women', 'Men', 'Men', 'Women', 'Unisex', 'Men', 'Men', 'Women'] ['Sandals, Flats, Heels & Shoes', 'Shirts, TShirts, Tops & Winterwear', 'Trousers, Track Pants, Capris & Lounge Pants', 'Shirts, TShirts, Tops & Winterwear', 'Shirts, TShirts, Tops & Winterwear', 'Shirts, TShirts, Tops & Winterwear', 'Jeans', 'Shirts, TShirts, Tops & Winterwear', 'Shorts', 'Shirts, TShirts, Tops & Winterwear', 'Sandals, Flats, Heels & Shoes', 'Shirts, TShirts, Tops & Winterwear', 'Shirts, TShirts, Tops & Winterwear', 'Shirts, TShirts, Tops & Winterwear', 'Shirts, TShirts, Tops & Winterwear', 'Shirts, TShirts, Tops & Winterwear', 'Shorts', 'Trousers, Track Pants, Capris & Lounge Pants', 'Shirts, TShirts, Tops & Winterwear', 'Skirts & Dresses', 'Shorts', 'Shirts, TShirts, Tops & Winterwear', 'Sandals, Flats, Heels & Shoes', 'Trousers, Track Pants, Capris & Lounge Pants', 'Shirts, TShirts, Tops & Winterwear', 'Shirts, TShirts, Tops & Winterwear', 'Shirts, TShirts, Tops & Winterwear', 'Shirts, TShirts, Tops & Winterwear', 'Sandals, Flats, Heels & Shoes', 'Shirts, TShirts, Tops & Winterwear', 'Shirts, TShirts, Tops & Winterwear', 'Shirts, TShirts, Tops & Winterwear']\n",
            "1 torch.Size([32, 3, 256, 256]) ['Men', 'Men', 'Men', 'Women', 'Women', 'Men', 'Men', 'Men', 'Men', 'Men', 'Men', 'Men', 'Women', 'Men', 'Women', 'Unisex', 'Women', 'Boys', 'Boys', 'Men', 'Men', 'Women', 'Men', 'Men', 'Men', 'Women', 'Women', 'Men', 'Men', 'Men', 'Men', 'Women'] ['Jeans', 'Shirts, TShirts, Tops & Winterwear', 'Sandals, Flats, Heels & Shoes', 'Sandals, Flats, Heels & Shoes', 'Shirts, TShirts, Tops & Winterwear', 'Shirts, TShirts, Tops & Winterwear', 'Shirts, TShirts, Tops & Winterwear', 'Sandals, Flats, Heels & Shoes', 'Shirts, TShirts, Tops & Winterwear', 'Shirts, TShirts, Tops & Winterwear', 'Trousers, Track Pants, Capris & Lounge Pants', 'Jeans', 'Sandals, Flats, Heels & Shoes', 'Shirts, TShirts, Tops & Winterwear', 'Sandals, Flats, Heels & Shoes', 'Sandals, Flats, Heels & Shoes', 'Sandals, Flats, Heels & Shoes', 'Shirts, TShirts, Tops & Winterwear', 'Shirts, TShirts, Tops & Winterwear', 'Shirts, TShirts, Tops & Winterwear', 'Sandals, Flats, Heels & Shoes', 'Skirts & Dresses', 'Sandals, Flats, Heels & Shoes', 'Shirts, TShirts, Tops & Winterwear', 'Shorts', 'Shirts, TShirts, Tops & Winterwear', 'Sandals, Flats, Heels & Shoes', 'Shirts, TShirts, Tops & Winterwear', 'Sandals, Flats, Heels & Shoes', 'Shirts, TShirts, Tops & Winterwear', 'Sandals, Flats, Heels & Shoes', 'Shirts, TShirts, Tops & Winterwear']\n",
            "2 torch.Size([32, 3, 256, 256]) ['Men', 'Men', 'Women', 'Men', 'Men', 'Men', 'Men', 'Men', 'Women', 'Men', 'Men', 'Women', 'Men', 'Women', 'Women', 'Women', 'Women', 'Women', 'Women', 'Men', 'Men', 'Men', 'Women', 'Men', 'Women', 'Women', 'Men', 'Men', 'Women', 'Women', 'Women', 'Women'] ['Shirts, TShirts, Tops & Winterwear', 'Shirts, TShirts, Tops & Winterwear', 'Sandals, Flats, Heels & Shoes', 'Shirts, TShirts, Tops & Winterwear', 'Shirts, TShirts, Tops & Winterwear', 'Night suits', 'Sandals, Flats, Heels & Shoes', 'Shirts, TShirts, Tops & Winterwear', 'Trousers, Track Pants, Capris & Lounge Pants', 'Shirts, TShirts, Tops & Winterwear', 'Sandals, Flats, Heels & Shoes', 'Sandals, Flats, Heels & Shoes', 'Sandals, Flats, Heels & Shoes', 'Shirts, TShirts, Tops & Winterwear', 'Sandals, Flats, Heels & Shoes', 'Trousers, Track Pants, Capris & Lounge Pants', 'Sandals, Flats, Heels & Shoes', 'Shirts, TShirts, Tops & Winterwear', 'Shirts, TShirts, Tops & Winterwear', 'Sandals, Flats, Heels & Shoes', 'Shirts, TShirts, Tops & Winterwear', 'Shorts', 'Trousers, Track Pants, Capris & Lounge Pants', 'Shirts, TShirts, Tops & Winterwear', 'Sandals, Flats, Heels & Shoes', 'Shirts, TShirts, Tops & Winterwear', 'Trousers, Track Pants, Capris & Lounge Pants', 'Shirts, TShirts, Tops & Winterwear', 'Shirts, TShirts, Tops & Winterwear', 'Jeans', 'Sandals, Flats, Heels & Shoes', 'Night suits']\n",
            "3 torch.Size([32, 3, 256, 256]) ['Men', 'Boys', 'Women', 'Women', 'Women', 'Men', 'Men', 'Unisex', 'Men', 'Girls', 'Men', 'Men', 'Men', 'Women', 'Women', 'Women', 'Women', 'Women', 'Men', 'Men', 'Women', 'Men', 'Women', 'Boys', 'Women', 'Men', 'Women', 'Men', 'Men', 'Men', 'Men', 'Men'] ['Shirts, TShirts, Tops & Winterwear', 'Shirts, TShirts, Tops & Winterwear', 'Skirts & Dresses', 'Sandals, Flats, Heels & Shoes', 'Shirts, TShirts, Tops & Winterwear', 'Shirts, TShirts, Tops & Winterwear', 'Shirts, TShirts, Tops & Winterwear', 'Sandals, Flats, Heels & Shoes', 'Sandals, Flats, Heels & Shoes', 'Shirts, TShirts, Tops & Winterwear', 'Sandals, Flats, Heels & Shoes', 'Shirts, TShirts, Tops & Winterwear', 'Shirts, TShirts, Tops & Winterwear', 'Trousers, Track Pants, Capris & Lounge Pants', 'Sandals, Flats, Heels & Shoes', 'Sandals, Flats, Heels & Shoes', 'Shirts, TShirts, Tops & Winterwear', 'Shorts', 'Shirts, TShirts, Tops & Winterwear', 'Shirts, TShirts, Tops & Winterwear', 'Shirts, TShirts, Tops & Winterwear', 'Trousers, Track Pants, Capris & Lounge Pants', 'Night suits', 'Shirts, TShirts, Tops & Winterwear', 'Shirts, TShirts, Tops & Winterwear', 'Shirts, TShirts, Tops & Winterwear', 'Sandals, Flats, Heels & Shoes', 'Shirts, TShirts, Tops & Winterwear', 'Sandals, Flats, Heels & Shoes', 'Shirts, TShirts, Tops & Winterwear', 'Shirts, TShirts, Tops & Winterwear', 'Trousers, Track Pants, Capris & Lounge Pants']\n"
          ],
          "name": "stdout"
        }
      ]
    },
    {
      "cell_type": "markdown",
      "metadata": {
        "id": "KjSHhdEmmJ3X"
      },
      "source": [
        "Extract the model embeddings"
      ]
    },
    {
      "cell_type": "code",
      "metadata": {
        "id": "F-YFUim-mJa0",
        "colab": {
          "base_uri": "https://localhost:8080/",
          "height": 100,
          "referenced_widgets": [
            "54ead2b9a13644458f5dd785a0b505d1",
            "ef69782132734520b009bb7ab590b497",
            "2198d9dd97c5489ebaa05e216c693983",
            "a47aaf8f4a3b4732b1e5eb4751725a35",
            "da4cc81229be4864a9ff0e80e210d1b0",
            "453ddaadadf448518ba895ca72c52db7",
            "642a2e298d7547aa9d6ddcc8c44d0d38",
            "f219652571324851b63c4883754b0588"
          ]
        },
        "outputId": "d5677322-9cba-459a-a817-10aa6a330584"
      },
      "source": [
        "PATH=\"/content/drive/MyDrive/EAST/Fashion_Data/Myntra_subset_joint_emb_model_full_v4.pth\"\n",
        "\n",
        "net = Model().cuda()\n",
        "net.load_state_dict(torch.load(PATH))"
      ],
      "execution_count": 42,
      "outputs": [
        {
          "output_type": "stream",
          "text": [
            "Downloading: \"https://download.pytorch.org/models/resnet34-333f7ec4.pth\" to /root/.cache/torch/hub/checkpoints/resnet34-333f7ec4.pth\n"
          ],
          "name": "stderr"
        },
        {
          "output_type": "display_data",
          "data": {
            "application/vnd.jupyter.widget-view+json": {
              "model_id": "54ead2b9a13644458f5dd785a0b505d1",
              "version_minor": 0,
              "version_major": 2
            },
            "text/plain": [
              "HBox(children=(FloatProgress(value=0.0, max=87306240.0), HTML(value='')))"
            ]
          },
          "metadata": {
            "tags": []
          }
        },
        {
          "output_type": "stream",
          "text": [
            "\n"
          ],
          "name": "stdout"
        },
        {
          "output_type": "execute_result",
          "data": {
            "text/plain": [
              "<All keys matched successfully>"
            ]
          },
          "metadata": {
            "tags": []
          },
          "execution_count": 42
        }
      ]
    },
    {
      "cell_type": "code",
      "metadata": {
        "id": "K4-G6ygfCONf",
        "colab": {
          "base_uri": "https://localhost:8080/",
          "height": 66,
          "referenced_widgets": [
            "da81f3b226264ef0a07c4162586ea3a3",
            "b5b0b582f30042729213117385c46357",
            "4fc95f9db6ae475399f9d38f91643d1f",
            "6b951fb5fcd34a0f83ae0b64710a69f0",
            "db398acd66bb4a04aadaf0e160b89595",
            "a36bf8a758354084a9d77c5e9ee5f3ee",
            "e4234f1687ab4e6aadfe6b9c41437fd6",
            "7d722a3c39504a3888eee9437b492a15"
          ]
        },
        "outputId": "8efbd3cf-80db-4406-a93a-4754bd4a1f38"
      },
      "source": [
        "from tqdm.notebook import tqdm_notebook\n",
        "import pickle\n",
        "\n",
        "df_inference={'img_name':[],'output':[],'h1':[], 'gender': [], 'item_type': []}\n",
        "i=0\n",
        "for data in tqdm_notebook(dataloader):\n",
        "    i+=1\n",
        "    net.eval()                     # model.eval() will notify all your layers that you are in eval mode, that way, batchnorm or dropout layers will work in eval mode instead of training mode.\n",
        "    with torch.no_grad():                            # torch.no_grad() impacts the autograd engine and deactivate it. It will reduce memory usage and speed up \n",
        "        X = data['image'].cuda()\n",
        "        h1,output = net(X.type(torch.float32))\n",
        "        df_inference['img_name'].extend(data['img_name'])\n",
        "        df_inference['gender'].extend(data['gender'])\n",
        "        df_inference['item_type'].extend(data['item_type'])\n",
        "        df_inference['h1'].extend([np.asarray(x) for x in h1.tolist()])\n",
        "        df_inference['output'].extend([np.asarray(x) for x in output.tolist()])\n",
        "    if i%100==0:\n",
        "        with open(f'/content/drive/MyDrive/EAST/Fashion_Data/Myntra_subset_joint_emb_model_full_v4.pth', 'wb') as handle:\n",
        "            pickle.dump(df_inference, handle, protocol=pickle.HIGHEST_PROTOCOL)\n",
        "        df_inference={'img_name':[],'output':[],'h1':[], 'gender': [], 'item_type': []}\n",
        "with open(f'/content/drive/MyDrive/EAST/Fashion_Data/Myntra_subset_joint_emb_model_full_v4.pth', 'wb') as handle:\n",
        "            pickle.dump(df_inference, handle, protocol=pickle.HIGHEST_PROTOCOL)"
      ],
      "execution_count": 43,
      "outputs": [
        {
          "output_type": "display_data",
          "data": {
            "application/vnd.jupyter.widget-view+json": {
              "model_id": "da81f3b226264ef0a07c4162586ea3a3",
              "version_minor": 0,
              "version_major": 2
            },
            "text/plain": [
              "HBox(children=(FloatProgress(value=0.0, max=9.0), HTML(value='')))"
            ]
          },
          "metadata": {
            "tags": []
          }
        },
        {
          "output_type": "stream",
          "text": [
            "\n"
          ],
          "name": "stdout"
        }
      ]
    },
    {
      "cell_type": "code",
      "metadata": {
        "colab": {
          "base_uri": "https://localhost:8080/"
        },
        "id": "kSDDPXyxM09-",
        "outputId": "aa096e13-482a-48a6-81de-3e7e30933c65"
      },
      "source": [
        "df_inference['output'][0]"
      ],
      "execution_count": 44,
      "outputs": [
        {
          "output_type": "execute_result",
          "data": {
            "text/plain": [
              "array([-5.991187, -6.18728 , -3.598719, -3.319857, ..., -9.476291, -7.653755, -5.431104, -5.000818])"
            ]
          },
          "metadata": {
            "tags": []
          },
          "execution_count": 44
        }
      ]
    },
    {
      "cell_type": "code",
      "metadata": {
        "id": "zwBH-4WiCRH3",
        "colab": {
          "base_uri": "https://localhost:8080/"
        },
        "outputId": "95b1e44d-ee15-4d4e-936e-b1f50f23ee0f"
      },
      "source": [
        "len(df_inference['output'])\n"
      ],
      "execution_count": 45,
      "outputs": [
        {
          "output_type": "execute_result",
          "data": {
            "text/plain": [
              "262"
            ]
          },
          "metadata": {
            "tags": []
          },
          "execution_count": 45
        }
      ]
    },
    {
      "cell_type": "code",
      "metadata": {
        "colab": {
          "base_uri": "https://localhost:8080/"
        },
        "id": "9Fc-db9jM8Um",
        "outputId": "e326d459-ba06-48df-966c-cadb14c28084"
      },
      "source": [
        "df_inference['h1'][0]"
      ],
      "execution_count": 46,
      "outputs": [
        {
          "output_type": "execute_result",
          "data": {
            "text/plain": [
              "array([-0.583869,  0.105705,  0.616359, -0.334199, ..., -0.307417,  0.455155, -0.495663,  0.362215])"
            ]
          },
          "metadata": {
            "tags": []
          },
          "execution_count": 46
        }
      ]
    },
    {
      "cell_type": "markdown",
      "metadata": {
        "id": "urXNssGSCU1N"
      },
      "source": [
        "Loading the embedding"
      ]
    },
    {
      "cell_type": "code",
      "metadata": {
        "id": "i-6yAMOsr47W"
      },
      "source": [
        "df_inference = pd.DataFrame(df_inference)"
      ],
      "execution_count": 50,
      "outputs": []
    },
    {
      "cell_type": "code",
      "metadata": {
        "colab": {
          "base_uri": "https://localhost:8080/"
        },
        "id": "ypYdd_n8NM9L",
        "outputId": "497c29c4-ec91-4e1c-e8c5-0bc5e2fd1b80"
      },
      "source": [
        "type(df_inference['output'][0][0])"
      ],
      "execution_count": 51,
      "outputs": [
        {
          "output_type": "execute_result",
          "data": {
            "text/plain": [
              "numpy.float64"
            ]
          },
          "metadata": {
            "tags": []
          },
          "execution_count": 51
        }
      ]
    },
    {
      "cell_type": "code",
      "metadata": {
        "colab": {
          "base_uri": "https://localhost:8080/"
        },
        "id": "0XI6KlGJO_Iv",
        "outputId": "47657648-e63c-4ac8-b332-42b621c8fb10"
      },
      "source": [
        "type(df_inference['h1'][0][0])"
      ],
      "execution_count": 52,
      "outputs": [
        {
          "output_type": "execute_result",
          "data": {
            "text/plain": [
              "numpy.float64"
            ]
          },
          "metadata": {
            "tags": []
          },
          "execution_count": 52
        }
      ]
    },
    {
      "cell_type": "code",
      "metadata": {
        "id": "txFtU8XvCdhX",
        "colab": {
          "base_uri": "https://localhost:8080/",
          "height": 204
        },
        "outputId": "e869124e-02dc-4d74-b347-ff126230246c"
      },
      "source": [
        "df_inference.head()"
      ],
      "execution_count": 53,
      "outputs": [
        {
          "output_type": "execute_result",
          "data": {
            "text/html": [
              "<div>\n",
              "<style scoped>\n",
              "    .dataframe tbody tr th:only-of-type {\n",
              "        vertical-align: middle;\n",
              "    }\n",
              "\n",
              "    .dataframe tbody tr th {\n",
              "        vertical-align: top;\n",
              "    }\n",
              "\n",
              "    .dataframe thead th {\n",
              "        text-align: right;\n",
              "    }\n",
              "</style>\n",
              "<table border=\"1\" class=\"dataframe\">\n",
              "  <thead>\n",
              "    <tr style=\"text-align: right;\">\n",
              "      <th></th>\n",
              "      <th>img_name</th>\n",
              "      <th>output</th>\n",
              "      <th>h1</th>\n",
              "      <th>gender</th>\n",
              "      <th>item_type</th>\n",
              "    </tr>\n",
              "  </thead>\n",
              "  <tbody>\n",
              "    <tr>\n",
              "      <th>0</th>\n",
              "      <td>/content/drive/My Drive/EAST/Fashion_Data/inf_...</td>\n",
              "      <td>[-5.99118709564209, -6.18727970123291, -3.5987...</td>\n",
              "      <td>[-0.5838689804077148, 0.10570487380027771, 0.6...</td>\n",
              "      <td>Men</td>\n",
              "      <td>Trousers, Track Pants, Capris &amp; Lounge Pants</td>\n",
              "    </tr>\n",
              "    <tr>\n",
              "      <th>1</th>\n",
              "      <td>/content/drive/My Drive/EAST/Fashion_Data/inf_...</td>\n",
              "      <td>[-6.113211154937744, -4.802948951721191, -5.81...</td>\n",
              "      <td>[0.31084102392196655, 0.8735003471374512, 1.11...</td>\n",
              "      <td>Unisex</td>\n",
              "      <td>Sandals, Flats, Heels &amp; Shoes</td>\n",
              "    </tr>\n",
              "    <tr>\n",
              "      <th>2</th>\n",
              "      <td>/content/drive/My Drive/EAST/Fashion_Data/inf_...</td>\n",
              "      <td>[-5.891845703125, -7.951299667358398, -5.88202...</td>\n",
              "      <td>[-0.04072350263595581, 0.04536805301904678, 1....</td>\n",
              "      <td>Men</td>\n",
              "      <td>Shirts, TShirts, Tops &amp; Winterwear</td>\n",
              "    </tr>\n",
              "    <tr>\n",
              "      <th>3</th>\n",
              "      <td>/content/drive/My Drive/EAST/Fashion_Data/inf_...</td>\n",
              "      <td>[-5.246817588806152, -5.479127407073975, -5.03...</td>\n",
              "      <td>[-0.28182196617126465, 0.4244784116744995, 1.1...</td>\n",
              "      <td>Men</td>\n",
              "      <td>Sandals, Flats, Heels &amp; Shoes</td>\n",
              "    </tr>\n",
              "    <tr>\n",
              "      <th>4</th>\n",
              "      <td>/content/drive/My Drive/EAST/Fashion_Data/inf_...</td>\n",
              "      <td>[-7.410897254943848, -9.20618724822998, -7.563...</td>\n",
              "      <td>[-0.14593505859375, 0.2836766541004181, 1.0425...</td>\n",
              "      <td>Men</td>\n",
              "      <td>Shirts, TShirts, Tops &amp; Winterwear</td>\n",
              "    </tr>\n",
              "  </tbody>\n",
              "</table>\n",
              "</div>"
            ],
            "text/plain": [
              "                                            img_name  ...                                     item_type\n",
              "0  /content/drive/My Drive/EAST/Fashion_Data/inf_...  ...  Trousers, Track Pants, Capris & Lounge Pants\n",
              "1  /content/drive/My Drive/EAST/Fashion_Data/inf_...  ...                 Sandals, Flats, Heels & Shoes\n",
              "2  /content/drive/My Drive/EAST/Fashion_Data/inf_...  ...            Shirts, TShirts, Tops & Winterwear\n",
              "3  /content/drive/My Drive/EAST/Fashion_Data/inf_...  ...                 Sandals, Flats, Heels & Shoes\n",
              "4  /content/drive/My Drive/EAST/Fashion_Data/inf_...  ...            Shirts, TShirts, Tops & Winterwear\n",
              "\n",
              "[5 rows x 5 columns]"
            ]
          },
          "metadata": {
            "tags": []
          },
          "execution_count": 53
        }
      ]
    },
    {
      "cell_type": "code",
      "metadata": {
        "id": "h52yv53qXQye"
      },
      "source": [
        "df_inference.to_csv('/content/drive/MyDrive/EAST/Fashion_Data/final_inf.csv', index=False)"
      ],
      "execution_count": null,
      "outputs": []
    },
    {
      "cell_type": "code",
      "metadata": {
        "id": "rSarzj0DuEt4",
        "colab": {
          "base_uri": "https://localhost:8080/"
        },
        "outputId": "f3f6ffad-eb23-42c8-9745-b53dcf2740b8"
      },
      "source": [
        "len(df_inference['output'][0])"
      ],
      "execution_count": 54,
      "outputs": [
        {
          "output_type": "execute_result",
          "data": {
            "text/plain": [
              "184"
            ]
          },
          "metadata": {
            "tags": []
          },
          "execution_count": 54
        }
      ]
    },
    {
      "cell_type": "code",
      "metadata": {
        "id": "mga6jEo-tmsB",
        "colab": {
          "base_uri": "https://localhost:8080/"
        },
        "outputId": "012b6ef6-425b-46a5-c9b9-2fd95c0a55df"
      },
      "source": [
        "len(df_inference['h1'][0])"
      ],
      "execution_count": 55,
      "outputs": [
        {
          "output_type": "execute_result",
          "data": {
            "text/plain": [
              "768"
            ]
          },
          "metadata": {
            "tags": []
          },
          "execution_count": 55
        }
      ]
    },
    {
      "cell_type": "code",
      "metadata": {
        "id": "lBIV9KErOtOd"
      },
      "source": [
        "#Sanity check ----IGNORE\n",
        "trial = df_inference['h1'].to_list() "
      ],
      "execution_count": null,
      "outputs": []
    },
    {
      "cell_type": "code",
      "metadata": {
        "id": "yjyY5hayPUyn"
      },
      "source": [
        "trial"
      ],
      "execution_count": null,
      "outputs": []
    },
    {
      "cell_type": "code",
      "metadata": {
        "id": "ZXHCnkh4ChGE",
        "colab": {
          "base_uri": "https://localhost:8080/"
        },
        "outputId": "a64b7079-c45e-4407-befb-6aeaa8a271b8"
      },
      "source": [
        "df_inference['item_type'].value_counts()"
      ],
      "execution_count": null,
      "outputs": [
        {
          "output_type": "execute_result",
          "data": {
            "text/plain": [
              "Shirts, TShirts, Tops & Winterwear              133\n",
              "Sandals, Flats, Heels & Shoes                    83\n",
              "Trousers, Track Pants, Capris & Lounge Pants     21\n",
              "Shorts                                           10\n",
              "Skirts & Dresses                                  7\n",
              "Jeans                                             5\n",
              "Night suits                                       3\n",
              "Name: item_type, dtype: int64"
            ]
          },
          "metadata": {
            "tags": []
          },
          "execution_count": 55
        }
      ]
    },
    {
      "cell_type": "code",
      "metadata": {
        "id": "6bLbMRalChQv",
        "colab": {
          "base_uri": "https://localhost:8080/"
        },
        "outputId": "297b5357-8090-4003-8fec-3c52ef6e05c8"
      },
      "source": [
        "df_inference.shape"
      ],
      "execution_count": null,
      "outputs": [
        {
          "output_type": "execute_result",
          "data": {
            "text/plain": [
              "(262, 5)"
            ]
          },
          "metadata": {
            "tags": []
          },
          "execution_count": 56
        }
      ]
    },
    {
      "cell_type": "code",
      "metadata": {
        "id": "jdfRdULmChMl",
        "colab": {
          "base_uri": "https://localhost:8080/"
        },
        "outputId": "52003d88-b4b4-4f8b-9fab-2e5fd7f923c8"
      },
      "source": [
        "df_inference['item_type'].unique()"
      ],
      "execution_count": 56,
      "outputs": [
        {
          "output_type": "execute_result",
          "data": {
            "text/plain": [
              "array(['Trousers, Track Pants, Capris & Lounge Pants', 'Sandals, Flats, Heels & Shoes',\n",
              "       'Shirts, TShirts, Tops & Winterwear', 'Jeans', 'Shorts', 'Skirts & Dresses', 'Night suits'], dtype=object)"
            ]
          },
          "metadata": {
            "tags": []
          },
          "execution_count": 56
        }
      ]
    },
    {
      "cell_type": "code",
      "metadata": {
        "id": "zwerrRFRCgm8",
        "colab": {
          "base_uri": "https://localhost:8080/"
        },
        "outputId": "31d58422-f32d-4427-f59f-e17fd98ce754"
      },
      "source": [
        "df_inference['gender'].unique()"
      ],
      "execution_count": 57,
      "outputs": [
        {
          "output_type": "execute_result",
          "data": {
            "text/plain": [
              "array(['Men', 'Unisex', 'Girls', 'Women', 'Boys'], dtype=object)"
            ]
          },
          "metadata": {
            "tags": []
          },
          "execution_count": 57
        }
      ]
    },
    {
      "cell_type": "code",
      "metadata": {
        "id": "DNCf_73GQDaA"
      },
      "source": [
        "df = df_inference"
      ],
      "execution_count": 58,
      "outputs": []
    },
    {
      "cell_type": "code",
      "metadata": {
        "id": "ENm8Sqg-Cokp"
      },
      "source": [
        "img_name= df_inference.iloc[232, 0]"
      ],
      "execution_count": 59,
      "outputs": []
    },
    {
      "cell_type": "code",
      "metadata": {
        "id": "NP-cfRntsb10",
        "colab": {
          "base_uri": "https://localhost:8080/",
          "height": 35
        },
        "outputId": "f37bd58d-6502-41a7-cc2a-acce496053b4"
      },
      "source": [
        "img_name"
      ],
      "execution_count": 60,
      "outputs": [
        {
          "output_type": "execute_result",
          "data": {
            "application/vnd.google.colaboratory.intrinsic+json": {
              "type": "string"
            },
            "text/plain": [
              "'/content/drive/My Drive/EAST/Fashion_Data/inf_img/47673.jpg'"
            ]
          },
          "metadata": {
            "tags": []
          },
          "execution_count": 60
        }
      ]
    },
    {
      "cell_type": "code",
      "metadata": {
        "id": "O-dEZpYDQtZp"
      },
      "source": [
        "#modify the training set \n",
        "train_df = pd.read_csv('/content/drive/MyDrive/EAST/Fashion_Data/train.csv')"
      ],
      "execution_count": 62,
      "outputs": []
    },
    {
      "cell_type": "code",
      "metadata": {
        "colab": {
          "base_uri": "https://localhost:8080/",
          "height": 419
        },
        "id": "QstNXzVbQ78d",
        "outputId": "392413ac-a373-4f6a-d207-797da366e452"
      },
      "source": [
        "train_df"
      ],
      "execution_count": 63,
      "outputs": [
        {
          "output_type": "execute_result",
          "data": {
            "text/html": [
              "<div>\n",
              "<style scoped>\n",
              "    .dataframe tbody tr th:only-of-type {\n",
              "        vertical-align: middle;\n",
              "    }\n",
              "\n",
              "    .dataframe tbody tr th {\n",
              "        vertical-align: top;\n",
              "    }\n",
              "\n",
              "    .dataframe thead th {\n",
              "        text-align: right;\n",
              "    }\n",
              "</style>\n",
              "<table border=\"1\" class=\"dataframe\">\n",
              "  <thead>\n",
              "    <tr style=\"text-align: right;\">\n",
              "      <th></th>\n",
              "      <th>gender</th>\n",
              "      <th>masterCategory</th>\n",
              "      <th>subCategory</th>\n",
              "      <th>articleType</th>\n",
              "      <th>baseColour</th>\n",
              "      <th>season</th>\n",
              "      <th>usage</th>\n",
              "      <th>fpath</th>\n",
              "      <th>labels</th>\n",
              "    </tr>\n",
              "  </thead>\n",
              "  <tbody>\n",
              "    <tr>\n",
              "      <th>0</th>\n",
              "      <td>Women</td>\n",
              "      <td>Apparel</td>\n",
              "      <td>Topwear</td>\n",
              "      <td>Tops</td>\n",
              "      <td>White</td>\n",
              "      <td>Summer</td>\n",
              "      <td>Casual</td>\n",
              "      <td>training_img/40435.jpg</td>\n",
              "      <td>Women;Apparel;Topwear;Tops;White;Summer;Casual</td>\n",
              "    </tr>\n",
              "    <tr>\n",
              "      <th>1</th>\n",
              "      <td>Men</td>\n",
              "      <td>Apparel</td>\n",
              "      <td>Topwear</td>\n",
              "      <td>Tshirts</td>\n",
              "      <td>Black</td>\n",
              "      <td>Fall</td>\n",
              "      <td>Sports</td>\n",
              "      <td>training_img/18612.jpg</td>\n",
              "      <td>Men;Apparel;Topwear;Tshirts;Black;Fall;Sports</td>\n",
              "    </tr>\n",
              "    <tr>\n",
              "      <th>2</th>\n",
              "      <td>Women</td>\n",
              "      <td>Accessories</td>\n",
              "      <td>Bags</td>\n",
              "      <td>Handbags</td>\n",
              "      <td>Blue</td>\n",
              "      <td>Winter</td>\n",
              "      <td>Casual</td>\n",
              "      <td>training_img/21998.jpg</td>\n",
              "      <td>Women;Accessories;Bags;Handbags;Blue;Winter;Ca...</td>\n",
              "    </tr>\n",
              "    <tr>\n",
              "      <th>3</th>\n",
              "      <td>Women</td>\n",
              "      <td>Accessories</td>\n",
              "      <td>Bags</td>\n",
              "      <td>Backpacks</td>\n",
              "      <td>Blue</td>\n",
              "      <td>Winter</td>\n",
              "      <td>Casual</td>\n",
              "      <td>training_img/25235.jpg</td>\n",
              "      <td>Women;Accessories;Bags;Backpacks;Blue;Winter;C...</td>\n",
              "    </tr>\n",
              "    <tr>\n",
              "      <th>4</th>\n",
              "      <td>Men</td>\n",
              "      <td>Footwear</td>\n",
              "      <td>Sandal</td>\n",
              "      <td>Sandals</td>\n",
              "      <td>Blue</td>\n",
              "      <td>Fall</td>\n",
              "      <td>Casual</td>\n",
              "      <td>training_img/8078.jpg</td>\n",
              "      <td>Men;Footwear;Sandal;Sandals;Blue;Fall;Casual</td>\n",
              "    </tr>\n",
              "    <tr>\n",
              "      <th>...</th>\n",
              "      <td>...</td>\n",
              "      <td>...</td>\n",
              "      <td>...</td>\n",
              "      <td>...</td>\n",
              "      <td>...</td>\n",
              "      <td>...</td>\n",
              "      <td>...</td>\n",
              "      <td>...</td>\n",
              "      <td>...</td>\n",
              "    </tr>\n",
              "    <tr>\n",
              "      <th>1978</th>\n",
              "      <td>Men</td>\n",
              "      <td>Apparel</td>\n",
              "      <td>Topwear</td>\n",
              "      <td>Shirts</td>\n",
              "      <td>Black</td>\n",
              "      <td>Fall</td>\n",
              "      <td>Formal</td>\n",
              "      <td>training_img/11109.jpg</td>\n",
              "      <td>Men;Apparel;Topwear;Shirts;Black;Fall;Formal</td>\n",
              "    </tr>\n",
              "    <tr>\n",
              "      <th>1979</th>\n",
              "      <td>Men</td>\n",
              "      <td>Accessories</td>\n",
              "      <td>Eyewear</td>\n",
              "      <td>Sunglasses</td>\n",
              "      <td>Brown</td>\n",
              "      <td>Winter</td>\n",
              "      <td>Casual</td>\n",
              "      <td>training_img/38213.jpg</td>\n",
              "      <td>Men;Accessories;Eyewear;Sunglasses;Brown;Winte...</td>\n",
              "    </tr>\n",
              "    <tr>\n",
              "      <th>1980</th>\n",
              "      <td>Women</td>\n",
              "      <td>Accessories</td>\n",
              "      <td>Bags</td>\n",
              "      <td>Clutches</td>\n",
              "      <td>Blue</td>\n",
              "      <td>Summer</td>\n",
              "      <td>Casual</td>\n",
              "      <td>training_img/31926.jpg</td>\n",
              "      <td>Women;Accessories;Bags;Clutches;Blue;Summer;Ca...</td>\n",
              "    </tr>\n",
              "    <tr>\n",
              "      <th>1981</th>\n",
              "      <td>Women</td>\n",
              "      <td>Apparel</td>\n",
              "      <td>Saree</td>\n",
              "      <td>Sarees</td>\n",
              "      <td>Pink</td>\n",
              "      <td>Summer</td>\n",
              "      <td>Ethnic</td>\n",
              "      <td>training_img/57976.jpg</td>\n",
              "      <td>Women;Apparel;Saree;Sarees;Pink;Summer;Ethnic</td>\n",
              "    </tr>\n",
              "    <tr>\n",
              "      <th>1982</th>\n",
              "      <td>Men</td>\n",
              "      <td>Accessories</td>\n",
              "      <td>Jewellery</td>\n",
              "      <td>Bracelet</td>\n",
              "      <td>Steel</td>\n",
              "      <td>Summer</td>\n",
              "      <td>Casual</td>\n",
              "      <td>training_img/48578.jpg</td>\n",
              "      <td>Men;Accessories;Jewellery;Bracelet;Steel;Summe...</td>\n",
              "    </tr>\n",
              "  </tbody>\n",
              "</table>\n",
              "<p>1983 rows × 9 columns</p>\n",
              "</div>"
            ],
            "text/plain": [
              "     gender  ...                                             labels\n",
              "0     Women  ...     Women;Apparel;Topwear;Tops;White;Summer;Casual\n",
              "1       Men  ...      Men;Apparel;Topwear;Tshirts;Black;Fall;Sports\n",
              "2     Women  ...  Women;Accessories;Bags;Handbags;Blue;Winter;Ca...\n",
              "3     Women  ...  Women;Accessories;Bags;Backpacks;Blue;Winter;C...\n",
              "4       Men  ...       Men;Footwear;Sandal;Sandals;Blue;Fall;Casual\n",
              "...     ...  ...                                                ...\n",
              "1978    Men  ...       Men;Apparel;Topwear;Shirts;Black;Fall;Formal\n",
              "1979    Men  ...  Men;Accessories;Eyewear;Sunglasses;Brown;Winte...\n",
              "1980  Women  ...  Women;Accessories;Bags;Clutches;Blue;Summer;Ca...\n",
              "1981  Women  ...      Women;Apparel;Saree;Sarees;Pink;Summer;Ethnic\n",
              "1982    Men  ...  Men;Accessories;Jewellery;Bracelet;Steel;Summe...\n",
              "\n",
              "[1983 rows x 9 columns]"
            ]
          },
          "metadata": {
            "tags": []
          },
          "execution_count": 63
        }
      ]
    },
    {
      "cell_type": "code",
      "metadata": {
        "id": "7xSDvbJbQ-zN"
      },
      "source": [
        "train_df = train_df.drop(['gender', 'masterCategory', 'subCategory', 'articleType', 'baseColour', 'season', 'usage'], axis=1)"
      ],
      "execution_count": 64,
      "outputs": []
    },
    {
      "cell_type": "code",
      "metadata": {
        "id": "gs7bWoewRPlf"
      },
      "source": [
        "train_df['labels'] = train_df['labels'].str.replace(';', ' ')"
      ],
      "execution_count": 65,
      "outputs": []
    },
    {
      "cell_type": "code",
      "metadata": {
        "colab": {
          "base_uri": "https://localhost:8080/",
          "height": 419
        },
        "id": "Rpww9AgSRdZG",
        "outputId": "567bf33d-b5bf-4b57-e5bf-d4207aedc98c"
      },
      "source": [
        "train_df"
      ],
      "execution_count": 66,
      "outputs": [
        {
          "output_type": "execute_result",
          "data": {
            "text/html": [
              "<div>\n",
              "<style scoped>\n",
              "    .dataframe tbody tr th:only-of-type {\n",
              "        vertical-align: middle;\n",
              "    }\n",
              "\n",
              "    .dataframe tbody tr th {\n",
              "        vertical-align: top;\n",
              "    }\n",
              "\n",
              "    .dataframe thead th {\n",
              "        text-align: right;\n",
              "    }\n",
              "</style>\n",
              "<table border=\"1\" class=\"dataframe\">\n",
              "  <thead>\n",
              "    <tr style=\"text-align: right;\">\n",
              "      <th></th>\n",
              "      <th>fpath</th>\n",
              "      <th>labels</th>\n",
              "    </tr>\n",
              "  </thead>\n",
              "  <tbody>\n",
              "    <tr>\n",
              "      <th>0</th>\n",
              "      <td>training_img/40435.jpg</td>\n",
              "      <td>Women Apparel Topwear Tops White Summer Casual</td>\n",
              "    </tr>\n",
              "    <tr>\n",
              "      <th>1</th>\n",
              "      <td>training_img/18612.jpg</td>\n",
              "      <td>Men Apparel Topwear Tshirts Black Fall Sports</td>\n",
              "    </tr>\n",
              "    <tr>\n",
              "      <th>2</th>\n",
              "      <td>training_img/21998.jpg</td>\n",
              "      <td>Women Accessories Bags Handbags Blue Winter Ca...</td>\n",
              "    </tr>\n",
              "    <tr>\n",
              "      <th>3</th>\n",
              "      <td>training_img/25235.jpg</td>\n",
              "      <td>Women Accessories Bags Backpacks Blue Winter C...</td>\n",
              "    </tr>\n",
              "    <tr>\n",
              "      <th>4</th>\n",
              "      <td>training_img/8078.jpg</td>\n",
              "      <td>Men Footwear Sandal Sandals Blue Fall Casual</td>\n",
              "    </tr>\n",
              "    <tr>\n",
              "      <th>...</th>\n",
              "      <td>...</td>\n",
              "      <td>...</td>\n",
              "    </tr>\n",
              "    <tr>\n",
              "      <th>1978</th>\n",
              "      <td>training_img/11109.jpg</td>\n",
              "      <td>Men Apparel Topwear Shirts Black Fall Formal</td>\n",
              "    </tr>\n",
              "    <tr>\n",
              "      <th>1979</th>\n",
              "      <td>training_img/38213.jpg</td>\n",
              "      <td>Men Accessories Eyewear Sunglasses Brown Winte...</td>\n",
              "    </tr>\n",
              "    <tr>\n",
              "      <th>1980</th>\n",
              "      <td>training_img/31926.jpg</td>\n",
              "      <td>Women Accessories Bags Clutches Blue Summer Ca...</td>\n",
              "    </tr>\n",
              "    <tr>\n",
              "      <th>1981</th>\n",
              "      <td>training_img/57976.jpg</td>\n",
              "      <td>Women Apparel Saree Sarees Pink Summer Ethnic</td>\n",
              "    </tr>\n",
              "    <tr>\n",
              "      <th>1982</th>\n",
              "      <td>training_img/48578.jpg</td>\n",
              "      <td>Men Accessories Jewellery Bracelet Steel Summe...</td>\n",
              "    </tr>\n",
              "  </tbody>\n",
              "</table>\n",
              "<p>1983 rows × 2 columns</p>\n",
              "</div>"
            ],
            "text/plain": [
              "                       fpath                                             labels\n",
              "0     training_img/40435.jpg     Women Apparel Topwear Tops White Summer Casual\n",
              "1     training_img/18612.jpg      Men Apparel Topwear Tshirts Black Fall Sports\n",
              "2     training_img/21998.jpg  Women Accessories Bags Handbags Blue Winter Ca...\n",
              "3     training_img/25235.jpg  Women Accessories Bags Backpacks Blue Winter C...\n",
              "4      training_img/8078.jpg       Men Footwear Sandal Sandals Blue Fall Casual\n",
              "...                      ...                                                ...\n",
              "1978  training_img/11109.jpg       Men Apparel Topwear Shirts Black Fall Formal\n",
              "1979  training_img/38213.jpg  Men Accessories Eyewear Sunglasses Brown Winte...\n",
              "1980  training_img/31926.jpg  Women Accessories Bags Clutches Blue Summer Ca...\n",
              "1981  training_img/57976.jpg      Women Apparel Saree Sarees Pink Summer Ethnic\n",
              "1982  training_img/48578.jpg  Men Accessories Jewellery Bracelet Steel Summe...\n",
              "\n",
              "[1983 rows x 2 columns]"
            ]
          },
          "metadata": {
            "tags": []
          },
          "execution_count": 66
        }
      ]
    },
    {
      "cell_type": "code",
      "metadata": {
        "id": "0ZYdFu18WlfF"
      },
      "source": [
        "trial_list=[train_df[train_df['fpath']==img].labels.tolist()[0].split(\" \") for img in x]"
      ],
      "execution_count": null,
      "outputs": []
    },
    {
      "cell_type": "code",
      "metadata": {
        "id": "fv5kOPMvRxFv"
      },
      "source": [
        "#Save the modified train csv file (now only contains fpath and multilabel)\n",
        "train_df.to_csv('/content/drive/MyDrive/EAST/Fashion_Data/train_multilabel.csv', index=False)"
      ],
      "execution_count": null,
      "outputs": []
    },
    {
      "cell_type": "code",
      "metadata": {
        "id": "s8eqvr9vB9mf"
      },
      "source": [
        "#Load the multilabel train csv\n",
        "train_df = pd.read_csv('/content/drive/MyDrive/EAST/Fashion_Data/train_multilabel.csv')"
      ],
      "execution_count": null,
      "outputs": []
    },
    {
      "cell_type": "markdown",
      "metadata": {
        "id": "4MKlW_hkCsR0"
      },
      "source": [
        "INFERENCE"
      ]
    },
    {
      "cell_type": "code",
      "metadata": {
        "id": "0k47AID74T_Z"
      },
      "source": [
        "def extract_filename(url):\n",
        "    x=Path(url)\n",
        "    return x.stem + x.suffix\n"
      ],
      "execution_count": 68,
      "outputs": []
    },
    {
      "cell_type": "code",
      "metadata": {
        "id": "uTv6_vaw4T8o",
        "colab": {
          "base_uri": "https://localhost:8080/",
          "height": 52
        },
        "outputId": "2b18ba2f-b474-44d3-d2d4-8fd9cc07f4fd"
      },
      "source": [
        "def get_output(module, input_value, output):\n",
        "    return output.flatten(1)\n",
        "\n",
        "def get_input(module, input_value, output):\n",
        "    return list(input_value)[0]\n",
        "\n",
        "'''def get_named_module_from_model(model, name):\n",
        "    for n, m in model.named_modules():\n",
        "        if n == name:\n",
        "            return m\n",
        "    return None\n",
        "def get_model_num(dl,idx):\n",
        "    return str(Path((dl.items[idx])).stem).split(\"__\")[0]\n",
        "    \n",
        "def get_model_num_df(df,idx):\n",
        "    return str(Path((df.img_id.values[idx])).stem).split(\"__\")[0]'''"
      ],
      "execution_count": 69,
      "outputs": [
        {
          "output_type": "execute_result",
          "data": {
            "application/vnd.google.colaboratory.intrinsic+json": {
              "type": "string"
            },
            "text/plain": [
              "'def get_named_module_from_model(model, name):\\n    for n, m in model.named_modules():\\n        if n == name:\\n            return m\\n    return None\\ndef get_model_num(dl,idx):\\n    return str(Path((dl.items[idx])).stem).split(\"__\")[0]\\n    \\ndef get_model_num_df(df,idx):\\n    return str(Path((df.img_id.values[idx])).stem).split(\"__\")[0]'"
            ]
          },
          "metadata": {
            "tags": []
          },
          "execution_count": 69
        }
      ]
    },
    {
      "cell_type": "code",
      "metadata": {
        "id": "EACYA53WE_2U"
      },
      "source": [
        "def qa_batch(fi,fwplus,fwsub,fir_batch): ## incoming fi tensor, fwplus np array, fwsub = np array, fir_batch tensor\n",
        "  ft=np.sum(fwplus,axis=0)-np.sum(fwsub,axis=0)      #refine text embedding \n",
        "  q=fi+ft                                            #add image and text embedding\n",
        "  q=torch.Tensor(q.float())\n",
        "  q_norm=nn.functional.normalize(q,p=2,dim=1)        #Normalize the combined embedding\n",
        "  fir_batch_norm=nn.functional.normalize(fir_batch,p=2,dim=1)      #Normalize the reference image embedding\n",
        "  sim_matrix=q_norm@fir_batch_norm.T                  #Calculate similarity between the reference image embedding and the combined text visual embedding \n",
        "  #sim_scores=torch.diag(sim_matrix)\n",
        "  return sim_matrix"
      ],
      "execution_count": 67,
      "outputs": []
    },
    {
      "cell_type": "code",
      "metadata": {
        "id": "IMJABOyOVvFs"
      },
      "source": [
        "def vs_batch(fi,fir_batch): ## incoming fi tensor, fwplus np array, fwsub = np array, fir_batch tensor\n",
        "  ft=np.sum(fwplus,axis=2)-np.sum(fwsub,axis=2)      #Calculate the text embedding as a combination of additive textual features and subtractive textual features\n",
        "  q=fi                                               # q here is only the image feature vector (image embedding)\n",
        "  q=torch.Tensor(q.float())\n",
        "  q_norm=nn.functional.normalize(q,p=2,dim=1)        #Normalize the image embedding \n",
        "  fir_batch_norm=nn.functional.normalize(fir_batch,p=2,dim=1)      #Normalize the reference image embedding \n",
        "  sim_matrix=q_norm@fir_batch_norm.T                 #Calculate the similarity between the two image embeddings\n",
        "  #sim_scores=torch.diag(sim_matrix)\n",
        "  return sim_matrix"
      ],
      "execution_count": 70,
      "outputs": []
    },
    {
      "cell_type": "code",
      "metadata": {
        "id": "QnT29M4YVvBC"
      },
      "source": [
        "#hOW DID YOU IMPLEMENT THE NAIVE BAYES P MATRIX\n",
        "def saf_batch(fi,ptilde_matrix,fir_batch,fwplus,fwsub,index,thresh=0.1,mode='Both'):\n",
        "    p_lst=[]\n",
        "    if mode==\"Both\":\n",
        "      fw=torch.Tensor(np.vstack((fwplus.squeeze(),fwsub.squeeze())))     #word embedding as a verically stacked additive and subtractive embedding vector\n",
        "    elif mode==\"plus\":\n",
        "      fw=torch.squeeze(torch.Tensor(fwplus),1)                           #word embedding as just additive embedding \n",
        "    elif mode==\"sub\":\n",
        "      fw=torch.squeeze(torch.Tensor(fwsub),1)                            #word embedding as just subtractive embedding\n",
        "    fw_norm=nn.functional.normalize(fw,p=2,dim=1)          #Normalize the feature vetor\n",
        "    fir_batch_norm=nn.functional.normalize(fir_batch,p=2,dim=1)     #Normalize the reference image\n",
        "    sim_matrix=fw_norm@fir_batch_norm.T                              #Calculate Cosine Similarity \n",
        "    sim_matrix=torch.nn.functional.relu(sim_matrix, inplace=False)    #Add relu non linearity \n",
        "    p_matrix=((ptilde_matrix+sim_matrix.T)/2).T                       # The outputs of this branch, {pˆw(I)}, are approximations of the probabilities for each word w in the vocabulary to belong to image I.\n",
        "    if mode=='Both':\n",
        "      p_out=torch.cat((p_matrix[:index],torch.ones(p_matrix[index:].shape)-p_matrix[index:]),dim=0)\n",
        "    elif mode=='plus':\n",
        "      p_out=p_matrix\n",
        "    elif mode=='sub':\n",
        "      p_out=torch.ones(p_matrix.shape)-p_matrix\n",
        "    return torch.prod(p_out,dim=0)  #returns pwi. multiply this with similarity score eith from the just visual similairty or text+visual similarity "
      ],
      "execution_count": 71,
      "outputs": []
    },
    {
      "cell_type": "code",
      "metadata": {
        "id": "-s02ikgp4Txk"
      },
      "source": [
        "def get_similar_batch(fi,df_inference,lst_wplus,lst_wsub,fwplus,fwsub,output,label_dict,method='QA',thresh=0.1):\n",
        "    df_inference=df_inference.reset_index()\n",
        "    x=df_inference['h1'].to_list()          #768 image fully connected embedding after relu non linearity\n",
        "    fir_batch=torch.Tensor(np.array(x))      #refernce image embedding to tensor\n",
        "    if method=='QA':\n",
        "        qa_score=qa_batch(fi,fwplus,fwsub,fir_batch)\n",
        "        df_inference['score']=qa_score.squeeze().tolist()\n",
        "    elif method=='SAF':\n",
        "        ptilde_plus=[]\n",
        "        if len(lst_wplus)>0:\n",
        "          for i,word in enumerate(lst_wplus):\n",
        "            phat=output.data[label_dict[word]]\n",
        "            ptilde=F.sigmoid((F.sigmoid(phat)-thresh)/thresh)\n",
        "            ptilde_plus.append(ptilde.item())\n",
        "        ptilde_sub=[]\n",
        "        if len(lst_wsub)>0:\n",
        "          for i,word in enumerate(lst_wsub):\n",
        "            phat=output.data[label_dict[word]]\n",
        "            ptilde=F.sigmoid((F.sigmoid(phat)-thresh)/thresh)\n",
        "            ptilde_sub.append(ptilde.item())\n",
        "        if len(lst_wsub)>0 and len(lst_wplus)>0:\n",
        "          ptilde_plus.extend(ptilde_sub)\n",
        "          ptilde_matrix=torch.Tensor(ptilde_plus)\n",
        "          saf_score=saf_batch(fi,ptilde_matrix,fir_batch,fwplus,fwsub,index=ptilde_matrix.shape[0]-len(ptilde_sub),mode='Both')\n",
        "        elif len(lst_wsub)>0:\n",
        "          ptilde_matrix=torch.Tensor(ptilde_sub)\n",
        "          saf_score=saf_batch(fi,ptilde_matrix,fir_batch,fwplus,fwsub,index=ptilde_matrix.shape,mode='sub')\n",
        "        elif len(lst_wplus)>0:\n",
        "          ptilde_matrix=torch.Tensor(ptilde_plus)\n",
        "          saf_score=saf_batch(fi,ptilde_matrix,fir_batch,fwplus,fwsub,index=ptilde_matrix.shape,mode='plus')\n",
        "        vs_score=vs_batch(fi,fir_batch)\n",
        "        df_inference['probability']=saf_score.squeeze().tolist()\n",
        "        df_inference['vs_score']=vs_score.squeeze().tolist()\n",
        "        df_inference['score']=df_inference.apply(lambda x : x['probability']*x['vs_score'],axis=1)\n",
        "    elif method=='QA+SAF':\n",
        "        ptilde_plus=[]\n",
        "        if len(lst_wplus)>0:\n",
        "          for i,word in enumerate(lst_wplus):\n",
        "            phat=output.data[label_dict[word]]\n",
        "            ptilde=F.sigmoid((F.sigmoid(phat)-thresh)/thresh)\n",
        "            ptilde_plus.append(ptilde.item())\n",
        "        ptilde_sub=[]\n",
        "        if len(lst_wsub)>0:\n",
        "          for i,word in enumerate(lst_wsub):\n",
        "            phat=output.data[label_dict[word]]\n",
        "            ptilde=F.sigmoid((F.sigmoid(phat)-thresh)/thresh)\n",
        "            ptilde_sub.append(ptilde.item())\n",
        "        if len(lst_wsub)>0 and len(lst_wplus)>0:\n",
        "          ptilde_plus.extend(ptilde_sub)\n",
        "          ptilde_matrix=torch.Tensor(ptilde_plus)\n",
        "          saf_score=saf_batch(fi,ptilde_matrix,fir_batch,fwplus,fwsub,index=ptilde_matrix.shape[0]-len(ptilde_sub),mode='Both')\n",
        "        elif len(lst_wsub)>0:\n",
        "          ptilde_matrix=torch.Tensor(ptilde_sub)\n",
        "          saf_score=saf_batch(fi,ptilde_matrix,fir_batch,fwplus,fwsub,index=ptilde_matrix.shape,mode='sub')\n",
        "        elif len(lst_wplus)>0:\n",
        "          ptilde_matrix=torch.Tensor(ptilde_plus)\n",
        "          saf_score=saf_batch(fi,ptilde_matrix,fir_batch,fwplus,fwsub,index=ptilde_matrix.shape,mode='plus')\n",
        "        qa_score=qa_batch(fi,fwplus,fwsub,fir_batch)\n",
        "        df_inference['probability']=saf_score.squeeze().tolist()\n",
        "        df_inference['qa_score']=qa_score.squeeze().tolist()\n",
        "        df_inference['score']=df_inference.apply(lambda x : x['probability']*x['qa_score'],axis=1)\n",
        "    return df_inference  \n"
      ],
      "execution_count": 72,
      "outputs": []
    },
    {
      "cell_type": "code",
      "metadata": {
        "colab": {
          "base_uri": "https://localhost:8080/"
        },
        "id": "-qzDSKe4Wdmw",
        "outputId": "81dceeb7-3038-401d-8d67-941af859f996"
      },
      "source": [
        "!pip install wget"
      ],
      "execution_count": 73,
      "outputs": [
        {
          "output_type": "stream",
          "text": [
            "Collecting wget\n",
            "  Downloading https://files.pythonhosted.org/packages/47/6a/62e288da7bcda82b935ff0c6cfe542970f04e29c756b0e147251b2fb251f/wget-3.2.zip\n",
            "Building wheels for collected packages: wget\n",
            "  Building wheel for wget (setup.py) ... \u001b[?25l\u001b[?25hdone\n",
            "  Created wheel for wget: filename=wget-3.2-cp36-none-any.whl size=9682 sha256=6e6b8e760b9a6cd16e38badb681708b6b99c3dbb53496a9661fece3b01d59f97\n",
            "  Stored in directory: /root/.cache/pip/wheels/40/15/30/7d8f7cea2902b4db79e3fea550d7d7b85ecb27ef992b618f3f\n",
            "Successfully built wget\n",
            "Installing collected packages: wget\n",
            "Successfully installed wget-3.2\n"
          ],
          "name": "stdout"
        }
      ]
    },
    {
      "cell_type": "code",
      "metadata": {
        "id": "k0HqUvAP4TvP"
      },
      "source": [
        "import zipfile\n",
        "import logging\n",
        "import wget\n",
        "\n",
        "logger = logging.getLogger(__name__)\n",
        "logger.setLevel(logging.DEBUG)\n",
        "\n",
        "JSON_CONTENT_TYPE = 'application/json' #??\n",
        "JPEG_CONTENT_TYPE = 'image/jpeg'        #??\n",
        "\n",
        "# loads the model into memory from disk and returns it\n",
        "def model_fn(model_dir):\n",
        "    #wget.download(\"https://launchpad-ai-gcs.s3-us-west-2.amazonaws.com/levis/myntra_data/filtered_csv/combined_levis_myntra_fash200_label_clean_v2.csv\")\n",
        "    #wget.download(\"https://launchpad-ai-gcs.s3-us-west-2.amazonaws.com/levis/deploy/model-v3_2/label_dict_comb_v3_.pkl\")\n",
        "    #wget.download(\"https://launchpad-ai-gcs.s3-us-west-2.amazonaws.com/levis/deploy/model-v3_2/comb_joint_emb_model_v3_2.pth\")\n",
        "    print('Beginning file download with wget bert tokens module')\n",
        "    #url = 'https://public.ukp.informatik.tu-darmstadt.de/reimers/sentence-transformers/v0.2/bert-base-nli-mean-tokens.zip'\n",
        "    #wget.download(url, '/content/drive/MyDrive/EAST/Fashion_Data/bert-model')\n",
        "    wget.download(\"https://public.ukp.informatik.tu-darmstadt.de/reimers/sentence-transformers/v0.2/bert-base-nli-mean-tokens.zip\")\n",
        "    os.makedirs('bert-model',exist_ok=True)\n",
        "    #wget.download(\"https://launchpadai.s3-us-west-2.amazonaws.com/df.parquet.gzip\")\n",
        "    print(\"Downloaded\")\n",
        "    PATH=\"/content/drive/MyDrive/EAST/Fashion_Data/Myntra_subset_joint_emb_model_full_v4.pkl\"\n",
        "    net = Model()\n",
        "    net.load_state_dict(torch.load(PATH, map_location=torch.device('cpu')))\n",
        "    net.eval()\n",
        "    print(\"Model Loaded\")\n",
        "    with zipfile.ZipFile(\"bert-base-nli-mean-tokens.zip\",\"r\") as zip_ref:\n",
        "        zip_ref.extractall(\"bert-model/\")\n",
        "    model = SentenceTransformer('./bert-model/')\n",
        "    '''dfs = []\n",
        "    for j in range(5):\n",
        "        wget.download(f\"https://launchpad-ai-gcs.s3-us-west-2.amazonaws.com/levis/deploy/model-v3_2/df_inference_levis_gender_item_filtered_v3_2_{j}.pkl\")\n",
        "        with open(f'df_inference_levis_gender_item_filtered_v3_2_{j}.pkl', 'rb') as handle:\n",
        "            b = pickle.load(handle)\n",
        "        dfs.append(pd.DataFrame(b))\n",
        "        os.remove(f\"df_inference_levis_gender_item_filtered_v3_2_{j}.pkl\")\n",
        "    df_inference = pd.concat(dfs)'''\n",
        "    df_inference = df \n",
        "    #pd.read_csv('/content/drive/MyDrive/EAST/Fashion_Data/final_inf.csv')\n",
        "    #df_inference=pd.read_parquet('df.parquet.gzip')\n",
        "    print(\"Df done\")\n",
        "    with open('/content/drive/MyDrive/EAST/Fashion_Data/Label_Embeddings.pkl', 'rb') as handle:\n",
        "      label_dict = pickle.load(handle)\n",
        "    df_multilabel=pd.read_csv(\"/content/drive/MyDrive/EAST/Fashion_Data/train_multilabel.csv\")            #What is this multilabel df?\n",
        "    print(\"model_fn done\")\n",
        "    return {\"model\":net,\"text_encoder\":model,\"label_dict\":label_dict,\"df_inference\":df_inference,\"df_multilabel\":df_multilabel}"
      ],
      "execution_count": 91,
      "outputs": []
    },
    {
      "cell_type": "code",
      "metadata": {
        "id": "_UW79kR44Tsf"
      },
      "source": [
        "import skimage\n",
        "# Deserialize the Invoke request body into an object we can perform prediction on\n",
        "def input_fn(request_body, content_type=JPEG_CONTENT_TYPE):\n",
        "    # process an image uploaded to the endpoint\n",
        "    if content_type == JSON_CONTENT_TYPE:\n",
        "        request=json.loads(request_body)\n",
        "        img_list=[]\n",
        "        for i in request['url']:\n",
        "            img_name=wget.download(i)\n",
        "            new_h,new_w=(256,256)\n",
        "            img_name = os.path.join('/content/',img_name)\n",
        "            image = skimage.io.imread(img_name)\n",
        "            img = transform.resize(image, (new_h, new_w))\n",
        "            X=torch.from_numpy(img.transpose((2, 0, 1)))\n",
        "        porter = PorterStemmer()\n",
        "        table = str.maketrans('', '', '!\"#$%&\\'()*+,./:;<=>?@[\\\\]^_`{|}~™®-’')\n",
        "        lst_wplus = []\n",
        "        for label in request.get('add_words',[]):\n",
        "            lst_wplus.extend(label.split(\" \"))\n",
        "        for i in range(len(lst_wplus)):\n",
        "            lst_wplus[i] = lst_wplus[i].translate(table).lower()\n",
        "            lst_wplus[i] = porter.stem(lst_wplus[i])\n",
        "        lst_wsub = []\n",
        "        for label in request.get('sub_words',[]):\n",
        "            lst_wsub.extend(label.split(\" \"))\n",
        "        for i in range(len(lst_wsub)):\n",
        "            lst_wsub[i] = lst_wsub[i].translate(table).lower()\n",
        "            lst_wsub[i] = porter.stem(lst_wsub[i])\n",
        "        return {'image':X,'lwplus':lst_wplus,'lwsub':lst_wsub,'item_type':request.get('item_type','All'),'gender':request.get('gender','All'),'img_name':img_name,'topk':request.get('topk',5)} \n",
        "    raise Exception('Requested unsupported ContentType in content_type: {}'.format(content_type))"
      ],
      "execution_count": 85,
      "outputs": []
    },
    {
      "cell_type": "code",
      "metadata": {
        "id": "i2cJW1KT4Tp1"
      },
      "source": [
        "# Perform prediction on the deserialized object, with the loaded model\n",
        "def predict_fn(input_object, learner):\n",
        "    df_multilabel=learner['df_multilabel']\n",
        "    model=learner['text_encoder']\n",
        "    net=learner['model']\n",
        "    label_dict=learner['label_dict']\n",
        "    df=learner['df_inference']\n",
        "    lst_wplus=input_object['lwplus']\n",
        "    lst_wsub=input_object['lwsub']\n",
        "    X=input_object['image']\n",
        "    fwplus=[]\n",
        "    for word in lst_wplus:\n",
        "        if len(word)>0:\n",
        "            emb=model.encode([word])\n",
        "        else:\n",
        "            emb=np.zeros((1,768))\n",
        "        fwplus.append(emb[0])\n",
        "    if len(lst_wplus)==0:\n",
        "      fwplus=np.zeros((1,768))\n",
        "    fwplus=np.array(fwplus)\n",
        "    fwsub=[]\n",
        "    for word in lst_wsub:\n",
        "        if len(word)>0:\n",
        "            emb=model.encode([word])\n",
        "        else:\n",
        "            emb=np.zeros((1,768))\n",
        "        fwsub.append(emb[0])\n",
        "    if len(lst_wsub)==0:\n",
        "      fwsub=np.zeros((1,768))\n",
        "    fwsub=np.array(fwsub)\n",
        "    fwplus=np.expand_dims(fwplus, axis=1)\n",
        "    fwsub=np.expand_dims(fwsub, axis=1)\n",
        "    fi,output=net(X.view(-1,X.shape[0],X.shape[1],X.shape[2]).type(torch.float32))\n",
        "    df_front=df\n",
        "    excluded_items= ['Wallets', 'Sunscreen', 'Pendant', 'Ring', 'Necklace and Chains', 'Nail Polish', 'Lipstick', 'Laptop Bag', 'Jewellery Set', 'Innerwear Vests', 'Highlighter and Blush', 'Handbags', 'Hair Colour', 'Perfume and Body Mist', 'Fragrance Gift Set', \n",
        "                    'Foundation and Primer', 'Eyeshadow', 'Earrings', 'Dupatta', 'Deodorant', 'Cufflinks', 'Compact', 'Clutches', 'Socks', 'Aprons', 'Backpacks', 'Bra', 'Briefs', 'Accessory Gift Set','Baby Dolls', 'Kurtas', 'Kurtis', 'Ties', 'Sarees', 'Trunk', \n",
        "                    'Salwar', 'Kurta Sets', 'Watches', 'Sunglasses', 'Mufflers', 'Belts', 'Gloves', 'Caps']\n",
        "    df_front=df_front[~df_front['item_type'].isin(excluded_items)]\n",
        "    if input_object['item_type']!='All':\n",
        "        df_front=df_front[df_front['item_type']==input_object['item_type']]\n",
        "    if input_object['gender']!='All':\n",
        "        df_front=df_front[df_front['gender']==input_object['gender']]\n",
        "    if len(df_front)>0:\n",
        "        try:\n",
        "            #n_cores=mp.cpu_count()\n",
        "            #df_split = np.array_split(df_front, n_cores)\n",
        "            #pool = Pool(n_cores)\n",
        "            #df_out=pd.concat(pool.starmap(get_similar,[(fi.detach().view(768,),df_front_split,lst_wplus,lst_wsub,fwplus,fwsub,output[0],label_dict,'QA+SAF') for df_front_split in df_split ]))\n",
        "            df_out=get_similar_batch(fi.detach().view(768,),df_front,lst_wplus,lst_wsub,fwplus,fwsub,output[0],label_dict,method='QA+SAF')\n",
        "            method='QA+SAF'\n",
        "        except Exception as e:\n",
        "            print(e)\n",
        "            #n_cores=mp.cpu_count()\n",
        "            #df_split = np.array_split(df_front, n_cores)\n",
        "            #pool = Pool(n_cores)\n",
        "            #df_out=pd.concat(pool.starmap(get_similar,[(fi.detach().view(768,),df_front,lst_wplus,lst_wsub,fwplus,fwsub,output[0],label_dict,'QA') for df_front_split in df_split ]))\n",
        "            df_out=get_similar_batch(fi.detach().view(768,),df_front,lst_wplus,lst_wsub,fwplus,fwsub,output[0],label_dict,method='QA')\n",
        "            method='QA'\n",
        "        if len(df_out)>=5:\n",
        "            x=df_out.nlargest(5,'score').img_name.tolist()\n",
        "            similarity_scores=df_out.nlargest(5,'score').score.tolist()\n",
        "            #label_list=[df_multilabel[df_multilabel['fpath']==img].labels.tolist()[0].split(\" \") for img in x] \n",
        "        else:\n",
        "            x=df_out.nlargest(len(df_out),'score').img_name.tolist()\n",
        "            print(x)\n",
        "            similarity_scores=df_out.nlargest(len(df_out),'score').score.tolist()\n",
        "            #label_list=[df_multilabel[df_multilabel['fpath']==img].labels.tolist()[0].split(\" \") for img in x] \n",
        "        os.remove(input_object['img_name'])\n",
        "        return dict(index=x,scores=similarity_scores,method=method,multilabel_output=torch.topk(F.sigmoid(output),k=input_object['topk'],axis=1).indices.tolist()[0],Status='Success')\n",
        "        #return dict(index=extract_s3_link(x),scores=similarity_scores,method=method,multilabel_output=torch.topk(F.sigmoid(output),k=input_object['topk'],axis=1).indices.tolist()[0],Status='Success')\n",
        "    else:\n",
        "        os.remove(input_object['img_name'])\n",
        "        return dict(index=[],scores=[],method='',multilabel_output=torch.topk(F.sigmoid(output),k=input_object['topk'],axis=1).indices.tolist()[0],Status='No Match')"
      ],
      "execution_count": 149,
      "outputs": []
    },
    {
      "cell_type": "code",
      "metadata": {
        "id": "_IdLJ2AN4Tn2"
      },
      "source": [
        "# Serialize the prediction result into the desired response content type\n",
        "def output_fn(prediction, accept=JSON_CONTENT_TYPE):        \n",
        "    logger.info('Serializing the generated output.')\n",
        "    print(\"Output started\")\n",
        "    if accept == JSON_CONTENT_TYPE: return json.dumps(prediction), accept\n",
        "    raise Exception('Requested unsupported ContentType in Accept: {}'.format(accept))\n",
        "\n",
        "#def post_process(x):\n",
        "  #return x.replace('/levis','/levis/').replace('/myntra_','/myntra/myntra_')"
      ],
      "execution_count": 87,
      "outputs": []
    },
    {
      "cell_type": "markdown",
      "metadata": {
        "id": "zQx0_NfnK7e0"
      },
      "source": [
        "IMPORT IMAGE AND RUN INFERENCE"
      ]
    },
    {
      "cell_type": "code",
      "metadata": {
        "colab": {
          "base_uri": "https://localhost:8080/"
        },
        "id": "MudK6ZhiUJ8x",
        "outputId": "16f31e38-753c-4b43-d3ac-3f859a5a1d1a"
      },
      "source": [
        "!which wget"
      ],
      "execution_count": 88,
      "outputs": [
        {
          "output_type": "stream",
          "text": [
            "/usr/bin/wget\n"
          ],
          "name": "stdout"
        }
      ]
    },
    {
      "cell_type": "code",
      "metadata": {
        "id": "m0pTGjjY4Tlu"
      },
      "source": [
        "import re\n",
        "from PIL import Image"
      ],
      "execution_count": 89,
      "outputs": []
    },
    {
      "cell_type": "code",
      "metadata": {
        "id": "294btSMt4TjF",
        "colab": {
          "base_uri": "https://localhost:8080/"
        },
        "outputId": "bd796931-ebe9-4147-a10b-97cea87676bd"
      },
      "source": [
        "learner=model_fn(\"/content/drive/Mydrive/EAST\")"
      ],
      "execution_count": 92,
      "outputs": [
        {
          "output_type": "stream",
          "text": [
            "Beginning file download with wget bert tokens module\n",
            "Downloaded\n",
            "Model Loaded\n",
            "Df done\n",
            "model_fn done\n"
          ],
          "name": "stdout"
        }
      ]
    },
    {
      "cell_type": "code",
      "metadata": {
        "id": "8rScymgm4ThU",
        "colab": {
          "base_uri": "https://localhost:8080/",
          "height": 49,
          "referenced_widgets": [
            "916403454c664d339f5b2094917caa2f",
            "910711b4adc64d168881f7c54204df84",
            "3c5a760b3445484692c3bab26ee5f249"
          ]
        },
        "outputId": "d0792e7f-4213-4cee-be23-fc6d23fccd28"
      },
      "source": [
        "gender=widgets.Dropdown(\n",
        "    options=['All','Women', 'Men', 'Unisex', 'Boys', 'Girls'],\n",
        "    value='All',\n",
        "    description='Gender:',\n",
        "    disabled=False,\n",
        ")\n",
        "display(gender)"
      ],
      "execution_count": 93,
      "outputs": [
        {
          "output_type": "display_data",
          "data": {
            "application/vnd.jupyter.widget-view+json": {
              "model_id": "916403454c664d339f5b2094917caa2f",
              "version_minor": 0,
              "version_major": 2
            },
            "text/plain": [
              "Dropdown(description='Gender:', options=('All', 'Women', 'Men', 'Unisex', 'Boys', 'Girls'), value='All')"
            ]
          },
          "metadata": {
            "tags": []
          }
        }
      ]
    },
    {
      "cell_type": "code",
      "metadata": {
        "id": "bi4G12954Tfe",
        "colab": {
          "base_uri": "https://localhost:8080/",
          "height": 49,
          "referenced_widgets": [
            "246b154b4b554b3e88af53b653359e32",
            "699830157c5743569454a55e18722608",
            "850161b8bcb64d2195e1a71e07f702b6"
          ]
        },
        "outputId": "dda079ab-ea8f-456d-f8d5-516d769bc2d0"
      },
      "source": [
        "item_type=widgets.Dropdown(\n",
        "    options=['All', 'Shirts, TShirts, Tops & Winterwear', 'Sandals, Flats, Heels & Shoes', 'Night suits', 'Skirts & Dresses',\n",
        "       'Trousers, Track Pants, Capris & Lounge Pants', 'Jeans', 'Shorts'],\n",
        "    value='All',\n",
        "    description='Item Type:',\n",
        "    disabled=False,\n",
        ")\n",
        "display(item_type)"
      ],
      "execution_count": 94,
      "outputs": [
        {
          "output_type": "display_data",
          "data": {
            "application/vnd.jupyter.widget-view+json": {
              "model_id": "246b154b4b554b3e88af53b653359e32",
              "version_minor": 0,
              "version_major": 2
            },
            "text/plain": [
              "Dropdown(description='Item Type:', options=('All', 'Shirts, TShirts, Tops & Winterwear', 'Sandals, Flats, Heel…"
            ]
          },
          "metadata": {
            "tags": []
          }
        }
      ]
    },
    {
      "cell_type": "code",
      "metadata": {
        "id": "QAepxN4F4TbH",
        "colab": {
          "base_uri": "https://localhost:8080/"
        },
        "outputId": "c7cbb7c8-a1c9-4319-b1b5-2dfb5939d529"
      },
      "source": [
        "print(str(item_type.value), str(gender.value))"
      ],
      "execution_count": 95,
      "outputs": [
        {
          "output_type": "stream",
          "text": [
            "All All\n"
          ],
          "name": "stdout"
        }
      ]
    },
    {
      "cell_type": "code",
      "metadata": {
        "id": "pbGjBC8x4TVx"
      },
      "source": [
        "url=\"https://static.cilory.com/244534-thickbox_default/levis-navy-polo-t-shirt.jpg\"\n",
        "data={\"url\":[url],\"add_words\": [],\"sub_words\":[\"Blue\"],'gender':gender.value,'item_type':item_type.value,'topk':5}\n",
        "request_body=json.dumps(data)"
      ],
      "execution_count": 96,
      "outputs": []
    },
    {
      "cell_type": "code",
      "metadata": {
        "id": "e-P0l0kmLGTv",
        "colab": {
          "base_uri": "https://localhost:8080/",
          "height": 308
        },
        "outputId": "d537e5d3-75b9-4d0b-b702-b48b1e2cc834"
      },
      "source": [
        "import urllib\n",
        "w=30\n",
        "h=10\n",
        "fig=plt.figure(figsize=(20, 10))\n",
        "rows=int(len(data['url'])/5)+1\n",
        "columns = 5\n",
        "for i in range(0, len(data['url'])):\n",
        "  f = urllib.request.urlopen(data['url'][i])\n",
        "  a = plt.imread(f,0)\n",
        "  fig.add_subplot(rows, columns, i+1)\n",
        "  plt.imshow(a)\n",
        "plt.show()"
      ],
      "execution_count": 97,
      "outputs": [
        {
          "output_type": "display_data",
          "data": {
            "image/png": "[encoded data removed]",
            "text/plain": [
              "<Figure size 1440x720 with 1 Axes>"
            ]
          },
          "metadata": {
            "tags": [],
            "needs_background": "light"
          }
        }
      ]
    },
    {
      "cell_type": "code",
      "metadata": {
        "id": "b0MBZZD2LGRP",
        "colab": {
          "base_uri": "https://localhost:8080/",
          "height": 35
        },
        "outputId": "37900b40-91f6-4f4a-f18f-ef5dffea9f7c"
      },
      "source": [
        "JSON_CONTENT_TYPE"
      ],
      "execution_count": 98,
      "outputs": [
        {
          "output_type": "execute_result",
          "data": {
            "application/vnd.google.colaboratory.intrinsic+json": {
              "type": "string"
            },
            "text/plain": [
              "'application/json'"
            ]
          },
          "metadata": {
            "tags": []
          },
          "execution_count": 98
        }
      ]
    },
    {
      "cell_type": "code",
      "metadata": {
        "id": "J6-nqepjLGOa"
      },
      "source": [
        "input_object=input_fn(request_body, content_type=JSON_CONTENT_TYPE)"
      ],
      "execution_count": 150,
      "outputs": []
    },
    {
      "cell_type": "code",
      "metadata": {
        "colab": {
          "base_uri": "https://localhost:8080/"
        },
        "id": "Ba4sXthxXMBp",
        "outputId": "14bea3e6-819c-4574-c484-c1821ce82f98"
      },
      "source": [
        "input_object['lwsub']"
      ],
      "execution_count": 151,
      "outputs": [
        {
          "output_type": "execute_result",
          "data": {
            "text/plain": [
              "['blue']"
            ]
          },
          "metadata": {
            "tags": []
          },
          "execution_count": 151
        }
      ]
    },
    {
      "cell_type": "code",
      "metadata": {
        "id": "YgTuv7QMLGLU",
        "colab": {
          "base_uri": "https://localhost:8080/"
        },
        "outputId": "8dd7a179-8c20-4e04-a74b-b7afadc2eb6c"
      },
      "source": [
        "import time\n",
        "then=time.time()\n",
        "prediction=predict_fn(input_object, learner)\n",
        "now=time.time()\n"
      ],
      "execution_count": 152,
      "outputs": [
        {
          "output_type": "stream",
          "text": [
            "'blue'\n"
          ],
          "name": "stdout"
        }
      ]
    },
    {
      "cell_type": "code",
      "metadata": {
        "id": "ajZcKnHbLPqQ",
        "colab": {
          "base_uri": "https://localhost:8080/"
        },
        "outputId": "c2f847d3-e689-4129-cdff-0a2cd8b47e38"
      },
      "source": [
        "prediction"
      ],
      "execution_count": 153,
      "outputs": [
        {
          "output_type": "execute_result",
          "data": {
            "text/plain": [
              "{'Status': 'Success',\n",
              " 'index': ['/content/drive/My Drive/EAST/Fashion_Data/inf_img/13782.jpg',\n",
              "  '/content/drive/My Drive/EAST/Fashion_Data/inf_img/10066.jpg',\n",
              "  '/content/drive/My Drive/EAST/Fashion_Data/inf_img/32644.jpg',\n",
              "  '/content/drive/My Drive/EAST/Fashion_Data/inf_img/22632.jpg',\n",
              "  '/content/drive/My Drive/EAST/Fashion_Data/inf_img/26166.jpg'],\n",
              " 'method': 'QA',\n",
              " 'multilabel_output': [164, 60, 148, 114, 104],\n",
              " 'scores': [0.6710314750671387,\n",
              "  0.6173495650291443,\n",
              "  0.6097106337547302,\n",
              "  0.6004024147987366,\n",
              "  0.596357524394989]}"
            ]
          },
          "metadata": {
            "tags": []
          },
          "execution_count": 153
        }
      ]
    },
    {
      "cell_type": "code",
      "metadata": {
        "id": "9LdoqEL-LPvb",
        "colab": {
          "base_uri": "https://localhost:8080/"
        },
        "outputId": "4b2d4d87-62eb-4011-cae7-078bf1fd5d8c"
      },
      "source": [
        "print(now-then)"
      ],
      "execution_count": 154,
      "outputs": [
        {
          "output_type": "stream",
          "text": [
            "0.19890666007995605\n"
          ],
          "name": "stdout"
        }
      ]
    },
    {
      "cell_type": "code",
      "metadata": {
        "id": "v3SszcqLLPlV"
      },
      "source": [
        "prediction['index']=[post_process(x) for x in prediction['index']]\n",
        "prediction['index']"
      ],
      "execution_count": null,
      "outputs": []
    },
    {
      "cell_type": "code",
      "metadata": {
        "colab": {
          "base_uri": "https://localhost:8080/"
        },
        "id": "hIUQJ7XMj-vN",
        "outputId": "d06ada58-56c0-42fb-951c-74c64fc444c5"
      },
      "source": [
        "prediction['index']"
      ],
      "execution_count": 155,
      "outputs": [
        {
          "output_type": "execute_result",
          "data": {
            "text/plain": [
              "['/content/drive/My Drive/EAST/Fashion_Data/inf_img/13782.jpg',\n",
              " '/content/drive/My Drive/EAST/Fashion_Data/inf_img/10066.jpg',\n",
              " '/content/drive/My Drive/EAST/Fashion_Data/inf_img/32644.jpg',\n",
              " '/content/drive/My Drive/EAST/Fashion_Data/inf_img/22632.jpg',\n",
              " '/content/drive/My Drive/EAST/Fashion_Data/inf_img/26166.jpg']"
            ]
          },
          "metadata": {
            "tags": []
          },
          "execution_count": 155
        }
      ]
    },
    {
      "cell_type": "code",
      "metadata": {
        "id": "PrhiOAy0LZfV",
        "colab": {
          "base_uri": "https://localhost:8080/",
          "height": 314
        },
        "outputId": "f90b0bd1-c581-4ba6-8d7a-b9f7725cf4ce"
      },
      "source": [
        "import urllib\n",
        "%pylab inline\n",
        "import matplotlib.pyplot as plt\n",
        "import matplotlib.image as mpimg\n",
        "\n",
        "\n",
        "hdr = {'User-Agent': 'Mozilla/5.0 (X11; Linux x86_64) AppleWebKit/537.11 (KHTML, like Gecko) Chrome/23.0.1271.64 Safari/537.11',\n",
        "       'Accept': 'text/html,application/xhtml+xml,application/xml;q=0.9,*/*;q=0.8',\n",
        "       'Accept-Charset': 'ISO-8859-1,utf-8;q=0.7,*;q=0.3',\n",
        "       'Accept-Encoding': 'none',\n",
        "       'Accept-Language': 'en-US,en;q=0.8',\n",
        "       'Connection': 'keep-alive'}\n",
        "\n",
        "w=30\n",
        "h=10\n",
        "fig=plt.figure(figsize=(20, 10))\n",
        "rows=int(len(prediction['index'])/5)+1\n",
        "columns = 5\n",
        "for i in range(0, len(prediction['index'])):\n",
        "  f = prediction['index'][i]\n",
        "  #req=urllib.request.Request(prediction['index'][i], headers=hdr)\n",
        "  #f = urllib.request.urlopen(req)\n",
        "  a = plt.imread(f,0)\n",
        "  fig.add_subplot(rows, columns, i+1)\n",
        "  plt.imshow(a)\n",
        "plt.show()"
      ],
      "execution_count": 158,
      "outputs": [
        {
          "output_type": "stream",
          "text": [
            "Populating the interactive namespace from numpy and matplotlib\n"
          ],
          "name": "stdout"
        },
        {
          "output_type": "display_data",
          "data": {
            "image/png": "[encoded data removed]",
            "text/plain": [
              "<Figure size 1440x720 with 5 Axes>"
            ]
          },
          "metadata": {
            "tags": [],
            "needs_background": "light"
          }
        }
      ]
    }
  ]
}